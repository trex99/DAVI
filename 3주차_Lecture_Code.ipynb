{
  "nbformat": 4,
  "nbformat_minor": 0,
  "metadata": {
    "colab": {
      "provenance": [],
      "toc_visible": true,
      "authorship_tag": "ABX9TyOwdEqGxoT//n4+fVj2RKx6",
      "include_colab_link": true
    },
    "kernelspec": {
      "name": "python3",
      "display_name": "Python 3"
    },
    "language_info": {
      "name": "python"
    }
  },
  "cells": [
    {
      "cell_type": "markdown",
      "metadata": {
        "id": "view-in-github",
        "colab_type": "text"
      },
      "source": [
        "<a href=\"https://colab.research.google.com/github/trex99/DAVI/blob/main/3%EC%A3%BC%EC%B0%A8_Lecture_Code.ipynb\" target=\"_parent\"><img src=\"https://colab.research.google.com/assets/colab-badge.svg\" alt=\"Open In Colab\"/></a>"
      ]
    },
    {
      "cell_type": "markdown",
      "source": [
        "# 라이브러리(패키지) 관리 (설치, 삭제)"
      ],
      "metadata": {
        "id": "-EVmzYp1MDML"
      }
    },
    {
      "cell_type": "markdown",
      "source": [
        "## 라이브러리 설치"
      ],
      "metadata": {
        "id": "-VeSUET5MwNa"
      }
    },
    {
      "cell_type": "markdown",
      "source": [
        "- pip install "
      ],
      "metadata": {
        "id": "By5AjQOJb-O9"
      }
    },
    {
      "cell_type": "markdown",
      "source": [
        "## 라이브러리 삭제"
      ],
      "metadata": {
        "id": "oaey_X4IMnjV"
      }
    },
    {
      "cell_type": "markdown",
      "source": [
        "- pip uninstall "
      ],
      "metadata": {
        "id": "AbpbYEOz1i1X"
      }
    },
    {
      "cell_type": "markdown",
      "source": [
        "# numpy 패키지"
      ],
      "metadata": {
        "id": "xSCMdrHEMnbm"
      }
    },
    {
      "cell_type": "markdown",
      "source": [
        "## 설치"
      ],
      "metadata": {
        "id": "K2qOrC0TM_vr"
      }
    },
    {
      "cell_type": "markdown",
      "source": [
        "- pip install numpy"
      ],
      "metadata": {
        "id": "teWNt6-Vh0Hx"
      }
    },
    {
      "cell_type": "markdown",
      "source": [
        "## 삭제"
      ],
      "metadata": {
        "id": "23bJsLSYNFae"
      }
    },
    {
      "cell_type": "markdown",
      "source": [
        "- pip uninstall numpy"
      ],
      "metadata": {
        "id": "CppHUnwjh4to"
      }
    },
    {
      "cell_type": "markdown",
      "source": [
        "## 활용"
      ],
      "metadata": {
        "id": "xSKOkD-TQuKV"
      }
    },
    {
      "cell_type": "code",
      "source": [
        "# 패키지를 사용하기 위한 최초 1회 실행\n",
        "import numpy as np"
      ],
      "metadata": {
        "id": "EztFwOts1lje"
      },
      "execution_count": null,
      "outputs": []
    },
    {
      "cell_type": "code",
      "source": [
        "# C\n",
        "a_list = [1,2,3,4,5]\n",
        "a1 = np.array(a_list)\n",
        "a1"
      ],
      "metadata": {
        "colab": {
          "base_uri": "https://localhost:8080/"
        },
        "id": "wPFRAhk0R2ts",
        "outputId": "59ffc45d-704b-4a49-91ac-69f7bddec418"
      },
      "execution_count": 12,
      "outputs": [
        {
          "output_type": "execute_result",
          "data": {
            "text/plain": [
              "array([1, 2, 3, 4, 5])"
            ]
          },
          "metadata": {},
          "execution_count": 12
        }
      ]
    },
    {
      "cell_type": "code",
      "source": [
        "# C\n",
        "import numpy as np\n",
        "sample_list = [1, 2, 3]\n",
        "np_array = np.array(sample_list)\n",
        "print(np_array)\n",
        "print(type(np_array))"
      ],
      "metadata": {
        "colab": {
          "base_uri": "https://localhost:8080/"
        },
        "id": "ELpV6wBmzRY-",
        "outputId": "32de72db-4d55-4941-ef4b-5b7212c24794"
      },
      "execution_count": 13,
      "outputs": [
        {
          "output_type": "stream",
          "name": "stdout",
          "text": [
            "[1 2 3]\n",
            "<class 'numpy.ndarray'>\n"
          ]
        }
      ]
    },
    {
      "cell_type": "code",
      "source": [
        "# C\n",
        "import numpy as np\n",
        "sample_list = [[1, 2, 3],\n",
        "               [4, 5, 6],\n",
        "               [7, 8, 9]]\n",
        "np_2d_array = np.array(sample_list, dtype='str')\n",
        "print(np_2d_array)\n",
        "print(type(np_2d_array))"
      ],
      "metadata": {
        "colab": {
          "base_uri": "https://localhost:8080/"
        },
        "id": "1SnFWb2xzaSK",
        "outputId": "e095b35c-214c-46b0-acfa-f14884377768"
      },
      "execution_count": 14,
      "outputs": [
        {
          "output_type": "stream",
          "name": "stdout",
          "text": [
            "[['1' '2' '3']\n",
            " ['4' '5' '6']\n",
            " ['7' '8' '9']]\n",
            "<class 'numpy.ndarray'>\n"
          ]
        }
      ]
    },
    {
      "cell_type": "code",
      "source": [
        "# C\n",
        "import numpy as np\n",
        "\n",
        "np.arange(0,5) # array([0, 1, 2, 3, 4])\n",
        "\n",
        "np.arange(1,11,2) # array([1, 3, 5, 7, 9])\n",
        "\n",
        "np.zeros(4) # array([0., 0., 0., 0.])\n",
        "\n",
        "np.ones(5) # array([1., 1., 1., 1., 1.])"
      ],
      "metadata": {
        "colab": {
          "base_uri": "https://localhost:8080/"
        },
        "id": "KA2c5TZJzbnq",
        "outputId": "0dfc8b9f-8766-433a-beba-0bdd215cc3b9"
      },
      "execution_count": 15,
      "outputs": [
        {
          "output_type": "execute_result",
          "data": {
            "text/plain": [
              "array([1., 1., 1., 1., 1.])"
            ]
          },
          "metadata": {},
          "execution_count": 15
        }
      ]
    },
    {
      "cell_type": "code",
      "source": [
        "# C\n",
        "import numpy as np\n",
        "\n",
        "np.linspace(0, 1, 10)"
      ],
      "metadata": {
        "colab": {
          "base_uri": "https://localhost:8080/"
        },
        "id": "oAjVNbVpzdam",
        "outputId": "21114dce-5918-418d-8af2-5171f3115063"
      },
      "execution_count": 16,
      "outputs": [
        {
          "output_type": "execute_result",
          "data": {
            "text/plain": [
              "array([0.        , 0.11111111, 0.22222222, 0.33333333, 0.44444444,\n",
              "       0.55555556, 0.66666667, 0.77777778, 0.88888889, 1.        ])"
            ]
          },
          "metadata": {},
          "execution_count": 16
        }
      ]
    },
    {
      "cell_type": "code",
      "source": [
        "# C\n",
        "import numpy as np\n",
        "\n",
        "np.eye(1)"
      ],
      "metadata": {
        "colab": {
          "base_uri": "https://localhost:8080/"
        },
        "id": "fwlRtqlizhEu",
        "outputId": "7227cd08-2ac7-4616-fb71-d53fbc591e0d"
      },
      "execution_count": 17,
      "outputs": [
        {
          "output_type": "execute_result",
          "data": {
            "text/plain": [
              "array([[1.]])"
            ]
          },
          "metadata": {},
          "execution_count": 17
        }
      ]
    },
    {
      "cell_type": "code",
      "source": [
        "# C\n",
        "np.eye(2) "
      ],
      "metadata": {
        "colab": {
          "base_uri": "https://localhost:8080/"
        },
        "id": "6VBuPa0wziJm",
        "outputId": "5bcbb489-5792-4e09-9da7-4becc79f17b0"
      },
      "execution_count": 18,
      "outputs": [
        {
          "output_type": "execute_result",
          "data": {
            "text/plain": [
              "array([[1., 0.],\n",
              "       [0., 1.]])"
            ]
          },
          "metadata": {},
          "execution_count": 18
        }
      ]
    },
    {
      "cell_type": "code",
      "source": [
        "# C\n",
        "np.full((3,3), 99)"
      ],
      "metadata": {
        "colab": {
          "base_uri": "https://localhost:8080/"
        },
        "id": "PmdG2HAKzi6y",
        "outputId": "952afd80-9287-4416-d590-67e12bd4712f"
      },
      "execution_count": 19,
      "outputs": [
        {
          "output_type": "execute_result",
          "data": {
            "text/plain": [
              "array([[99, 99, 99],\n",
              "       [99, 99, 99],\n",
              "       [99, 99, 99]])"
            ]
          },
          "metadata": {},
          "execution_count": 19
        }
      ]
    },
    {
      "cell_type": "code",
      "source": [
        "# list vs np.array()\n",
        "a = [1,2]\n",
        "a*10"
      ],
      "metadata": {
        "colab": {
          "base_uri": "https://localhost:8080/"
        },
        "id": "CHYJg7b-zjqG",
        "outputId": "3e845b72-ff3f-4793-d5e8-8033c35bb403"
      },
      "execution_count": 20,
      "outputs": [
        {
          "output_type": "execute_result",
          "data": {
            "text/plain": [
              "[1, 2, 1, 2, 1, 2, 1, 2, 1, 2, 1, 2, 1, 2, 1, 2, 1, 2, 1, 2]"
            ]
          },
          "metadata": {},
          "execution_count": 20
        }
      ]
    },
    {
      "cell_type": "code",
      "source": [
        "# list vs np.array()\n",
        "a = np.array([1,2])\n",
        "a*10"
      ],
      "metadata": {
        "colab": {
          "base_uri": "https://localhost:8080/"
        },
        "id": "dyTGBsIvT7JD",
        "outputId": "c8c93a2d-646e-49a9-8c03-683a148edb46"
      },
      "execution_count": 21,
      "outputs": [
        {
          "output_type": "execute_result",
          "data": {
            "text/plain": [
              "array([10, 20])"
            ]
          },
          "metadata": {},
          "execution_count": 21
        }
      ]
    },
    {
      "cell_type": "code",
      "source": [
        "# C\n",
        "import numpy as np\n",
        "\n",
        "sample_size = 7\n",
        "np.random.rand(sample_size)"
      ],
      "metadata": {
        "colab": {
          "base_uri": "https://localhost:8080/"
        },
        "id": "PnSLdUJPzl-9",
        "outputId": "afd0d824-7589-4091-85b9-663d721c278b"
      },
      "execution_count": 22,
      "outputs": [
        {
          "output_type": "execute_result",
          "data": {
            "text/plain": [
              "array([0.85550877, 0.59454429, 0.0838363 , 0.73621208, 0.59903589,\n",
              "       0.7819767 , 0.35339598])"
            ]
          },
          "metadata": {},
          "execution_count": 22
        }
      ]
    },
    {
      "cell_type": "code",
      "source": [
        "# C\n",
        "import numpy as np\n",
        "\n",
        "# 평균 0, 표준편차 1을 가지는 표준 정규 분포에서 추출\n",
        "sample_size = 7\n",
        "data = np.random.randn(sample_size)\n",
        "data"
      ],
      "metadata": {
        "colab": {
          "base_uri": "https://localhost:8080/"
        },
        "id": "SIFxlN20zoSP",
        "outputId": "79cfafee-5371-4296-b247-6f9a2e204b48"
      },
      "execution_count": 23,
      "outputs": [
        {
          "output_type": "execute_result",
          "data": {
            "text/plain": [
              "array([-0.91282835,  0.40841021,  0.07290011,  0.60351374, -0.52074367,\n",
              "       -1.53320418, -2.24494379])"
            ]
          },
          "metadata": {},
          "execution_count": 23
        }
      ]
    },
    {
      "cell_type": "code",
      "source": [
        "# C\n",
        "import numpy as np\n",
        "\n",
        "# 3~9사이의 정수를 7개 추출\n",
        "np.random.randint(3, 10, 7)"
      ],
      "metadata": {
        "colab": {
          "base_uri": "https://localhost:8080/"
        },
        "id": "1AtihQYHzsGt",
        "outputId": "447eb11e-248c-44c2-9687-0c8bfabcc7c1"
      },
      "execution_count": 26,
      "outputs": [
        {
          "output_type": "execute_result",
          "data": {
            "text/plain": [
              "array([8, 3, 3, 9, 5, 5, 5])"
            ]
          },
          "metadata": {},
          "execution_count": 26
        }
      ]
    },
    {
      "cell_type": "code",
      "source": [
        "# R\n",
        "simple_array = np.array([1, 2, 3, 4])\n",
        "\n",
        "simple_array.max()\n",
        "#Returns 4\n",
        "\n",
        "simple_array.min()\n",
        "#Returns 1\n",
        "\n",
        "\n",
        "simple_array.argmax()\n",
        "#Returns 3\n",
        "\n",
        "simple_array.argmin()\n",
        "#Returns 0\n",
        "\n",
        " "
      ],
      "metadata": {
        "id": "bi9ajSm3U7cp"
      },
      "execution_count": null,
      "outputs": []
    },
    {
      "cell_type": "code",
      "source": [
        "# R\n",
        "x = np.arange(10)\n",
        "x[3] = 100\n",
        "print(x)"
      ],
      "metadata": {
        "colab": {
          "base_uri": "https://localhost:8080/"
        },
        "id": "zLs2mUkEVJnb",
        "outputId": "6d1674da-96be-4c2a-f350-3c453d3123c4"
      },
      "execution_count": 33,
      "outputs": [
        {
          "output_type": "stream",
          "name": "stdout",
          "text": [
            "[  0   1   2 100   4   5   6   7   8   9]\n"
          ]
        }
      ]
    },
    {
      "cell_type": "code",
      "source": [
        "# 2차원 인덱싱\n",
        "mat = np.array([[5, 10, 15],\n",
        "                [20, 25, 30],\n",
        "                [35, 40, 45]])\n",
        "\n",
        "print(mat)\n",
        "print('-' * 20)\n",
        "print(mat[0])\n",
        "print('-' * 20)\n",
        "print(mat[0][-1])\n",
        "print('-' * 20)\n",
        "print(mat[1:][:2])"
      ],
      "metadata": {
        "colab": {
          "base_uri": "https://localhost:8080/"
        },
        "id": "oWfJwU1bVH1h",
        "outputId": "1b3566ff-7f03-4fca-dcb6-75f3da3b5e96"
      },
      "execution_count": 31,
      "outputs": [
        {
          "output_type": "stream",
          "name": "stdout",
          "text": [
            "[[ 5 10 15]\n",
            " [20 25 30]\n",
            " [35 40 45]]\n",
            "--------------------\n",
            "[ 5 10 15]\n",
            "--------------------\n",
            "15\n",
            "--------------------\n",
            "[[20 25 30]\n",
            " [35 40 45]]\n"
          ]
        }
      ]
    },
    {
      "cell_type": "code",
      "source": [
        "# R\n",
        "x = np.arange(24).reshape(3, 4, 2)\n",
        "print(x[0])"
      ],
      "metadata": {
        "colab": {
          "base_uri": "https://localhost:8080/"
        },
        "id": "g4TeszZ-VZGS",
        "outputId": "84f09097-188b-4246-d711-c1f21c683d83"
      },
      "execution_count": 41,
      "outputs": [
        {
          "output_type": "stream",
          "name": "stdout",
          "text": [
            "[[0 1]\n",
            " [2 3]\n",
            " [4 5]\n",
            " [6 7]]\n"
          ]
        }
      ]
    },
    {
      "cell_type": "code",
      "source": [
        "# R\n",
        "x = np.arange(10)\n",
        "print(x[1:])"
      ],
      "metadata": {
        "colab": {
          "base_uri": "https://localhost:8080/"
        },
        "id": "awvNJi0eVuPC",
        "outputId": "d272c27b-fd39-4fbf-86dd-02fe69595bb0"
      },
      "execution_count": 42,
      "outputs": [
        {
          "output_type": "stream",
          "name": "stdout",
          "text": [
            "[1 2 3 4 5 6 7 8 9]\n"
          ]
        }
      ]
    },
    {
      "cell_type": "code",
      "source": [
        "# R\n",
        "x = np.arange(10).reshape(2, 5)\n",
        "print(x[0, :2])"
      ],
      "metadata": {
        "colab": {
          "base_uri": "https://localhost:8080/"
        },
        "id": "mxUwwvThVwpJ",
        "outputId": "26085644-f919-44a5-bfb4-3e59fef93684"
      },
      "execution_count": 43,
      "outputs": [
        {
          "output_type": "stream",
          "name": "stdout",
          "text": [
            "[0 1]\n"
          ]
        }
      ]
    },
    {
      "cell_type": "code",
      "source": [
        "# R\n",
        "x[:1, :2]"
      ],
      "metadata": {
        "colab": {
          "base_uri": "https://localhost:8080/"
        },
        "id": "-TjyweBhV3Qx",
        "outputId": "6913e89d-18ac-4321-eb5a-5d37a32db648"
      },
      "execution_count": 48,
      "outputs": [
        {
          "output_type": "execute_result",
          "data": {
            "text/plain": [
              "array([[[0, 1, 2],\n",
              "        [3, 4, 5]]])"
            ]
          },
          "metadata": {},
          "execution_count": 48
        }
      ]
    },
    {
      "cell_type": "code",
      "source": [
        "# R\n",
        "x = np.arange(54).reshape(2, 9, 3)\n",
        "x[:1, :2, :]"
      ],
      "metadata": {
        "colab": {
          "base_uri": "https://localhost:8080/"
        },
        "id": "rj5BT7wuV7vh",
        "outputId": "8b2344c6-3b44-4c93-94a9-6ce60b81e74d"
      },
      "execution_count": 46,
      "outputs": [
        {
          "output_type": "execute_result",
          "data": {
            "text/plain": [
              "array([[[0, 1, 2],\n",
              "        [3, 4, 5]]])"
            ]
          },
          "metadata": {},
          "execution_count": 46
        }
      ]
    },
    {
      "cell_type": "code",
      "source": [
        "# R\n",
        "x[0, :2, :]"
      ],
      "metadata": {
        "colab": {
          "base_uri": "https://localhost:8080/"
        },
        "id": "AzN5G9ZMV8Xp",
        "outputId": "842f1c76-18f2-486d-895f-3ec209450451"
      },
      "execution_count": 49,
      "outputs": [
        {
          "output_type": "execute_result",
          "data": {
            "text/plain": [
              "array([[0, 1, 2],\n",
              "       [3, 4, 5]])"
            ]
          },
          "metadata": {},
          "execution_count": 49
        }
      ]
    },
    {
      "cell_type": "code",
      "source": [
        "# U\n",
        "import numpy as np\n",
        "arr = np.array([0,1,2,3,4,5])\n",
        "arr.reshape(2, 3)\n",
        " "
      ],
      "metadata": {
        "colab": {
          "base_uri": "https://localhost:8080/"
        },
        "id": "ALiFCEVxz4In",
        "outputId": "ebeaf9b5-a0c3-4c66-9ff6-c5bba50e2c6d"
      },
      "execution_count": 27,
      "outputs": [
        {
          "output_type": "execute_result",
          "data": {
            "text/plain": [
              "array([[0, 1, 2],\n",
              "       [3, 4, 5]])"
            ]
          },
          "metadata": {},
          "execution_count": 27
        }
      ]
    },
    {
      "cell_type": "code",
      "source": [
        "# U\n",
        "import numpy as np\n",
        "arr = np.array([0,1,2,3,4,5])\n",
        "arr.shape, arr.reshape(2, 3).shape\n",
        " "
      ],
      "metadata": {
        "colab": {
          "base_uri": "https://localhost:8080/"
        },
        "id": "hOnccFxHz5Pa",
        "outputId": "97cbd9ec-d555-476a-af11-1d73ed170464"
      },
      "execution_count": 28,
      "outputs": [
        {
          "output_type": "execute_result",
          "data": {
            "text/plain": [
              "((6,), (2, 3))"
            ]
          },
          "metadata": {},
          "execution_count": 28
        }
      ]
    },
    {
      "cell_type": "code",
      "source": [
        "# U\n",
        "arr = np.arange(4)\n",
        "# 덧셈 (np.add)\n",
        "2 + arr\n",
        "#Returns array([2, 3, 4, 5])\n",
        "arr + arr\n",
        "#Returns array([0, 2, 4, 6])\n",
        "\n",
        "\n",
        "arr = np.arange(4)\n",
        "# 뺄셈 (np.subtract)\n",
        "arr - 10\n",
        "#Returns array([-10,  -9,  -8,  -7])\n",
        "arr - arr\n",
        "#Returns array([0, 0, 0, 0])\n",
        "\n",
        "\n",
        "arr = np.arange(4)\n",
        "# 곱셈 (np.multiply)\n",
        "6 * arr\n",
        "#Returns array([ 0,  6, 12, 18])\n",
        "arr * arr\n",
        "#Returns array([0, 1, 4, 9])\n",
        "\n",
        "arr = np.arange(4)\n",
        "# 나눗셈 (np.divide)\n",
        "arr / 2\n",
        "#Returns array([0. , 0.5, 1. , 1.5])\n",
        "arr / arr\n",
        "#Returns array([nan,  1.,  1.,  1.])"
      ],
      "metadata": {
        "colab": {
          "base_uri": "https://localhost:8080/"
        },
        "id": "bV9dqp4Iz8TJ",
        "outputId": "f9900f6c-2d93-4570-c4b7-fd9595f06e7f"
      },
      "execution_count": 29,
      "outputs": [
        {
          "output_type": "stream",
          "name": "stderr",
          "text": [
            "<ipython-input-29-4d89af08a9fe>:29: RuntimeWarning: invalid value encountered in true_divide\n",
            "  arr / arr\n"
          ]
        },
        {
          "output_type": "execute_result",
          "data": {
            "text/plain": [
              "array([nan,  1.,  1.,  1.])"
            ]
          },
          "metadata": {},
          "execution_count": 29
        }
      ]
    },
    {
      "cell_type": "code",
      "source": [
        "# U\n",
        "# 제곱근 연산\n",
        "arr = np.arange(4)\n",
        "np.sqrt(arr)\n",
        "# array([0.        , 1.        , 1.41421356, 1.73205081])\n",
        "\n",
        "# 지수연산\n",
        "arr = np.arange(4)\n",
        "np.exp(arr)\n",
        "# array([ 1.        ,  2.71828183,  7.3890561 , 20.08553692])\n",
        "\n",
        "# 삼각함수연산 (sine)\n",
        "arr = np.arange(4)\n",
        "np.sin(arr)\n",
        "# array([0.        , 0.84147098, 0.90929743, 0.14112001])\n",
        "\n",
        "# 삼각함수연산 (cosine)\n",
        "arr = np.arange(4)\n",
        "np.cos(arr)\n",
        "# array([ 1.        ,  0.54030231, -0.41614684, -0.9899925 ])\n",
        "\n",
        "# 삼각함수연산 (logarithm)\n",
        "arr = np.arange(4)\n",
        "np.log(arr)\n",
        "# array([      -inf, 0.        , 0.69314718, 1.09861229])\n",
        "\n",
        "# 반올림\n",
        "arr = np.random.rand(5)\n",
        "np.round(arr, 2)\n",
        "# array([0.13, 0.05, 0.89, 0.7 , 0.91])"
      ],
      "metadata": {
        "colab": {
          "base_uri": "https://localhost:8080/"
        },
        "id": "-xHfdQ_2z9gC",
        "outputId": "6d07dd94-dec7-415c-b426-a8396636a596"
      },
      "execution_count": 30,
      "outputs": [
        {
          "output_type": "stream",
          "name": "stderr",
          "text": [
            "<ipython-input-30-b11f06096dbb>:24: RuntimeWarning: divide by zero encountered in log\n",
            "  np.log(arr)\n"
          ]
        },
        {
          "output_type": "execute_result",
          "data": {
            "text/plain": [
              "array([0.08, 0.51, 0.77, 0.95, 0.8 ])"
            ]
          },
          "metadata": {},
          "execution_count": 30
        }
      ]
    },
    {
      "cell_type": "code",
      "source": [
        "# R\n",
        "from PIL import Image\n",
        "\n",
        "data = Image.open('티라노.jpg')\n",
        "data"
      ],
      "metadata": {
        "id": "S8e5h8A1ipzw"
      },
      "execution_count": null,
      "outputs": []
    },
    {
      "cell_type": "code",
      "source": [
        "import numpy as np\n",
        "data_np = np.array(data)\n",
        "data_np.shape"
      ],
      "metadata": {
        "colab": {
          "base_uri": "https://localhost:8080/"
        },
        "id": "nuiGkX_cizO4",
        "outputId": "25d70a4f-c2cb-4c94-bc94-94a2d5a25108"
      },
      "execution_count": null,
      "outputs": [
        {
          "output_type": "execute_result",
          "data": {
            "text/plain": [
              "(386, 250, 3)"
            ]
          },
          "metadata": {},
          "execution_count": 14
        }
      ]
    },
    {
      "cell_type": "code",
      "source": [
        "part_img = data.crop((0, 0, 150, 150))\n",
        "part_img"
      ],
      "metadata": {
        "colab": {
          "base_uri": "https://localhost:8080/",
          "height": 167
        },
        "id": "9WPIchPvjfJv",
        "outputId": "cdeaf0ee-8edd-46e4-85bf-e4b173742b40"
      },
      "execution_count": null,
      "outputs": [
        {
          "output_type": "execute_result",
          "data": {
            "text/plain": [
              "<PIL.Image.Image image mode=RGB size=150x150 at 0x7FA520442D30>"
            ],
            "image/png": "[encoded data removed]"
          },
          "metadata": {},
          "execution_count": 22
        }
      ]
    },
    {
      "cell_type": "code",
      "source": [
        "part_img"
      ],
      "metadata": {
        "colab": {
          "base_uri": "https://localhost:8080/",
          "height": 167
        },
        "id": "QtAYC1YOjaUP",
        "outputId": "6d910013-7003-4976-8b41-383a5e98a93d"
      },
      "execution_count": null,
      "outputs": [
        {
          "output_type": "execute_result",
          "data": {
            "text/plain": [
              "<PIL.Image.Image image mode=RGB size=150x150 at 0x7FA520442D30>"
            ],
            "image/png": "[encoded data removed]"
          },
          "metadata": {},
          "execution_count": 27
        }
      ]
    },
    {
      "cell_type": "code",
      "source": [
        "import matplotlib.pyplot as plt\n",
        "plt.plot(np.array(part_img)[:, :, 0])"
      ],
      "metadata": {
        "id": "ZY2vxs70jXy0"
      },
      "execution_count": null,
      "outputs": []
    },
    {
      "cell_type": "code",
      "source": [
        "data_gray = data.convert('L')\n",
        "data_gray"
      ],
      "metadata": {
        "colab": {
          "base_uri": "https://localhost:8080/",
          "height": 403
        },
        "id": "f3AE1uNPi5wM",
        "outputId": "16d728d0-8b59-446f-87cc-0d3cb0705933"
      },
      "execution_count": null,
      "outputs": [
        {
          "output_type": "execute_result",
          "data": {
            "text/plain": [
              "<PIL.Image.Image image mode=L size=250x386 at 0x7FA51DCA98B0>"
            ],
            "image/png": "[encoded data removed]"
          },
          "metadata": {},
          "execution_count": 36
        }
      ]
    },
    {
      "cell_type": "code",
      "source": [
        "np.array(data_gray).shape"
      ],
      "metadata": {
        "colab": {
          "base_uri": "https://localhost:8080/"
        },
        "id": "rt-rHBj4lYLs",
        "outputId": "589c243f-65bc-4a7a-daf6-48f8cd339139"
      },
      "execution_count": null,
      "outputs": [
        {
          "output_type": "execute_result",
          "data": {
            "text/plain": [
              "(386, 250)"
            ]
          },
          "metadata": {},
          "execution_count": 37
        }
      ]
    },
    {
      "cell_type": "code",
      "source": [
        "plt.imshow(data_gray)"
      ],
      "metadata": {
        "colab": {
          "base_uri": "https://localhost:8080/",
          "height": 287
        },
        "id": "adKg6WmAlxEx",
        "outputId": "723c1f3a-8a8f-4f72-be88-1c5af7b3a079"
      },
      "execution_count": null,
      "outputs": [
        {
          "output_type": "execute_result",
          "data": {
            "text/plain": [
              "<matplotlib.image.AxesImage at 0x7fa51b9be850>"
            ]
          },
          "metadata": {},
          "execution_count": 46
        },
        {
          "output_type": "display_data",
          "data": {
            "text/plain": [
              "<Figure size 432x288 with 1 Axes>"
            ],
            "image/png": "[encoded data removed]"
          },
          "metadata": {
            "needs_background": "light"
          }
        }
      ]
    },
    {
      "cell_type": "code",
      "source": [
        "plt.imshow(data)"
      ],
      "metadata": {
        "colab": {
          "base_uri": "https://localhost:8080/",
          "height": 287
        },
        "id": "Rj7SIAQSl18R",
        "outputId": "6b39865d-7966-4af0-db4e-baac581a8bc6"
      },
      "execution_count": null,
      "outputs": [
        {
          "output_type": "execute_result",
          "data": {
            "text/plain": [
              "<matplotlib.image.AxesImage at 0x7fa51b73df10>"
            ]
          },
          "metadata": {},
          "execution_count": 47
        },
        {
          "output_type": "display_data",
          "data": {
            "text/plain": [
              "<Figure size 432x288 with 1 Axes>"
            ],
            "image/png": "[encoded data removed]"
          },
          "metadata": {
            "needs_background": "light"
          }
        }
      ]
    },
    {
      "cell_type": "code",
      "source": [
        "plt.imshow(part_img)"
      ],
      "metadata": {
        "colab": {
          "base_uri": "https://localhost:8080/",
          "height": 287
        },
        "id": "tlltR2kjlOmR",
        "outputId": "467d2a6f-f257-4c3d-aa91-c7df5a2ed6ab"
      },
      "execution_count": null,
      "outputs": [
        {
          "output_type": "execute_result",
          "data": {
            "text/plain": [
              "<matplotlib.image.AxesImage at 0x7fa51b431160>"
            ]
          },
          "metadata": {},
          "execution_count": 48
        },
        {
          "output_type": "display_data",
          "data": {
            "text/plain": [
              "<Figure size 432x288 with 1 Axes>"
            ],
            "image/png": "[encoded data removed]"
          },
          "metadata": {
            "needs_background": "light"
          }
        }
      ]
    },
    {
      "cell_type": "markdown",
      "source": [
        "# pandas 패키지"
      ],
      "metadata": {
        "id": "FVEBXSvJQYMZ"
      }
    },
    {
      "cell_type": "markdown",
      "source": [
        "## 설치"
      ],
      "metadata": {
        "id": "zMGCP6I7Qkhm"
      }
    },
    {
      "cell_type": "markdown",
      "source": [
        "- pip install pandas"
      ],
      "metadata": {
        "id": "PFBw6qa9h-uo"
      }
    },
    {
      "cell_type": "markdown",
      "source": [
        "## 삭제"
      ],
      "metadata": {
        "id": "lzJ_lMrSQkMX"
      }
    },
    {
      "cell_type": "markdown",
      "source": [
        "- pip uninstall pandas"
      ],
      "metadata": {
        "id": "qUeipigciA4A"
      }
    },
    {
      "cell_type": "markdown",
      "source": [
        "## 활용"
      ],
      "metadata": {
        "id": "sDyyAiFeQxkd"
      }
    },
    {
      "cell_type": "code",
      "source": [
        "import pandas as pd"
      ],
      "metadata": {
        "id": "SdxMjwMh1maO"
      },
      "execution_count": null,
      "outputs": []
    },
    {
      "cell_type": "code",
      "source": [
        "# C\n",
        "import pandas as pd\n",
        "sample_list = [[1, 2, 3],[4, 5, 6],[7, 8, 9]]\n",
        "df1 = pd.DataFrame(sample_list)\n",
        "display(df1)\n",
        "df2 = pd.DataFrame(sample_list, columns=['no1', 'no2', 'no3'])\n",
        "display(df2)\n",
        "display(df2.values)\n"
      ],
      "metadata": {
        "colab": {
          "base_uri": "https://localhost:8080/",
          "height": 325
        },
        "id": "KG3GdJ3Y0Lm2",
        "outputId": "91d17f24-5f50-4993-f5e5-fb769debd7b6"
      },
      "execution_count": null,
      "outputs": [
        {
          "output_type": "display_data",
          "data": {
            "text/plain": [
              "   0  1  2\n",
              "0  1  2  3\n",
              "1  4  5  6\n",
              "2  7  8  9"
            ],
            "text/html": [
              "\n",
              "  <div id=\"df-1b2723e0-e377-4fe5-95ef-8360a4d69759\">\n",
              "    <div class=\"colab-df-container\">\n",
              "      <div>\n",
              "<style scoped>\n",
              "    .dataframe tbody tr th:only-of-type {\n",
              "        vertical-align: middle;\n",
              "    }\n",
              "\n",
              "    .dataframe tbody tr th {\n",
              "        vertical-align: top;\n",
              "    }\n",
              "\n",
              "    .dataframe thead th {\n",
              "        text-align: right;\n",
              "    }\n",
              "</style>\n",
              "<table border=\"1\" class=\"dataframe\">\n",
              "  <thead>\n",
              "    <tr style=\"text-align: right;\">\n",
              "      <th></th>\n",
              "      <th>0</th>\n",
              "      <th>1</th>\n",
              "      <th>2</th>\n",
              "    </tr>\n",
              "  </thead>\n",
              "  <tbody>\n",
              "    <tr>\n",
              "      <th>0</th>\n",
              "      <td>1</td>\n",
              "      <td>2</td>\n",
              "      <td>3</td>\n",
              "    </tr>\n",
              "    <tr>\n",
              "      <th>1</th>\n",
              "      <td>4</td>\n",
              "      <td>5</td>\n",
              "      <td>6</td>\n",
              "    </tr>\n",
              "    <tr>\n",
              "      <th>2</th>\n",
              "      <td>7</td>\n",
              "      <td>8</td>\n",
              "      <td>9</td>\n",
              "    </tr>\n",
              "  </tbody>\n",
              "</table>\n",
              "</div>\n",
              "      <button class=\"colab-df-convert\" onclick=\"convertToInteractive('df-1b2723e0-e377-4fe5-95ef-8360a4d69759')\"\n",
              "              title=\"Convert this dataframe to an interactive table.\"\n",
              "              style=\"display:none;\">\n",
              "        \n",
              "  <svg xmlns=\"http://www.w3.org/2000/svg\" height=\"24px\"viewBox=\"0 0 24 24\"\n",
              "       width=\"24px\">\n",
              "    <path d=\"M0 0h24v24H0V0z\" fill=\"none\"/>\n",
              "    <path d=\"M18.56 5.44l.94 2.06.94-2.06 2.06-.94-2.06-.94-.94-2.06-.94 2.06-2.06.94zm-11 1L8.5 8.5l.94-2.06 2.06-.94-2.06-.94L8.5 2.5l-.94 2.06-2.06.94zm10 10l.94 2.06.94-2.06 2.06-.94-2.06-.94-.94-2.06-.94 2.06-2.06.94z\"/><path d=\"M17.41 7.96l-1.37-1.37c-.4-.4-.92-.59-1.43-.59-.52 0-1.04.2-1.43.59L10.3 9.45l-7.72 7.72c-.78.78-.78 2.05 0 2.83L4 21.41c.39.39.9.59 1.41.59.51 0 1.02-.2 1.41-.59l7.78-7.78 2.81-2.81c.8-.78.8-2.07 0-2.86zM5.41 20L4 18.59l7.72-7.72 1.47 1.35L5.41 20z\"/>\n",
              "  </svg>\n",
              "      </button>\n",
              "      \n",
              "  <style>\n",
              "    .colab-df-container {\n",
              "      display:flex;\n",
              "      flex-wrap:wrap;\n",
              "      gap: 12px;\n",
              "    }\n",
              "\n",
              "    .colab-df-convert {\n",
              "      background-color: #E8F0FE;\n",
              "      border: none;\n",
              "      border-radius: 50%;\n",
              "      cursor: pointer;\n",
              "      display: none;\n",
              "      fill: #1967D2;\n",
              "      height: 32px;\n",
              "      padding: 0 0 0 0;\n",
              "      width: 32px;\n",
              "    }\n",
              "\n",
              "    .colab-df-convert:hover {\n",
              "      background-color: #E2EBFA;\n",
              "      box-shadow: 0px 1px 2px rgba(60, 64, 67, 0.3), 0px 1px 3px 1px rgba(60, 64, 67, 0.15);\n",
              "      fill: #174EA6;\n",
              "    }\n",
              "\n",
              "    [theme=dark] .colab-df-convert {\n",
              "      background-color: #3B4455;\n",
              "      fill: #D2E3FC;\n",
              "    }\n",
              "\n",
              "    [theme=dark] .colab-df-convert:hover {\n",
              "      background-color: #434B5C;\n",
              "      box-shadow: 0px 1px 3px 1px rgba(0, 0, 0, 0.15);\n",
              "      filter: drop-shadow(0px 1px 2px rgba(0, 0, 0, 0.3));\n",
              "      fill: #FFFFFF;\n",
              "    }\n",
              "  </style>\n",
              "\n",
              "      <script>\n",
              "        const buttonEl =\n",
              "          document.querySelector('#df-1b2723e0-e377-4fe5-95ef-8360a4d69759 button.colab-df-convert');\n",
              "        buttonEl.style.display =\n",
              "          google.colab.kernel.accessAllowed ? 'block' : 'none';\n",
              "\n",
              "        async function convertToInteractive(key) {\n",
              "          const element = document.querySelector('#df-1b2723e0-e377-4fe5-95ef-8360a4d69759');\n",
              "          const dataTable =\n",
              "            await google.colab.kernel.invokeFunction('convertToInteractive',\n",
              "                                                     [key], {});\n",
              "          if (!dataTable) return;\n",
              "\n",
              "          const docLinkHtml = 'Like what you see? Visit the ' +\n",
              "            '<a target=\"_blank\" href=https://colab.research.google.com/notebooks/data_table.ipynb>data table notebook</a>'\n",
              "            + ' to learn more about interactive tables.';\n",
              "          element.innerHTML = '';\n",
              "          dataTable['output_type'] = 'display_data';\n",
              "          await google.colab.output.renderOutput(dataTable, element);\n",
              "          const docLink = document.createElement('div');\n",
              "          docLink.innerHTML = docLinkHtml;\n",
              "          element.appendChild(docLink);\n",
              "        }\n",
              "      </script>\n",
              "    </div>\n",
              "  </div>\n",
              "  "
            ]
          },
          "metadata": {}
        },
        {
          "output_type": "display_data",
          "data": {
            "text/plain": [
              "   no1  no2  no3\n",
              "0    1    2    3\n",
              "1    4    5    6\n",
              "2    7    8    9"
            ],
            "text/html": [
              "\n",
              "  <div id=\"df-5d04f28e-e6b6-4d3a-b13f-95ed5ea072b7\">\n",
              "    <div class=\"colab-df-container\">\n",
              "      <div>\n",
              "<style scoped>\n",
              "    .dataframe tbody tr th:only-of-type {\n",
              "        vertical-align: middle;\n",
              "    }\n",
              "\n",
              "    .dataframe tbody tr th {\n",
              "        vertical-align: top;\n",
              "    }\n",
              "\n",
              "    .dataframe thead th {\n",
              "        text-align: right;\n",
              "    }\n",
              "</style>\n",
              "<table border=\"1\" class=\"dataframe\">\n",
              "  <thead>\n",
              "    <tr style=\"text-align: right;\">\n",
              "      <th></th>\n",
              "      <th>no1</th>\n",
              "      <th>no2</th>\n",
              "      <th>no3</th>\n",
              "    </tr>\n",
              "  </thead>\n",
              "  <tbody>\n",
              "    <tr>\n",
              "      <th>0</th>\n",
              "      <td>1</td>\n",
              "      <td>2</td>\n",
              "      <td>3</td>\n",
              "    </tr>\n",
              "    <tr>\n",
              "      <th>1</th>\n",
              "      <td>4</td>\n",
              "      <td>5</td>\n",
              "      <td>6</td>\n",
              "    </tr>\n",
              "    <tr>\n",
              "      <th>2</th>\n",
              "      <td>7</td>\n",
              "      <td>8</td>\n",
              "      <td>9</td>\n",
              "    </tr>\n",
              "  </tbody>\n",
              "</table>\n",
              "</div>\n",
              "      <button class=\"colab-df-convert\" onclick=\"convertToInteractive('df-5d04f28e-e6b6-4d3a-b13f-95ed5ea072b7')\"\n",
              "              title=\"Convert this dataframe to an interactive table.\"\n",
              "              style=\"display:none;\">\n",
              "        \n",
              "  <svg xmlns=\"http://www.w3.org/2000/svg\" height=\"24px\"viewBox=\"0 0 24 24\"\n",
              "       width=\"24px\">\n",
              "    <path d=\"M0 0h24v24H0V0z\" fill=\"none\"/>\n",
              "    <path d=\"M18.56 5.44l.94 2.06.94-2.06 2.06-.94-2.06-.94-.94-2.06-.94 2.06-2.06.94zm-11 1L8.5 8.5l.94-2.06 2.06-.94-2.06-.94L8.5 2.5l-.94 2.06-2.06.94zm10 10l.94 2.06.94-2.06 2.06-.94-2.06-.94-.94-2.06-.94 2.06-2.06.94z\"/><path d=\"M17.41 7.96l-1.37-1.37c-.4-.4-.92-.59-1.43-.59-.52 0-1.04.2-1.43.59L10.3 9.45l-7.72 7.72c-.78.78-.78 2.05 0 2.83L4 21.41c.39.39.9.59 1.41.59.51 0 1.02-.2 1.41-.59l7.78-7.78 2.81-2.81c.8-.78.8-2.07 0-2.86zM5.41 20L4 18.59l7.72-7.72 1.47 1.35L5.41 20z\"/>\n",
              "  </svg>\n",
              "      </button>\n",
              "      \n",
              "  <style>\n",
              "    .colab-df-container {\n",
              "      display:flex;\n",
              "      flex-wrap:wrap;\n",
              "      gap: 12px;\n",
              "    }\n",
              "\n",
              "    .colab-df-convert {\n",
              "      background-color: #E8F0FE;\n",
              "      border: none;\n",
              "      border-radius: 50%;\n",
              "      cursor: pointer;\n",
              "      display: none;\n",
              "      fill: #1967D2;\n",
              "      height: 32px;\n",
              "      padding: 0 0 0 0;\n",
              "      width: 32px;\n",
              "    }\n",
              "\n",
              "    .colab-df-convert:hover {\n",
              "      background-color: #E2EBFA;\n",
              "      box-shadow: 0px 1px 2px rgba(60, 64, 67, 0.3), 0px 1px 3px 1px rgba(60, 64, 67, 0.15);\n",
              "      fill: #174EA6;\n",
              "    }\n",
              "\n",
              "    [theme=dark] .colab-df-convert {\n",
              "      background-color: #3B4455;\n",
              "      fill: #D2E3FC;\n",
              "    }\n",
              "\n",
              "    [theme=dark] .colab-df-convert:hover {\n",
              "      background-color: #434B5C;\n",
              "      box-shadow: 0px 1px 3px 1px rgba(0, 0, 0, 0.15);\n",
              "      filter: drop-shadow(0px 1px 2px rgba(0, 0, 0, 0.3));\n",
              "      fill: #FFFFFF;\n",
              "    }\n",
              "  </style>\n",
              "\n",
              "      <script>\n",
              "        const buttonEl =\n",
              "          document.querySelector('#df-5d04f28e-e6b6-4d3a-b13f-95ed5ea072b7 button.colab-df-convert');\n",
              "        buttonEl.style.display =\n",
              "          google.colab.kernel.accessAllowed ? 'block' : 'none';\n",
              "\n",
              "        async function convertToInteractive(key) {\n",
              "          const element = document.querySelector('#df-5d04f28e-e6b6-4d3a-b13f-95ed5ea072b7');\n",
              "          const dataTable =\n",
              "            await google.colab.kernel.invokeFunction('convertToInteractive',\n",
              "                                                     [key], {});\n",
              "          if (!dataTable) return;\n",
              "\n",
              "          const docLinkHtml = 'Like what you see? Visit the ' +\n",
              "            '<a target=\"_blank\" href=https://colab.research.google.com/notebooks/data_table.ipynb>data table notebook</a>'\n",
              "            + ' to learn more about interactive tables.';\n",
              "          element.innerHTML = '';\n",
              "          dataTable['output_type'] = 'display_data';\n",
              "          await google.colab.output.renderOutput(dataTable, element);\n",
              "          const docLink = document.createElement('div');\n",
              "          docLink.innerHTML = docLinkHtml;\n",
              "          element.appendChild(docLink);\n",
              "        }\n",
              "      </script>\n",
              "    </div>\n",
              "  </div>\n",
              "  "
            ]
          },
          "metadata": {}
        },
        {
          "output_type": "display_data",
          "data": {
            "text/plain": [
              "array([[1, 2, 3],\n",
              "       [4, 5, 6],\n",
              "       [7, 8, 9]])"
            ]
          },
          "metadata": {}
        }
      ]
    },
    {
      "cell_type": "code",
      "source": [
        "# C\n",
        "import pandas as pd\n",
        "sample_list = [[1, 2, 3],[4, 5, 6],[7, 8, 9]]\n",
        "df = pd.DataFrame(sample_list)\n",
        "df"
      ],
      "metadata": {
        "colab": {
          "base_uri": "https://localhost:8080/",
          "height": 143
        },
        "id": "UD8xoJzD0MVS",
        "outputId": "aa57bc7f-fcc3-4bc1-8a21-68b8d4c72326"
      },
      "execution_count": null,
      "outputs": [
        {
          "output_type": "execute_result",
          "data": {
            "text/plain": [
              "   0  1  2\n",
              "0  1  2  3\n",
              "1  4  5  6\n",
              "2  7  8  9"
            ],
            "text/html": [
              "\n",
              "  <div id=\"df-3fe1a63a-2565-4fd8-b97b-37c6464a2ceb\">\n",
              "    <div class=\"colab-df-container\">\n",
              "      <div>\n",
              "<style scoped>\n",
              "    .dataframe tbody tr th:only-of-type {\n",
              "        vertical-align: middle;\n",
              "    }\n",
              "\n",
              "    .dataframe tbody tr th {\n",
              "        vertical-align: top;\n",
              "    }\n",
              "\n",
              "    .dataframe thead th {\n",
              "        text-align: right;\n",
              "    }\n",
              "</style>\n",
              "<table border=\"1\" class=\"dataframe\">\n",
              "  <thead>\n",
              "    <tr style=\"text-align: right;\">\n",
              "      <th></th>\n",
              "      <th>0</th>\n",
              "      <th>1</th>\n",
              "      <th>2</th>\n",
              "    </tr>\n",
              "  </thead>\n",
              "  <tbody>\n",
              "    <tr>\n",
              "      <th>0</th>\n",
              "      <td>1</td>\n",
              "      <td>2</td>\n",
              "      <td>3</td>\n",
              "    </tr>\n",
              "    <tr>\n",
              "      <th>1</th>\n",
              "      <td>4</td>\n",
              "      <td>5</td>\n",
              "      <td>6</td>\n",
              "    </tr>\n",
              "    <tr>\n",
              "      <th>2</th>\n",
              "      <td>7</td>\n",
              "      <td>8</td>\n",
              "      <td>9</td>\n",
              "    </tr>\n",
              "  </tbody>\n",
              "</table>\n",
              "</div>\n",
              "      <button class=\"colab-df-convert\" onclick=\"convertToInteractive('df-3fe1a63a-2565-4fd8-b97b-37c6464a2ceb')\"\n",
              "              title=\"Convert this dataframe to an interactive table.\"\n",
              "              style=\"display:none;\">\n",
              "        \n",
              "  <svg xmlns=\"http://www.w3.org/2000/svg\" height=\"24px\"viewBox=\"0 0 24 24\"\n",
              "       width=\"24px\">\n",
              "    <path d=\"M0 0h24v24H0V0z\" fill=\"none\"/>\n",
              "    <path d=\"M18.56 5.44l.94 2.06.94-2.06 2.06-.94-2.06-.94-.94-2.06-.94 2.06-2.06.94zm-11 1L8.5 8.5l.94-2.06 2.06-.94-2.06-.94L8.5 2.5l-.94 2.06-2.06.94zm10 10l.94 2.06.94-2.06 2.06-.94-2.06-.94-.94-2.06-.94 2.06-2.06.94z\"/><path d=\"M17.41 7.96l-1.37-1.37c-.4-.4-.92-.59-1.43-.59-.52 0-1.04.2-1.43.59L10.3 9.45l-7.72 7.72c-.78.78-.78 2.05 0 2.83L4 21.41c.39.39.9.59 1.41.59.51 0 1.02-.2 1.41-.59l7.78-7.78 2.81-2.81c.8-.78.8-2.07 0-2.86zM5.41 20L4 18.59l7.72-7.72 1.47 1.35L5.41 20z\"/>\n",
              "  </svg>\n",
              "      </button>\n",
              "      \n",
              "  <style>\n",
              "    .colab-df-container {\n",
              "      display:flex;\n",
              "      flex-wrap:wrap;\n",
              "      gap: 12px;\n",
              "    }\n",
              "\n",
              "    .colab-df-convert {\n",
              "      background-color: #E8F0FE;\n",
              "      border: none;\n",
              "      border-radius: 50%;\n",
              "      cursor: pointer;\n",
              "      display: none;\n",
              "      fill: #1967D2;\n",
              "      height: 32px;\n",
              "      padding: 0 0 0 0;\n",
              "      width: 32px;\n",
              "    }\n",
              "\n",
              "    .colab-df-convert:hover {\n",
              "      background-color: #E2EBFA;\n",
              "      box-shadow: 0px 1px 2px rgba(60, 64, 67, 0.3), 0px 1px 3px 1px rgba(60, 64, 67, 0.15);\n",
              "      fill: #174EA6;\n",
              "    }\n",
              "\n",
              "    [theme=dark] .colab-df-convert {\n",
              "      background-color: #3B4455;\n",
              "      fill: #D2E3FC;\n",
              "    }\n",
              "\n",
              "    [theme=dark] .colab-df-convert:hover {\n",
              "      background-color: #434B5C;\n",
              "      box-shadow: 0px 1px 3px 1px rgba(0, 0, 0, 0.15);\n",
              "      filter: drop-shadow(0px 1px 2px rgba(0, 0, 0, 0.3));\n",
              "      fill: #FFFFFF;\n",
              "    }\n",
              "  </style>\n",
              "\n",
              "      <script>\n",
              "        const buttonEl =\n",
              "          document.querySelector('#df-3fe1a63a-2565-4fd8-b97b-37c6464a2ceb button.colab-df-convert');\n",
              "        buttonEl.style.display =\n",
              "          google.colab.kernel.accessAllowed ? 'block' : 'none';\n",
              "\n",
              "        async function convertToInteractive(key) {\n",
              "          const element = document.querySelector('#df-3fe1a63a-2565-4fd8-b97b-37c6464a2ceb');\n",
              "          const dataTable =\n",
              "            await google.colab.kernel.invokeFunction('convertToInteractive',\n",
              "                                                     [key], {});\n",
              "          if (!dataTable) return;\n",
              "\n",
              "          const docLinkHtml = 'Like what you see? Visit the ' +\n",
              "            '<a target=\"_blank\" href=https://colab.research.google.com/notebooks/data_table.ipynb>data table notebook</a>'\n",
              "            + ' to learn more about interactive tables.';\n",
              "          element.innerHTML = '';\n",
              "          dataTable['output_type'] = 'display_data';\n",
              "          await google.colab.output.renderOutput(dataTable, element);\n",
              "          const docLink = document.createElement('div');\n",
              "          docLink.innerHTML = docLinkHtml;\n",
              "          element.appendChild(docLink);\n",
              "        }\n",
              "      </script>\n",
              "    </div>\n",
              "  </div>\n",
              "  "
            ]
          },
          "metadata": {},
          "execution_count": 29
        }
      ]
    },
    {
      "cell_type": "code",
      "source": [
        "# C\n",
        "sample_dict = {\n",
        "    'col1': [11,12,13,14],\n",
        "    'col2': [21,22,23,24],\n",
        "    'col3': [31,32,33,34],\n",
        "}\n",
        "df = pd.DataFrame(sample_dict)\n",
        "df"
      ],
      "metadata": {
        "colab": {
          "base_uri": "https://localhost:8080/",
          "height": 175
        },
        "id": "3-VoezHF0Nre",
        "outputId": "d396f9de-b7b0-4298-bb91-643c8bbd5d71"
      },
      "execution_count": 54,
      "outputs": [
        {
          "output_type": "execute_result",
          "data": {
            "text/plain": [
              "   col1  col2  col3\n",
              "0    11    21    31\n",
              "1    12    22    32\n",
              "2    13    23    33\n",
              "3    14    24    34"
            ],
            "text/html": [
              "\n",
              "  <div id=\"df-a0b7fca8-16f0-43e2-9ff4-1702fe4a850b\">\n",
              "    <div class=\"colab-df-container\">\n",
              "      <div>\n",
              "<style scoped>\n",
              "    .dataframe tbody tr th:only-of-type {\n",
              "        vertical-align: middle;\n",
              "    }\n",
              "\n",
              "    .dataframe tbody tr th {\n",
              "        vertical-align: top;\n",
              "    }\n",
              "\n",
              "    .dataframe thead th {\n",
              "        text-align: right;\n",
              "    }\n",
              "</style>\n",
              "<table border=\"1\" class=\"dataframe\">\n",
              "  <thead>\n",
              "    <tr style=\"text-align: right;\">\n",
              "      <th></th>\n",
              "      <th>col1</th>\n",
              "      <th>col2</th>\n",
              "      <th>col3</th>\n",
              "    </tr>\n",
              "  </thead>\n",
              "  <tbody>\n",
              "    <tr>\n",
              "      <th>0</th>\n",
              "      <td>11</td>\n",
              "      <td>21</td>\n",
              "      <td>31</td>\n",
              "    </tr>\n",
              "    <tr>\n",
              "      <th>1</th>\n",
              "      <td>12</td>\n",
              "      <td>22</td>\n",
              "      <td>32</td>\n",
              "    </tr>\n",
              "    <tr>\n",
              "      <th>2</th>\n",
              "      <td>13</td>\n",
              "      <td>23</td>\n",
              "      <td>33</td>\n",
              "    </tr>\n",
              "    <tr>\n",
              "      <th>3</th>\n",
              "      <td>14</td>\n",
              "      <td>24</td>\n",
              "      <td>34</td>\n",
              "    </tr>\n",
              "  </tbody>\n",
              "</table>\n",
              "</div>\n",
              "      <button class=\"colab-df-convert\" onclick=\"convertToInteractive('df-a0b7fca8-16f0-43e2-9ff4-1702fe4a850b')\"\n",
              "              title=\"Convert this dataframe to an interactive table.\"\n",
              "              style=\"display:none;\">\n",
              "        \n",
              "  <svg xmlns=\"http://www.w3.org/2000/svg\" height=\"24px\"viewBox=\"0 0 24 24\"\n",
              "       width=\"24px\">\n",
              "    <path d=\"M0 0h24v24H0V0z\" fill=\"none\"/>\n",
              "    <path d=\"M18.56 5.44l.94 2.06.94-2.06 2.06-.94-2.06-.94-.94-2.06-.94 2.06-2.06.94zm-11 1L8.5 8.5l.94-2.06 2.06-.94-2.06-.94L8.5 2.5l-.94 2.06-2.06.94zm10 10l.94 2.06.94-2.06 2.06-.94-2.06-.94-.94-2.06-.94 2.06-2.06.94z\"/><path d=\"M17.41 7.96l-1.37-1.37c-.4-.4-.92-.59-1.43-.59-.52 0-1.04.2-1.43.59L10.3 9.45l-7.72 7.72c-.78.78-.78 2.05 0 2.83L4 21.41c.39.39.9.59 1.41.59.51 0 1.02-.2 1.41-.59l7.78-7.78 2.81-2.81c.8-.78.8-2.07 0-2.86zM5.41 20L4 18.59l7.72-7.72 1.47 1.35L5.41 20z\"/>\n",
              "  </svg>\n",
              "      </button>\n",
              "      \n",
              "  <style>\n",
              "    .colab-df-container {\n",
              "      display:flex;\n",
              "      flex-wrap:wrap;\n",
              "      gap: 12px;\n",
              "    }\n",
              "\n",
              "    .colab-df-convert {\n",
              "      background-color: #E8F0FE;\n",
              "      border: none;\n",
              "      border-radius: 50%;\n",
              "      cursor: pointer;\n",
              "      display: none;\n",
              "      fill: #1967D2;\n",
              "      height: 32px;\n",
              "      padding: 0 0 0 0;\n",
              "      width: 32px;\n",
              "    }\n",
              "\n",
              "    .colab-df-convert:hover {\n",
              "      background-color: #E2EBFA;\n",
              "      box-shadow: 0px 1px 2px rgba(60, 64, 67, 0.3), 0px 1px 3px 1px rgba(60, 64, 67, 0.15);\n",
              "      fill: #174EA6;\n",
              "    }\n",
              "\n",
              "    [theme=dark] .colab-df-convert {\n",
              "      background-color: #3B4455;\n",
              "      fill: #D2E3FC;\n",
              "    }\n",
              "\n",
              "    [theme=dark] .colab-df-convert:hover {\n",
              "      background-color: #434B5C;\n",
              "      box-shadow: 0px 1px 3px 1px rgba(0, 0, 0, 0.15);\n",
              "      filter: drop-shadow(0px 1px 2px rgba(0, 0, 0, 0.3));\n",
              "      fill: #FFFFFF;\n",
              "    }\n",
              "  </style>\n",
              "\n",
              "      <script>\n",
              "        const buttonEl =\n",
              "          document.querySelector('#df-a0b7fca8-16f0-43e2-9ff4-1702fe4a850b button.colab-df-convert');\n",
              "        buttonEl.style.display =\n",
              "          google.colab.kernel.accessAllowed ? 'block' : 'none';\n",
              "\n",
              "        async function convertToInteractive(key) {\n",
              "          const element = document.querySelector('#df-a0b7fca8-16f0-43e2-9ff4-1702fe4a850b');\n",
              "          const dataTable =\n",
              "            await google.colab.kernel.invokeFunction('convertToInteractive',\n",
              "                                                     [key], {});\n",
              "          if (!dataTable) return;\n",
              "\n",
              "          const docLinkHtml = 'Like what you see? Visit the ' +\n",
              "            '<a target=\"_blank\" href=https://colab.research.google.com/notebooks/data_table.ipynb>data table notebook</a>'\n",
              "            + ' to learn more about interactive tables.';\n",
              "          element.innerHTML = '';\n",
              "          dataTable['output_type'] = 'display_data';\n",
              "          await google.colab.output.renderOutput(dataTable, element);\n",
              "          const docLink = document.createElement('div');\n",
              "          docLink.innerHTML = docLinkHtml;\n",
              "          element.appendChild(docLink);\n",
              "        }\n",
              "      </script>\n",
              "    </div>\n",
              "  </div>\n",
              "  "
            ]
          },
          "metadata": {},
          "execution_count": 54
        }
      ]
    },
    {
      "cell_type": "code",
      "source": [
        "# C\n",
        "import pandas as pd\n",
        "sample_dict = {\n",
        "    'col1': [11,12,13,14],\n",
        "    'col2': [21,22,23,24],\n",
        "    'col3': [31,32,33,34],\n",
        "}\n",
        "df = pd.DataFrame(sample_dict)\n",
        "display(df)"
      ],
      "metadata": {
        "colab": {
          "base_uri": "https://localhost:8080/",
          "height": 175
        },
        "id": "heCUSP_5Wm9w",
        "outputId": "b1d52825-b140-4e6f-e10d-a3ac9bd939ed"
      },
      "execution_count": 61,
      "outputs": [
        {
          "output_type": "display_data",
          "data": {
            "text/plain": [
              "   col1  col2  col3\n",
              "0    11    21    31\n",
              "1    12    22    32\n",
              "2    13    23    33\n",
              "3    14    24    34"
            ],
            "text/html": [
              "\n",
              "  <div id=\"df-5b7a3d0b-b69d-4151-806f-09e4ea6fbb90\">\n",
              "    <div class=\"colab-df-container\">\n",
              "      <div>\n",
              "<style scoped>\n",
              "    .dataframe tbody tr th:only-of-type {\n",
              "        vertical-align: middle;\n",
              "    }\n",
              "\n",
              "    .dataframe tbody tr th {\n",
              "        vertical-align: top;\n",
              "    }\n",
              "\n",
              "    .dataframe thead th {\n",
              "        text-align: right;\n",
              "    }\n",
              "</style>\n",
              "<table border=\"1\" class=\"dataframe\">\n",
              "  <thead>\n",
              "    <tr style=\"text-align: right;\">\n",
              "      <th></th>\n",
              "      <th>col1</th>\n",
              "      <th>col2</th>\n",
              "      <th>col3</th>\n",
              "    </tr>\n",
              "  </thead>\n",
              "  <tbody>\n",
              "    <tr>\n",
              "      <th>0</th>\n",
              "      <td>11</td>\n",
              "      <td>21</td>\n",
              "      <td>31</td>\n",
              "    </tr>\n",
              "    <tr>\n",
              "      <th>1</th>\n",
              "      <td>12</td>\n",
              "      <td>22</td>\n",
              "      <td>32</td>\n",
              "    </tr>\n",
              "    <tr>\n",
              "      <th>2</th>\n",
              "      <td>13</td>\n",
              "      <td>23</td>\n",
              "      <td>33</td>\n",
              "    </tr>\n",
              "    <tr>\n",
              "      <th>3</th>\n",
              "      <td>14</td>\n",
              "      <td>24</td>\n",
              "      <td>34</td>\n",
              "    </tr>\n",
              "  </tbody>\n",
              "</table>\n",
              "</div>\n",
              "      <button class=\"colab-df-convert\" onclick=\"convertToInteractive('df-5b7a3d0b-b69d-4151-806f-09e4ea6fbb90')\"\n",
              "              title=\"Convert this dataframe to an interactive table.\"\n",
              "              style=\"display:none;\">\n",
              "        \n",
              "  <svg xmlns=\"http://www.w3.org/2000/svg\" height=\"24px\"viewBox=\"0 0 24 24\"\n",
              "       width=\"24px\">\n",
              "    <path d=\"M0 0h24v24H0V0z\" fill=\"none\"/>\n",
              "    <path d=\"M18.56 5.44l.94 2.06.94-2.06 2.06-.94-2.06-.94-.94-2.06-.94 2.06-2.06.94zm-11 1L8.5 8.5l.94-2.06 2.06-.94-2.06-.94L8.5 2.5l-.94 2.06-2.06.94zm10 10l.94 2.06.94-2.06 2.06-.94-2.06-.94-.94-2.06-.94 2.06-2.06.94z\"/><path d=\"M17.41 7.96l-1.37-1.37c-.4-.4-.92-.59-1.43-.59-.52 0-1.04.2-1.43.59L10.3 9.45l-7.72 7.72c-.78.78-.78 2.05 0 2.83L4 21.41c.39.39.9.59 1.41.59.51 0 1.02-.2 1.41-.59l7.78-7.78 2.81-2.81c.8-.78.8-2.07 0-2.86zM5.41 20L4 18.59l7.72-7.72 1.47 1.35L5.41 20z\"/>\n",
              "  </svg>\n",
              "      </button>\n",
              "      \n",
              "  <style>\n",
              "    .colab-df-container {\n",
              "      display:flex;\n",
              "      flex-wrap:wrap;\n",
              "      gap: 12px;\n",
              "    }\n",
              "\n",
              "    .colab-df-convert {\n",
              "      background-color: #E8F0FE;\n",
              "      border: none;\n",
              "      border-radius: 50%;\n",
              "      cursor: pointer;\n",
              "      display: none;\n",
              "      fill: #1967D2;\n",
              "      height: 32px;\n",
              "      padding: 0 0 0 0;\n",
              "      width: 32px;\n",
              "    }\n",
              "\n",
              "    .colab-df-convert:hover {\n",
              "      background-color: #E2EBFA;\n",
              "      box-shadow: 0px 1px 2px rgba(60, 64, 67, 0.3), 0px 1px 3px 1px rgba(60, 64, 67, 0.15);\n",
              "      fill: #174EA6;\n",
              "    }\n",
              "\n",
              "    [theme=dark] .colab-df-convert {\n",
              "      background-color: #3B4455;\n",
              "      fill: #D2E3FC;\n",
              "    }\n",
              "\n",
              "    [theme=dark] .colab-df-convert:hover {\n",
              "      background-color: #434B5C;\n",
              "      box-shadow: 0px 1px 3px 1px rgba(0, 0, 0, 0.15);\n",
              "      filter: drop-shadow(0px 1px 2px rgba(0, 0, 0, 0.3));\n",
              "      fill: #FFFFFF;\n",
              "    }\n",
              "  </style>\n",
              "\n",
              "      <script>\n",
              "        const buttonEl =\n",
              "          document.querySelector('#df-5b7a3d0b-b69d-4151-806f-09e4ea6fbb90 button.colab-df-convert');\n",
              "        buttonEl.style.display =\n",
              "          google.colab.kernel.accessAllowed ? 'block' : 'none';\n",
              "\n",
              "        async function convertToInteractive(key) {\n",
              "          const element = document.querySelector('#df-5b7a3d0b-b69d-4151-806f-09e4ea6fbb90');\n",
              "          const dataTable =\n",
              "            await google.colab.kernel.invokeFunction('convertToInteractive',\n",
              "                                                     [key], {});\n",
              "          if (!dataTable) return;\n",
              "\n",
              "          const docLinkHtml = 'Like what you see? Visit the ' +\n",
              "            '<a target=\"_blank\" href=https://colab.research.google.com/notebooks/data_table.ipynb>data table notebook</a>'\n",
              "            + ' to learn more about interactive tables.';\n",
              "          element.innerHTML = '';\n",
              "          dataTable['output_type'] = 'display_data';\n",
              "          await google.colab.output.renderOutput(dataTable, element);\n",
              "          const docLink = document.createElement('div');\n",
              "          docLink.innerHTML = docLinkHtml;\n",
              "          element.appendChild(docLink);\n",
              "        }\n",
              "      </script>\n",
              "    </div>\n",
              "  </div>\n",
              "  "
            ]
          },
          "metadata": {}
        }
      ]
    },
    {
      "cell_type": "code",
      "source": [
        "# C\n",
        "import pandas as pd\n",
        "pd.DataFrame(np.random.randn(6, 4))\n"
      ],
      "metadata": {
        "colab": {
          "base_uri": "https://localhost:8080/",
          "height": 238
        },
        "id": "yXo1vUd80Oo-",
        "outputId": "b4a1682f-0000-4025-f439-a85910c37ff0"
      },
      "execution_count": 52,
      "outputs": [
        {
          "output_type": "execute_result",
          "data": {
            "text/plain": [
              "          0         1         2         3\n",
              "0  1.726899  0.599330  0.393774  1.576411\n",
              "1 -1.141814  0.672431  0.550752  1.312891\n",
              "2 -1.058998  0.134257  1.049584 -1.250971\n",
              "3  0.286446  0.168968 -1.257595 -1.524539\n",
              "4 -1.255174 -0.566932 -1.308652 -0.623198\n",
              "5  0.352180 -0.740717 -0.135439 -0.947550"
            ],
            "text/html": [
              "\n",
              "  <div id=\"df-37ca2daa-0c90-4e60-9897-f2b4c519dcee\">\n",
              "    <div class=\"colab-df-container\">\n",
              "      <div>\n",
              "<style scoped>\n",
              "    .dataframe tbody tr th:only-of-type {\n",
              "        vertical-align: middle;\n",
              "    }\n",
              "\n",
              "    .dataframe tbody tr th {\n",
              "        vertical-align: top;\n",
              "    }\n",
              "\n",
              "    .dataframe thead th {\n",
              "        text-align: right;\n",
              "    }\n",
              "</style>\n",
              "<table border=\"1\" class=\"dataframe\">\n",
              "  <thead>\n",
              "    <tr style=\"text-align: right;\">\n",
              "      <th></th>\n",
              "      <th>0</th>\n",
              "      <th>1</th>\n",
              "      <th>2</th>\n",
              "      <th>3</th>\n",
              "    </tr>\n",
              "  </thead>\n",
              "  <tbody>\n",
              "    <tr>\n",
              "      <th>0</th>\n",
              "      <td>1.726899</td>\n",
              "      <td>0.599330</td>\n",
              "      <td>0.393774</td>\n",
              "      <td>1.576411</td>\n",
              "    </tr>\n",
              "    <tr>\n",
              "      <th>1</th>\n",
              "      <td>-1.141814</td>\n",
              "      <td>0.672431</td>\n",
              "      <td>0.550752</td>\n",
              "      <td>1.312891</td>\n",
              "    </tr>\n",
              "    <tr>\n",
              "      <th>2</th>\n",
              "      <td>-1.058998</td>\n",
              "      <td>0.134257</td>\n",
              "      <td>1.049584</td>\n",
              "      <td>-1.250971</td>\n",
              "    </tr>\n",
              "    <tr>\n",
              "      <th>3</th>\n",
              "      <td>0.286446</td>\n",
              "      <td>0.168968</td>\n",
              "      <td>-1.257595</td>\n",
              "      <td>-1.524539</td>\n",
              "    </tr>\n",
              "    <tr>\n",
              "      <th>4</th>\n",
              "      <td>-1.255174</td>\n",
              "      <td>-0.566932</td>\n",
              "      <td>-1.308652</td>\n",
              "      <td>-0.623198</td>\n",
              "    </tr>\n",
              "    <tr>\n",
              "      <th>5</th>\n",
              "      <td>0.352180</td>\n",
              "      <td>-0.740717</td>\n",
              "      <td>-0.135439</td>\n",
              "      <td>-0.947550</td>\n",
              "    </tr>\n",
              "  </tbody>\n",
              "</table>\n",
              "</div>\n",
              "      <button class=\"colab-df-convert\" onclick=\"convertToInteractive('df-37ca2daa-0c90-4e60-9897-f2b4c519dcee')\"\n",
              "              title=\"Convert this dataframe to an interactive table.\"\n",
              "              style=\"display:none;\">\n",
              "        \n",
              "  <svg xmlns=\"http://www.w3.org/2000/svg\" height=\"24px\"viewBox=\"0 0 24 24\"\n",
              "       width=\"24px\">\n",
              "    <path d=\"M0 0h24v24H0V0z\" fill=\"none\"/>\n",
              "    <path d=\"M18.56 5.44l.94 2.06.94-2.06 2.06-.94-2.06-.94-.94-2.06-.94 2.06-2.06.94zm-11 1L8.5 8.5l.94-2.06 2.06-.94-2.06-.94L8.5 2.5l-.94 2.06-2.06.94zm10 10l.94 2.06.94-2.06 2.06-.94-2.06-.94-.94-2.06-.94 2.06-2.06.94z\"/><path d=\"M17.41 7.96l-1.37-1.37c-.4-.4-.92-.59-1.43-.59-.52 0-1.04.2-1.43.59L10.3 9.45l-7.72 7.72c-.78.78-.78 2.05 0 2.83L4 21.41c.39.39.9.59 1.41.59.51 0 1.02-.2 1.41-.59l7.78-7.78 2.81-2.81c.8-.78.8-2.07 0-2.86zM5.41 20L4 18.59l7.72-7.72 1.47 1.35L5.41 20z\"/>\n",
              "  </svg>\n",
              "      </button>\n",
              "      \n",
              "  <style>\n",
              "    .colab-df-container {\n",
              "      display:flex;\n",
              "      flex-wrap:wrap;\n",
              "      gap: 12px;\n",
              "    }\n",
              "\n",
              "    .colab-df-convert {\n",
              "      background-color: #E8F0FE;\n",
              "      border: none;\n",
              "      border-radius: 50%;\n",
              "      cursor: pointer;\n",
              "      display: none;\n",
              "      fill: #1967D2;\n",
              "      height: 32px;\n",
              "      padding: 0 0 0 0;\n",
              "      width: 32px;\n",
              "    }\n",
              "\n",
              "    .colab-df-convert:hover {\n",
              "      background-color: #E2EBFA;\n",
              "      box-shadow: 0px 1px 2px rgba(60, 64, 67, 0.3), 0px 1px 3px 1px rgba(60, 64, 67, 0.15);\n",
              "      fill: #174EA6;\n",
              "    }\n",
              "\n",
              "    [theme=dark] .colab-df-convert {\n",
              "      background-color: #3B4455;\n",
              "      fill: #D2E3FC;\n",
              "    }\n",
              "\n",
              "    [theme=dark] .colab-df-convert:hover {\n",
              "      background-color: #434B5C;\n",
              "      box-shadow: 0px 1px 3px 1px rgba(0, 0, 0, 0.15);\n",
              "      filter: drop-shadow(0px 1px 2px rgba(0, 0, 0, 0.3));\n",
              "      fill: #FFFFFF;\n",
              "    }\n",
              "  </style>\n",
              "\n",
              "      <script>\n",
              "        const buttonEl =\n",
              "          document.querySelector('#df-37ca2daa-0c90-4e60-9897-f2b4c519dcee button.colab-df-convert');\n",
              "        buttonEl.style.display =\n",
              "          google.colab.kernel.accessAllowed ? 'block' : 'none';\n",
              "\n",
              "        async function convertToInteractive(key) {\n",
              "          const element = document.querySelector('#df-37ca2daa-0c90-4e60-9897-f2b4c519dcee');\n",
              "          const dataTable =\n",
              "            await google.colab.kernel.invokeFunction('convertToInteractive',\n",
              "                                                     [key], {});\n",
              "          if (!dataTable) return;\n",
              "\n",
              "          const docLinkHtml = 'Like what you see? Visit the ' +\n",
              "            '<a target=\"_blank\" href=https://colab.research.google.com/notebooks/data_table.ipynb>data table notebook</a>'\n",
              "            + ' to learn more about interactive tables.';\n",
              "          element.innerHTML = '';\n",
              "          dataTable['output_type'] = 'display_data';\n",
              "          await google.colab.output.renderOutput(dataTable, element);\n",
              "          const docLink = document.createElement('div');\n",
              "          docLink.innerHTML = docLinkHtml;\n",
              "          element.appendChild(docLink);\n",
              "        }\n",
              "      </script>\n",
              "    </div>\n",
              "  </div>\n",
              "  "
            ]
          },
          "metadata": {},
          "execution_count": 52
        }
      ]
    },
    {
      "cell_type": "code",
      "source": [
        "# R\n",
        "import pandas as pd\n",
        "sample_dict = {\n",
        "    'col1': [11,12,13,14],\n",
        "    'col2': [21,22,23,24],\n",
        "    'col3': [31,32,33,34],\n",
        "}\n",
        "df = pd.DataFrame(sample_dict)\n",
        "display(df)\n",
        "\n",
        "df.loc[2] # 2번째 행 \n",
        "df.loc[2:] # 2번째 행부터 끝까지\n",
        "df.loc[:2] # 처음부터 2번째 행까지\n",
        "df[df.col1 == 13] # 첫행이 13인 행\n",
        "df.T # 트랜스포즈 효과 (행렬 뒤바꿈 변경, 전치)\n",
        "\n",
        "# df"
      ],
      "metadata": {
        "colab": {
          "base_uri": "https://localhost:8080/",
          "height": 301
        },
        "id": "oVgnBO9hWjBT",
        "outputId": "e804d9b1-edd6-410a-b019-8af99f649955"
      },
      "execution_count": 59,
      "outputs": [
        {
          "output_type": "display_data",
          "data": {
            "text/plain": [
              "   col1  col2  col3\n",
              "0    11    21    31\n",
              "1    12    22    32\n",
              "2    13    23    33\n",
              "3    14    24    34"
            ],
            "text/html": [
              "\n",
              "  <div id=\"df-892f365d-de23-4b00-b7d8-ae427bf7ceff\">\n",
              "    <div class=\"colab-df-container\">\n",
              "      <div>\n",
              "<style scoped>\n",
              "    .dataframe tbody tr th:only-of-type {\n",
              "        vertical-align: middle;\n",
              "    }\n",
              "\n",
              "    .dataframe tbody tr th {\n",
              "        vertical-align: top;\n",
              "    }\n",
              "\n",
              "    .dataframe thead th {\n",
              "        text-align: right;\n",
              "    }\n",
              "</style>\n",
              "<table border=\"1\" class=\"dataframe\">\n",
              "  <thead>\n",
              "    <tr style=\"text-align: right;\">\n",
              "      <th></th>\n",
              "      <th>col1</th>\n",
              "      <th>col2</th>\n",
              "      <th>col3</th>\n",
              "    </tr>\n",
              "  </thead>\n",
              "  <tbody>\n",
              "    <tr>\n",
              "      <th>0</th>\n",
              "      <td>11</td>\n",
              "      <td>21</td>\n",
              "      <td>31</td>\n",
              "    </tr>\n",
              "    <tr>\n",
              "      <th>1</th>\n",
              "      <td>12</td>\n",
              "      <td>22</td>\n",
              "      <td>32</td>\n",
              "    </tr>\n",
              "    <tr>\n",
              "      <th>2</th>\n",
              "      <td>13</td>\n",
              "      <td>23</td>\n",
              "      <td>33</td>\n",
              "    </tr>\n",
              "    <tr>\n",
              "      <th>3</th>\n",
              "      <td>14</td>\n",
              "      <td>24</td>\n",
              "      <td>34</td>\n",
              "    </tr>\n",
              "  </tbody>\n",
              "</table>\n",
              "</div>\n",
              "      <button class=\"colab-df-convert\" onclick=\"convertToInteractive('df-892f365d-de23-4b00-b7d8-ae427bf7ceff')\"\n",
              "              title=\"Convert this dataframe to an interactive table.\"\n",
              "              style=\"display:none;\">\n",
              "        \n",
              "  <svg xmlns=\"http://www.w3.org/2000/svg\" height=\"24px\"viewBox=\"0 0 24 24\"\n",
              "       width=\"24px\">\n",
              "    <path d=\"M0 0h24v24H0V0z\" fill=\"none\"/>\n",
              "    <path d=\"M18.56 5.44l.94 2.06.94-2.06 2.06-.94-2.06-.94-.94-2.06-.94 2.06-2.06.94zm-11 1L8.5 8.5l.94-2.06 2.06-.94-2.06-.94L8.5 2.5l-.94 2.06-2.06.94zm10 10l.94 2.06.94-2.06 2.06-.94-2.06-.94-.94-2.06-.94 2.06-2.06.94z\"/><path d=\"M17.41 7.96l-1.37-1.37c-.4-.4-.92-.59-1.43-.59-.52 0-1.04.2-1.43.59L10.3 9.45l-7.72 7.72c-.78.78-.78 2.05 0 2.83L4 21.41c.39.39.9.59 1.41.59.51 0 1.02-.2 1.41-.59l7.78-7.78 2.81-2.81c.8-.78.8-2.07 0-2.86zM5.41 20L4 18.59l7.72-7.72 1.47 1.35L5.41 20z\"/>\n",
              "  </svg>\n",
              "      </button>\n",
              "      \n",
              "  <style>\n",
              "    .colab-df-container {\n",
              "      display:flex;\n",
              "      flex-wrap:wrap;\n",
              "      gap: 12px;\n",
              "    }\n",
              "\n",
              "    .colab-df-convert {\n",
              "      background-color: #E8F0FE;\n",
              "      border: none;\n",
              "      border-radius: 50%;\n",
              "      cursor: pointer;\n",
              "      display: none;\n",
              "      fill: #1967D2;\n",
              "      height: 32px;\n",
              "      padding: 0 0 0 0;\n",
              "      width: 32px;\n",
              "    }\n",
              "\n",
              "    .colab-df-convert:hover {\n",
              "      background-color: #E2EBFA;\n",
              "      box-shadow: 0px 1px 2px rgba(60, 64, 67, 0.3), 0px 1px 3px 1px rgba(60, 64, 67, 0.15);\n",
              "      fill: #174EA6;\n",
              "    }\n",
              "\n",
              "    [theme=dark] .colab-df-convert {\n",
              "      background-color: #3B4455;\n",
              "      fill: #D2E3FC;\n",
              "    }\n",
              "\n",
              "    [theme=dark] .colab-df-convert:hover {\n",
              "      background-color: #434B5C;\n",
              "      box-shadow: 0px 1px 3px 1px rgba(0, 0, 0, 0.15);\n",
              "      filter: drop-shadow(0px 1px 2px rgba(0, 0, 0, 0.3));\n",
              "      fill: #FFFFFF;\n",
              "    }\n",
              "  </style>\n",
              "\n",
              "      <script>\n",
              "        const buttonEl =\n",
              "          document.querySelector('#df-892f365d-de23-4b00-b7d8-ae427bf7ceff button.colab-df-convert');\n",
              "        buttonEl.style.display =\n",
              "          google.colab.kernel.accessAllowed ? 'block' : 'none';\n",
              "\n",
              "        async function convertToInteractive(key) {\n",
              "          const element = document.querySelector('#df-892f365d-de23-4b00-b7d8-ae427bf7ceff');\n",
              "          const dataTable =\n",
              "            await google.colab.kernel.invokeFunction('convertToInteractive',\n",
              "                                                     [key], {});\n",
              "          if (!dataTable) return;\n",
              "\n",
              "          const docLinkHtml = 'Like what you see? Visit the ' +\n",
              "            '<a target=\"_blank\" href=https://colab.research.google.com/notebooks/data_table.ipynb>data table notebook</a>'\n",
              "            + ' to learn more about interactive tables.';\n",
              "          element.innerHTML = '';\n",
              "          dataTable['output_type'] = 'display_data';\n",
              "          await google.colab.output.renderOutput(dataTable, element);\n",
              "          const docLink = document.createElement('div');\n",
              "          docLink.innerHTML = docLinkHtml;\n",
              "          element.appendChild(docLink);\n",
              "        }\n",
              "      </script>\n",
              "    </div>\n",
              "  </div>\n",
              "  "
            ]
          },
          "metadata": {}
        },
        {
          "output_type": "execute_result",
          "data": {
            "text/plain": [
              "       0   1   2   3\n",
              "col1  11  12  13  14\n",
              "col2  21  22  23  24\n",
              "col3  31  32  33  34"
            ],
            "text/html": [
              "\n",
              "  <div id=\"df-ca443a01-c155-427d-b95b-3b77df9be47d\">\n",
              "    <div class=\"colab-df-container\">\n",
              "      <div>\n",
              "<style scoped>\n",
              "    .dataframe tbody tr th:only-of-type {\n",
              "        vertical-align: middle;\n",
              "    }\n",
              "\n",
              "    .dataframe tbody tr th {\n",
              "        vertical-align: top;\n",
              "    }\n",
              "\n",
              "    .dataframe thead th {\n",
              "        text-align: right;\n",
              "    }\n",
              "</style>\n",
              "<table border=\"1\" class=\"dataframe\">\n",
              "  <thead>\n",
              "    <tr style=\"text-align: right;\">\n",
              "      <th></th>\n",
              "      <th>0</th>\n",
              "      <th>1</th>\n",
              "      <th>2</th>\n",
              "      <th>3</th>\n",
              "    </tr>\n",
              "  </thead>\n",
              "  <tbody>\n",
              "    <tr>\n",
              "      <th>col1</th>\n",
              "      <td>11</td>\n",
              "      <td>12</td>\n",
              "      <td>13</td>\n",
              "      <td>14</td>\n",
              "    </tr>\n",
              "    <tr>\n",
              "      <th>col2</th>\n",
              "      <td>21</td>\n",
              "      <td>22</td>\n",
              "      <td>23</td>\n",
              "      <td>24</td>\n",
              "    </tr>\n",
              "    <tr>\n",
              "      <th>col3</th>\n",
              "      <td>31</td>\n",
              "      <td>32</td>\n",
              "      <td>33</td>\n",
              "      <td>34</td>\n",
              "    </tr>\n",
              "  </tbody>\n",
              "</table>\n",
              "</div>\n",
              "      <button class=\"colab-df-convert\" onclick=\"convertToInteractive('df-ca443a01-c155-427d-b95b-3b77df9be47d')\"\n",
              "              title=\"Convert this dataframe to an interactive table.\"\n",
              "              style=\"display:none;\">\n",
              "        \n",
              "  <svg xmlns=\"http://www.w3.org/2000/svg\" height=\"24px\"viewBox=\"0 0 24 24\"\n",
              "       width=\"24px\">\n",
              "    <path d=\"M0 0h24v24H0V0z\" fill=\"none\"/>\n",
              "    <path d=\"M18.56 5.44l.94 2.06.94-2.06 2.06-.94-2.06-.94-.94-2.06-.94 2.06-2.06.94zm-11 1L8.5 8.5l.94-2.06 2.06-.94-2.06-.94L8.5 2.5l-.94 2.06-2.06.94zm10 10l.94 2.06.94-2.06 2.06-.94-2.06-.94-.94-2.06-.94 2.06-2.06.94z\"/><path d=\"M17.41 7.96l-1.37-1.37c-.4-.4-.92-.59-1.43-.59-.52 0-1.04.2-1.43.59L10.3 9.45l-7.72 7.72c-.78.78-.78 2.05 0 2.83L4 21.41c.39.39.9.59 1.41.59.51 0 1.02-.2 1.41-.59l7.78-7.78 2.81-2.81c.8-.78.8-2.07 0-2.86zM5.41 20L4 18.59l7.72-7.72 1.47 1.35L5.41 20z\"/>\n",
              "  </svg>\n",
              "      </button>\n",
              "      \n",
              "  <style>\n",
              "    .colab-df-container {\n",
              "      display:flex;\n",
              "      flex-wrap:wrap;\n",
              "      gap: 12px;\n",
              "    }\n",
              "\n",
              "    .colab-df-convert {\n",
              "      background-color: #E8F0FE;\n",
              "      border: none;\n",
              "      border-radius: 50%;\n",
              "      cursor: pointer;\n",
              "      display: none;\n",
              "      fill: #1967D2;\n",
              "      height: 32px;\n",
              "      padding: 0 0 0 0;\n",
              "      width: 32px;\n",
              "    }\n",
              "\n",
              "    .colab-df-convert:hover {\n",
              "      background-color: #E2EBFA;\n",
              "      box-shadow: 0px 1px 2px rgba(60, 64, 67, 0.3), 0px 1px 3px 1px rgba(60, 64, 67, 0.15);\n",
              "      fill: #174EA6;\n",
              "    }\n",
              "\n",
              "    [theme=dark] .colab-df-convert {\n",
              "      background-color: #3B4455;\n",
              "      fill: #D2E3FC;\n",
              "    }\n",
              "\n",
              "    [theme=dark] .colab-df-convert:hover {\n",
              "      background-color: #434B5C;\n",
              "      box-shadow: 0px 1px 3px 1px rgba(0, 0, 0, 0.15);\n",
              "      filter: drop-shadow(0px 1px 2px rgba(0, 0, 0, 0.3));\n",
              "      fill: #FFFFFF;\n",
              "    }\n",
              "  </style>\n",
              "\n",
              "      <script>\n",
              "        const buttonEl =\n",
              "          document.querySelector('#df-ca443a01-c155-427d-b95b-3b77df9be47d button.colab-df-convert');\n",
              "        buttonEl.style.display =\n",
              "          google.colab.kernel.accessAllowed ? 'block' : 'none';\n",
              "\n",
              "        async function convertToInteractive(key) {\n",
              "          const element = document.querySelector('#df-ca443a01-c155-427d-b95b-3b77df9be47d');\n",
              "          const dataTable =\n",
              "            await google.colab.kernel.invokeFunction('convertToInteractive',\n",
              "                                                     [key], {});\n",
              "          if (!dataTable) return;\n",
              "\n",
              "          const docLinkHtml = 'Like what you see? Visit the ' +\n",
              "            '<a target=\"_blank\" href=https://colab.research.google.com/notebooks/data_table.ipynb>data table notebook</a>'\n",
              "            + ' to learn more about interactive tables.';\n",
              "          element.innerHTML = '';\n",
              "          dataTable['output_type'] = 'display_data';\n",
              "          await google.colab.output.renderOutput(dataTable, element);\n",
              "          const docLink = document.createElement('div');\n",
              "          docLink.innerHTML = docLinkHtml;\n",
              "          element.appendChild(docLink);\n",
              "        }\n",
              "      </script>\n",
              "    </div>\n",
              "  </div>\n",
              "  "
            ]
          },
          "metadata": {},
          "execution_count": 59
        }
      ]
    },
    {
      "cell_type": "code",
      "source": [
        "# R\n",
        "import pandas as pd\n",
        "sample_dict = {\n",
        "    'col1': [22,22,33,14],\n",
        "    'col2': [21,22,33,24],\n",
        "    'col3': [11,12,56,67],\n",
        "}\n",
        "df = pd.DataFrame(sample_dict)\n",
        "\n",
        "df.head()\n",
        "df.tail()\n",
        "df.shape\n",
        "df.describe()\n",
        "\n",
        "df.col1.value_counts()\n",
        "df.col1.value_counts(normalize=True)\n",
        "\n",
        "df.info()\n",
        "df.info(verbose=True) # null 컬럼 출력\n",
        "\n",
        "df['col1'].unique()\n",
        "df['col1'].nunique()\n",
        "df['col1'].isin([22,12])\n",
        "df.loc[df['col1'].isin([22,12]), :]\n"
      ],
      "metadata": {
        "colab": {
          "base_uri": "https://localhost:8080/",
          "height": 479
        },
        "id": "slQ2VxYgW-jb",
        "outputId": "5a6dfa02-1148-4565-8f93-8f603fe3400b"
      },
      "execution_count": 63,
      "outputs": [
        {
          "output_type": "stream",
          "name": "stdout",
          "text": [
            "<class 'pandas.core.frame.DataFrame'>\n",
            "RangeIndex: 4 entries, 0 to 3\n",
            "Data columns (total 3 columns):\n",
            " #   Column  Non-Null Count  Dtype\n",
            "---  ------  --------------  -----\n",
            " 0   col1    4 non-null      int64\n",
            " 1   col2    4 non-null      int64\n",
            " 2   col3    4 non-null      int64\n",
            "dtypes: int64(3)\n",
            "memory usage: 224.0 bytes\n",
            "<class 'pandas.core.frame.DataFrame'>\n",
            "RangeIndex: 4 entries, 0 to 3\n",
            "Data columns (total 3 columns):\n",
            " #   Column  Non-Null Count  Dtype\n",
            "---  ------  --------------  -----\n",
            " 0   col1    4 non-null      int64\n",
            " 1   col2    4 non-null      int64\n",
            " 2   col3    4 non-null      int64\n",
            "dtypes: int64(3)\n",
            "memory usage: 224.0 bytes\n"
          ]
        },
        {
          "output_type": "execute_result",
          "data": {
            "text/plain": [
              "   col1  col2  col3\n",
              "0    22    21    11\n",
              "1    22    22    12"
            ],
            "text/html": [
              "\n",
              "  <div id=\"df-d6f1e9e4-8533-4ebe-81c4-b2bc543e90e1\">\n",
              "    <div class=\"colab-df-container\">\n",
              "      <div>\n",
              "<style scoped>\n",
              "    .dataframe tbody tr th:only-of-type {\n",
              "        vertical-align: middle;\n",
              "    }\n",
              "\n",
              "    .dataframe tbody tr th {\n",
              "        vertical-align: top;\n",
              "    }\n",
              "\n",
              "    .dataframe thead th {\n",
              "        text-align: right;\n",
              "    }\n",
              "</style>\n",
              "<table border=\"1\" class=\"dataframe\">\n",
              "  <thead>\n",
              "    <tr style=\"text-align: right;\">\n",
              "      <th></th>\n",
              "      <th>col1</th>\n",
              "      <th>col2</th>\n",
              "      <th>col3</th>\n",
              "    </tr>\n",
              "  </thead>\n",
              "  <tbody>\n",
              "    <tr>\n",
              "      <th>0</th>\n",
              "      <td>22</td>\n",
              "      <td>21</td>\n",
              "      <td>11</td>\n",
              "    </tr>\n",
              "    <tr>\n",
              "      <th>1</th>\n",
              "      <td>22</td>\n",
              "      <td>22</td>\n",
              "      <td>12</td>\n",
              "    </tr>\n",
              "  </tbody>\n",
              "</table>\n",
              "</div>\n",
              "      <button class=\"colab-df-convert\" onclick=\"convertToInteractive('df-d6f1e9e4-8533-4ebe-81c4-b2bc543e90e1')\"\n",
              "              title=\"Convert this dataframe to an interactive table.\"\n",
              "              style=\"display:none;\">\n",
              "        \n",
              "  <svg xmlns=\"http://www.w3.org/2000/svg\" height=\"24px\"viewBox=\"0 0 24 24\"\n",
              "       width=\"24px\">\n",
              "    <path d=\"M0 0h24v24H0V0z\" fill=\"none\"/>\n",
              "    <path d=\"M18.56 5.44l.94 2.06.94-2.06 2.06-.94-2.06-.94-.94-2.06-.94 2.06-2.06.94zm-11 1L8.5 8.5l.94-2.06 2.06-.94-2.06-.94L8.5 2.5l-.94 2.06-2.06.94zm10 10l.94 2.06.94-2.06 2.06-.94-2.06-.94-.94-2.06-.94 2.06-2.06.94z\"/><path d=\"M17.41 7.96l-1.37-1.37c-.4-.4-.92-.59-1.43-.59-.52 0-1.04.2-1.43.59L10.3 9.45l-7.72 7.72c-.78.78-.78 2.05 0 2.83L4 21.41c.39.39.9.59 1.41.59.51 0 1.02-.2 1.41-.59l7.78-7.78 2.81-2.81c.8-.78.8-2.07 0-2.86zM5.41 20L4 18.59l7.72-7.72 1.47 1.35L5.41 20z\"/>\n",
              "  </svg>\n",
              "      </button>\n",
              "      \n",
              "  <style>\n",
              "    .colab-df-container {\n",
              "      display:flex;\n",
              "      flex-wrap:wrap;\n",
              "      gap: 12px;\n",
              "    }\n",
              "\n",
              "    .colab-df-convert {\n",
              "      background-color: #E8F0FE;\n",
              "      border: none;\n",
              "      border-radius: 50%;\n",
              "      cursor: pointer;\n",
              "      display: none;\n",
              "      fill: #1967D2;\n",
              "      height: 32px;\n",
              "      padding: 0 0 0 0;\n",
              "      width: 32px;\n",
              "    }\n",
              "\n",
              "    .colab-df-convert:hover {\n",
              "      background-color: #E2EBFA;\n",
              "      box-shadow: 0px 1px 2px rgba(60, 64, 67, 0.3), 0px 1px 3px 1px rgba(60, 64, 67, 0.15);\n",
              "      fill: #174EA6;\n",
              "    }\n",
              "\n",
              "    [theme=dark] .colab-df-convert {\n",
              "      background-color: #3B4455;\n",
              "      fill: #D2E3FC;\n",
              "    }\n",
              "\n",
              "    [theme=dark] .colab-df-convert:hover {\n",
              "      background-color: #434B5C;\n",
              "      box-shadow: 0px 1px 3px 1px rgba(0, 0, 0, 0.15);\n",
              "      filter: drop-shadow(0px 1px 2px rgba(0, 0, 0, 0.3));\n",
              "      fill: #FFFFFF;\n",
              "    }\n",
              "  </style>\n",
              "\n",
              "      <script>\n",
              "        const buttonEl =\n",
              "          document.querySelector('#df-d6f1e9e4-8533-4ebe-81c4-b2bc543e90e1 button.colab-df-convert');\n",
              "        buttonEl.style.display =\n",
              "          google.colab.kernel.accessAllowed ? 'block' : 'none';\n",
              "\n",
              "        async function convertToInteractive(key) {\n",
              "          const element = document.querySelector('#df-d6f1e9e4-8533-4ebe-81c4-b2bc543e90e1');\n",
              "          const dataTable =\n",
              "            await google.colab.kernel.invokeFunction('convertToInteractive',\n",
              "                                                     [key], {});\n",
              "          if (!dataTable) return;\n",
              "\n",
              "          const docLinkHtml = 'Like what you see? Visit the ' +\n",
              "            '<a target=\"_blank\" href=https://colab.research.google.com/notebooks/data_table.ipynb>data table notebook</a>'\n",
              "            + ' to learn more about interactive tables.';\n",
              "          element.innerHTML = '';\n",
              "          dataTable['output_type'] = 'display_data';\n",
              "          await google.colab.output.renderOutput(dataTable, element);\n",
              "          const docLink = document.createElement('div');\n",
              "          docLink.innerHTML = docLinkHtml;\n",
              "          element.appendChild(docLink);\n",
              "        }\n",
              "      </script>\n",
              "    </div>\n",
              "  </div>\n",
              "  "
            ]
          },
          "metadata": {},
          "execution_count": 63
        }
      ]
    },
    {
      "cell_type": "code",
      "source": [
        "# U\n",
        "df.reset_index(drop=True)"
      ],
      "metadata": {
        "colab": {
          "base_uri": "https://localhost:8080/",
          "height": 175
        },
        "id": "h0gOVrvE0Pqe",
        "outputId": "46e9878c-cec3-4718-8684-4855b2ace7d0"
      },
      "execution_count": 55,
      "outputs": [
        {
          "output_type": "execute_result",
          "data": {
            "text/plain": [
              "   col1  col2  col3\n",
              "0    11    21    31\n",
              "1    12    22    32\n",
              "2    13    23    33\n",
              "3    14    24    34"
            ],
            "text/html": [
              "\n",
              "  <div id=\"df-7d022ac5-b176-4212-87ed-ea341de7053f\">\n",
              "    <div class=\"colab-df-container\">\n",
              "      <div>\n",
              "<style scoped>\n",
              "    .dataframe tbody tr th:only-of-type {\n",
              "        vertical-align: middle;\n",
              "    }\n",
              "\n",
              "    .dataframe tbody tr th {\n",
              "        vertical-align: top;\n",
              "    }\n",
              "\n",
              "    .dataframe thead th {\n",
              "        text-align: right;\n",
              "    }\n",
              "</style>\n",
              "<table border=\"1\" class=\"dataframe\">\n",
              "  <thead>\n",
              "    <tr style=\"text-align: right;\">\n",
              "      <th></th>\n",
              "      <th>col1</th>\n",
              "      <th>col2</th>\n",
              "      <th>col3</th>\n",
              "    </tr>\n",
              "  </thead>\n",
              "  <tbody>\n",
              "    <tr>\n",
              "      <th>0</th>\n",
              "      <td>11</td>\n",
              "      <td>21</td>\n",
              "      <td>31</td>\n",
              "    </tr>\n",
              "    <tr>\n",
              "      <th>1</th>\n",
              "      <td>12</td>\n",
              "      <td>22</td>\n",
              "      <td>32</td>\n",
              "    </tr>\n",
              "    <tr>\n",
              "      <th>2</th>\n",
              "      <td>13</td>\n",
              "      <td>23</td>\n",
              "      <td>33</td>\n",
              "    </tr>\n",
              "    <tr>\n",
              "      <th>3</th>\n",
              "      <td>14</td>\n",
              "      <td>24</td>\n",
              "      <td>34</td>\n",
              "    </tr>\n",
              "  </tbody>\n",
              "</table>\n",
              "</div>\n",
              "      <button class=\"colab-df-convert\" onclick=\"convertToInteractive('df-7d022ac5-b176-4212-87ed-ea341de7053f')\"\n",
              "              title=\"Convert this dataframe to an interactive table.\"\n",
              "              style=\"display:none;\">\n",
              "        \n",
              "  <svg xmlns=\"http://www.w3.org/2000/svg\" height=\"24px\"viewBox=\"0 0 24 24\"\n",
              "       width=\"24px\">\n",
              "    <path d=\"M0 0h24v24H0V0z\" fill=\"none\"/>\n",
              "    <path d=\"M18.56 5.44l.94 2.06.94-2.06 2.06-.94-2.06-.94-.94-2.06-.94 2.06-2.06.94zm-11 1L8.5 8.5l.94-2.06 2.06-.94-2.06-.94L8.5 2.5l-.94 2.06-2.06.94zm10 10l.94 2.06.94-2.06 2.06-.94-2.06-.94-.94-2.06-.94 2.06-2.06.94z\"/><path d=\"M17.41 7.96l-1.37-1.37c-.4-.4-.92-.59-1.43-.59-.52 0-1.04.2-1.43.59L10.3 9.45l-7.72 7.72c-.78.78-.78 2.05 0 2.83L4 21.41c.39.39.9.59 1.41.59.51 0 1.02-.2 1.41-.59l7.78-7.78 2.81-2.81c.8-.78.8-2.07 0-2.86zM5.41 20L4 18.59l7.72-7.72 1.47 1.35L5.41 20z\"/>\n",
              "  </svg>\n",
              "      </button>\n",
              "      \n",
              "  <style>\n",
              "    .colab-df-container {\n",
              "      display:flex;\n",
              "      flex-wrap:wrap;\n",
              "      gap: 12px;\n",
              "    }\n",
              "\n",
              "    .colab-df-convert {\n",
              "      background-color: #E8F0FE;\n",
              "      border: none;\n",
              "      border-radius: 50%;\n",
              "      cursor: pointer;\n",
              "      display: none;\n",
              "      fill: #1967D2;\n",
              "      height: 32px;\n",
              "      padding: 0 0 0 0;\n",
              "      width: 32px;\n",
              "    }\n",
              "\n",
              "    .colab-df-convert:hover {\n",
              "      background-color: #E2EBFA;\n",
              "      box-shadow: 0px 1px 2px rgba(60, 64, 67, 0.3), 0px 1px 3px 1px rgba(60, 64, 67, 0.15);\n",
              "      fill: #174EA6;\n",
              "    }\n",
              "\n",
              "    [theme=dark] .colab-df-convert {\n",
              "      background-color: #3B4455;\n",
              "      fill: #D2E3FC;\n",
              "    }\n",
              "\n",
              "    [theme=dark] .colab-df-convert:hover {\n",
              "      background-color: #434B5C;\n",
              "      box-shadow: 0px 1px 3px 1px rgba(0, 0, 0, 0.15);\n",
              "      filter: drop-shadow(0px 1px 2px rgba(0, 0, 0, 0.3));\n",
              "      fill: #FFFFFF;\n",
              "    }\n",
              "  </style>\n",
              "\n",
              "      <script>\n",
              "        const buttonEl =\n",
              "          document.querySelector('#df-7d022ac5-b176-4212-87ed-ea341de7053f button.colab-df-convert');\n",
              "        buttonEl.style.display =\n",
              "          google.colab.kernel.accessAllowed ? 'block' : 'none';\n",
              "\n",
              "        async function convertToInteractive(key) {\n",
              "          const element = document.querySelector('#df-7d022ac5-b176-4212-87ed-ea341de7053f');\n",
              "          const dataTable =\n",
              "            await google.colab.kernel.invokeFunction('convertToInteractive',\n",
              "                                                     [key], {});\n",
              "          if (!dataTable) return;\n",
              "\n",
              "          const docLinkHtml = 'Like what you see? Visit the ' +\n",
              "            '<a target=\"_blank\" href=https://colab.research.google.com/notebooks/data_table.ipynb>data table notebook</a>'\n",
              "            + ' to learn more about interactive tables.';\n",
              "          element.innerHTML = '';\n",
              "          dataTable['output_type'] = 'display_data';\n",
              "          await google.colab.output.renderOutput(dataTable, element);\n",
              "          const docLink = document.createElement('div');\n",
              "          docLink.innerHTML = docLinkHtml;\n",
              "          element.appendChild(docLink);\n",
              "        }\n",
              "      </script>\n",
              "    </div>\n",
              "  </div>\n",
              "  "
            ]
          },
          "metadata": {},
          "execution_count": 55
        }
      ]
    },
    {
      "cell_type": "code",
      "source": [
        "# U\n",
        "df.columns = ['change_col1', 'change_col2', 'change_col3']\n",
        "df"
      ],
      "metadata": {
        "colab": {
          "base_uri": "https://localhost:8080/",
          "height": 175
        },
        "id": "hVr-CtHK0Qrw",
        "outputId": "da84f43b-9b75-4228-a0b8-09116de1fc84"
      },
      "execution_count": 56,
      "outputs": [
        {
          "output_type": "execute_result",
          "data": {
            "text/plain": [
              "   change_col1  change_col2  change_col3\n",
              "0           11           21           31\n",
              "1           12           22           32\n",
              "2           13           23           33\n",
              "3           14           24           34"
            ],
            "text/html": [
              "\n",
              "  <div id=\"df-75a297aa-782c-4de9-822c-ce0e33db319d\">\n",
              "    <div class=\"colab-df-container\">\n",
              "      <div>\n",
              "<style scoped>\n",
              "    .dataframe tbody tr th:only-of-type {\n",
              "        vertical-align: middle;\n",
              "    }\n",
              "\n",
              "    .dataframe tbody tr th {\n",
              "        vertical-align: top;\n",
              "    }\n",
              "\n",
              "    .dataframe thead th {\n",
              "        text-align: right;\n",
              "    }\n",
              "</style>\n",
              "<table border=\"1\" class=\"dataframe\">\n",
              "  <thead>\n",
              "    <tr style=\"text-align: right;\">\n",
              "      <th></th>\n",
              "      <th>change_col1</th>\n",
              "      <th>change_col2</th>\n",
              "      <th>change_col3</th>\n",
              "    </tr>\n",
              "  </thead>\n",
              "  <tbody>\n",
              "    <tr>\n",
              "      <th>0</th>\n",
              "      <td>11</td>\n",
              "      <td>21</td>\n",
              "      <td>31</td>\n",
              "    </tr>\n",
              "    <tr>\n",
              "      <th>1</th>\n",
              "      <td>12</td>\n",
              "      <td>22</td>\n",
              "      <td>32</td>\n",
              "    </tr>\n",
              "    <tr>\n",
              "      <th>2</th>\n",
              "      <td>13</td>\n",
              "      <td>23</td>\n",
              "      <td>33</td>\n",
              "    </tr>\n",
              "    <tr>\n",
              "      <th>3</th>\n",
              "      <td>14</td>\n",
              "      <td>24</td>\n",
              "      <td>34</td>\n",
              "    </tr>\n",
              "  </tbody>\n",
              "</table>\n",
              "</div>\n",
              "      <button class=\"colab-df-convert\" onclick=\"convertToInteractive('df-75a297aa-782c-4de9-822c-ce0e33db319d')\"\n",
              "              title=\"Convert this dataframe to an interactive table.\"\n",
              "              style=\"display:none;\">\n",
              "        \n",
              "  <svg xmlns=\"http://www.w3.org/2000/svg\" height=\"24px\"viewBox=\"0 0 24 24\"\n",
              "       width=\"24px\">\n",
              "    <path d=\"M0 0h24v24H0V0z\" fill=\"none\"/>\n",
              "    <path d=\"M18.56 5.44l.94 2.06.94-2.06 2.06-.94-2.06-.94-.94-2.06-.94 2.06-2.06.94zm-11 1L8.5 8.5l.94-2.06 2.06-.94-2.06-.94L8.5 2.5l-.94 2.06-2.06.94zm10 10l.94 2.06.94-2.06 2.06-.94-2.06-.94-.94-2.06-.94 2.06-2.06.94z\"/><path d=\"M17.41 7.96l-1.37-1.37c-.4-.4-.92-.59-1.43-.59-.52 0-1.04.2-1.43.59L10.3 9.45l-7.72 7.72c-.78.78-.78 2.05 0 2.83L4 21.41c.39.39.9.59 1.41.59.51 0 1.02-.2 1.41-.59l7.78-7.78 2.81-2.81c.8-.78.8-2.07 0-2.86zM5.41 20L4 18.59l7.72-7.72 1.47 1.35L5.41 20z\"/>\n",
              "  </svg>\n",
              "      </button>\n",
              "      \n",
              "  <style>\n",
              "    .colab-df-container {\n",
              "      display:flex;\n",
              "      flex-wrap:wrap;\n",
              "      gap: 12px;\n",
              "    }\n",
              "\n",
              "    .colab-df-convert {\n",
              "      background-color: #E8F0FE;\n",
              "      border: none;\n",
              "      border-radius: 50%;\n",
              "      cursor: pointer;\n",
              "      display: none;\n",
              "      fill: #1967D2;\n",
              "      height: 32px;\n",
              "      padding: 0 0 0 0;\n",
              "      width: 32px;\n",
              "    }\n",
              "\n",
              "    .colab-df-convert:hover {\n",
              "      background-color: #E2EBFA;\n",
              "      box-shadow: 0px 1px 2px rgba(60, 64, 67, 0.3), 0px 1px 3px 1px rgba(60, 64, 67, 0.15);\n",
              "      fill: #174EA6;\n",
              "    }\n",
              "\n",
              "    [theme=dark] .colab-df-convert {\n",
              "      background-color: #3B4455;\n",
              "      fill: #D2E3FC;\n",
              "    }\n",
              "\n",
              "    [theme=dark] .colab-df-convert:hover {\n",
              "      background-color: #434B5C;\n",
              "      box-shadow: 0px 1px 3px 1px rgba(0, 0, 0, 0.15);\n",
              "      filter: drop-shadow(0px 1px 2px rgba(0, 0, 0, 0.3));\n",
              "      fill: #FFFFFF;\n",
              "    }\n",
              "  </style>\n",
              "\n",
              "      <script>\n",
              "        const buttonEl =\n",
              "          document.querySelector('#df-75a297aa-782c-4de9-822c-ce0e33db319d button.colab-df-convert');\n",
              "        buttonEl.style.display =\n",
              "          google.colab.kernel.accessAllowed ? 'block' : 'none';\n",
              "\n",
              "        async function convertToInteractive(key) {\n",
              "          const element = document.querySelector('#df-75a297aa-782c-4de9-822c-ce0e33db319d');\n",
              "          const dataTable =\n",
              "            await google.colab.kernel.invokeFunction('convertToInteractive',\n",
              "                                                     [key], {});\n",
              "          if (!dataTable) return;\n",
              "\n",
              "          const docLinkHtml = 'Like what you see? Visit the ' +\n",
              "            '<a target=\"_blank\" href=https://colab.research.google.com/notebooks/data_table.ipynb>data table notebook</a>'\n",
              "            + ' to learn more about interactive tables.';\n",
              "          element.innerHTML = '';\n",
              "          dataTable['output_type'] = 'display_data';\n",
              "          await google.colab.output.renderOutput(dataTable, element);\n",
              "          const docLink = document.createElement('div');\n",
              "          docLink.innerHTML = docLinkHtml;\n",
              "          element.appendChild(docLink);\n",
              "        }\n",
              "      </script>\n",
              "    </div>\n",
              "  </div>\n",
              "  "
            ]
          },
          "metadata": {},
          "execution_count": 56
        }
      ]
    },
    {
      "cell_type": "code",
      "source": [
        "# U\n",
        "df = df.add_prefix('ks_')\n",
        "df"
      ],
      "metadata": {
        "colab": {
          "base_uri": "https://localhost:8080/",
          "height": 175
        },
        "id": "Lk2a-cNX0Tzb",
        "outputId": "7c9d46e1-9c2e-481d-d62a-1387eac05d39"
      },
      "execution_count": 57,
      "outputs": [
        {
          "output_type": "execute_result",
          "data": {
            "text/plain": [
              "   ks_change_col1  ks_change_col2  ks_change_col3\n",
              "0              11              21              31\n",
              "1              12              22              32\n",
              "2              13              23              33\n",
              "3              14              24              34"
            ],
            "text/html": [
              "\n",
              "  <div id=\"df-330df964-4f13-4910-a2f5-904656fe7dc2\">\n",
              "    <div class=\"colab-df-container\">\n",
              "      <div>\n",
              "<style scoped>\n",
              "    .dataframe tbody tr th:only-of-type {\n",
              "        vertical-align: middle;\n",
              "    }\n",
              "\n",
              "    .dataframe tbody tr th {\n",
              "        vertical-align: top;\n",
              "    }\n",
              "\n",
              "    .dataframe thead th {\n",
              "        text-align: right;\n",
              "    }\n",
              "</style>\n",
              "<table border=\"1\" class=\"dataframe\">\n",
              "  <thead>\n",
              "    <tr style=\"text-align: right;\">\n",
              "      <th></th>\n",
              "      <th>ks_change_col1</th>\n",
              "      <th>ks_change_col2</th>\n",
              "      <th>ks_change_col3</th>\n",
              "    </tr>\n",
              "  </thead>\n",
              "  <tbody>\n",
              "    <tr>\n",
              "      <th>0</th>\n",
              "      <td>11</td>\n",
              "      <td>21</td>\n",
              "      <td>31</td>\n",
              "    </tr>\n",
              "    <tr>\n",
              "      <th>1</th>\n",
              "      <td>12</td>\n",
              "      <td>22</td>\n",
              "      <td>32</td>\n",
              "    </tr>\n",
              "    <tr>\n",
              "      <th>2</th>\n",
              "      <td>13</td>\n",
              "      <td>23</td>\n",
              "      <td>33</td>\n",
              "    </tr>\n",
              "    <tr>\n",
              "      <th>3</th>\n",
              "      <td>14</td>\n",
              "      <td>24</td>\n",
              "      <td>34</td>\n",
              "    </tr>\n",
              "  </tbody>\n",
              "</table>\n",
              "</div>\n",
              "      <button class=\"colab-df-convert\" onclick=\"convertToInteractive('df-330df964-4f13-4910-a2f5-904656fe7dc2')\"\n",
              "              title=\"Convert this dataframe to an interactive table.\"\n",
              "              style=\"display:none;\">\n",
              "        \n",
              "  <svg xmlns=\"http://www.w3.org/2000/svg\" height=\"24px\"viewBox=\"0 0 24 24\"\n",
              "       width=\"24px\">\n",
              "    <path d=\"M0 0h24v24H0V0z\" fill=\"none\"/>\n",
              "    <path d=\"M18.56 5.44l.94 2.06.94-2.06 2.06-.94-2.06-.94-.94-2.06-.94 2.06-2.06.94zm-11 1L8.5 8.5l.94-2.06 2.06-.94-2.06-.94L8.5 2.5l-.94 2.06-2.06.94zm10 10l.94 2.06.94-2.06 2.06-.94-2.06-.94-.94-2.06-.94 2.06-2.06.94z\"/><path d=\"M17.41 7.96l-1.37-1.37c-.4-.4-.92-.59-1.43-.59-.52 0-1.04.2-1.43.59L10.3 9.45l-7.72 7.72c-.78.78-.78 2.05 0 2.83L4 21.41c.39.39.9.59 1.41.59.51 0 1.02-.2 1.41-.59l7.78-7.78 2.81-2.81c.8-.78.8-2.07 0-2.86zM5.41 20L4 18.59l7.72-7.72 1.47 1.35L5.41 20z\"/>\n",
              "  </svg>\n",
              "      </button>\n",
              "      \n",
              "  <style>\n",
              "    .colab-df-container {\n",
              "      display:flex;\n",
              "      flex-wrap:wrap;\n",
              "      gap: 12px;\n",
              "    }\n",
              "\n",
              "    .colab-df-convert {\n",
              "      background-color: #E8F0FE;\n",
              "      border: none;\n",
              "      border-radius: 50%;\n",
              "      cursor: pointer;\n",
              "      display: none;\n",
              "      fill: #1967D2;\n",
              "      height: 32px;\n",
              "      padding: 0 0 0 0;\n",
              "      width: 32px;\n",
              "    }\n",
              "\n",
              "    .colab-df-convert:hover {\n",
              "      background-color: #E2EBFA;\n",
              "      box-shadow: 0px 1px 2px rgba(60, 64, 67, 0.3), 0px 1px 3px 1px rgba(60, 64, 67, 0.15);\n",
              "      fill: #174EA6;\n",
              "    }\n",
              "\n",
              "    [theme=dark] .colab-df-convert {\n",
              "      background-color: #3B4455;\n",
              "      fill: #D2E3FC;\n",
              "    }\n",
              "\n",
              "    [theme=dark] .colab-df-convert:hover {\n",
              "      background-color: #434B5C;\n",
              "      box-shadow: 0px 1px 3px 1px rgba(0, 0, 0, 0.15);\n",
              "      filter: drop-shadow(0px 1px 2px rgba(0, 0, 0, 0.3));\n",
              "      fill: #FFFFFF;\n",
              "    }\n",
              "  </style>\n",
              "\n",
              "      <script>\n",
              "        const buttonEl =\n",
              "          document.querySelector('#df-330df964-4f13-4910-a2f5-904656fe7dc2 button.colab-df-convert');\n",
              "        buttonEl.style.display =\n",
              "          google.colab.kernel.accessAllowed ? 'block' : 'none';\n",
              "\n",
              "        async function convertToInteractive(key) {\n",
              "          const element = document.querySelector('#df-330df964-4f13-4910-a2f5-904656fe7dc2');\n",
              "          const dataTable =\n",
              "            await google.colab.kernel.invokeFunction('convertToInteractive',\n",
              "                                                     [key], {});\n",
              "          if (!dataTable) return;\n",
              "\n",
              "          const docLinkHtml = 'Like what you see? Visit the ' +\n",
              "            '<a target=\"_blank\" href=https://colab.research.google.com/notebooks/data_table.ipynb>data table notebook</a>'\n",
              "            + ' to learn more about interactive tables.';\n",
              "          element.innerHTML = '';\n",
              "          dataTable['output_type'] = 'display_data';\n",
              "          await google.colab.output.renderOutput(dataTable, element);\n",
              "          const docLink = document.createElement('div');\n",
              "          docLink.innerHTML = docLinkHtml;\n",
              "          element.appendChild(docLink);\n",
              "        }\n",
              "      </script>\n",
              "    </div>\n",
              "  </div>\n",
              "  "
            ]
          },
          "metadata": {},
          "execution_count": 57
        }
      ]
    },
    {
      "cell_type": "code",
      "source": [
        "# U\n",
        "import pandas as pd\n",
        "sample_dict = {\n",
        "    'col1': [11,12,13,14],\n",
        "    'col2': [21,22,23,24],\n",
        "    'col3': [31,32,33,34],\n",
        "}\n",
        "df = pd.DataFrame(sample_dict)\n",
        "\n",
        "df.loc[1] = [41, 51, 61] # 행 추가 방법\n",
        "\n",
        "df = df.append({'col1': 41, 'col2': 51, 'col3': 61}, ignore_index=True) # 행 추가 다른 방법\n",
        "\n",
        "df['col_sum'] = 0 # 열 추가 방법\n",
        "\n",
        "df"
      ],
      "metadata": {
        "colab": {
          "base_uri": "https://localhost:8080/",
          "height": 206
        },
        "id": "bCZCemMQ0YBh",
        "outputId": "69f53d85-a7f6-41bf-8ea8-65e220ff916f"
      },
      "execution_count": 58,
      "outputs": [
        {
          "output_type": "execute_result",
          "data": {
            "text/plain": [
              "   col1  col2  col3  col_sum\n",
              "0    11    21    31        0\n",
              "1    41    51    61        0\n",
              "2    13    23    33        0\n",
              "3    14    24    34        0\n",
              "4    41    51    61        0"
            ],
            "text/html": [
              "\n",
              "  <div id=\"df-ad8fcba7-6b86-4f82-a9ee-db830b50f65d\">\n",
              "    <div class=\"colab-df-container\">\n",
              "      <div>\n",
              "<style scoped>\n",
              "    .dataframe tbody tr th:only-of-type {\n",
              "        vertical-align: middle;\n",
              "    }\n",
              "\n",
              "    .dataframe tbody tr th {\n",
              "        vertical-align: top;\n",
              "    }\n",
              "\n",
              "    .dataframe thead th {\n",
              "        text-align: right;\n",
              "    }\n",
              "</style>\n",
              "<table border=\"1\" class=\"dataframe\">\n",
              "  <thead>\n",
              "    <tr style=\"text-align: right;\">\n",
              "      <th></th>\n",
              "      <th>col1</th>\n",
              "      <th>col2</th>\n",
              "      <th>col3</th>\n",
              "      <th>col_sum</th>\n",
              "    </tr>\n",
              "  </thead>\n",
              "  <tbody>\n",
              "    <tr>\n",
              "      <th>0</th>\n",
              "      <td>11</td>\n",
              "      <td>21</td>\n",
              "      <td>31</td>\n",
              "      <td>0</td>\n",
              "    </tr>\n",
              "    <tr>\n",
              "      <th>1</th>\n",
              "      <td>41</td>\n",
              "      <td>51</td>\n",
              "      <td>61</td>\n",
              "      <td>0</td>\n",
              "    </tr>\n",
              "    <tr>\n",
              "      <th>2</th>\n",
              "      <td>13</td>\n",
              "      <td>23</td>\n",
              "      <td>33</td>\n",
              "      <td>0</td>\n",
              "    </tr>\n",
              "    <tr>\n",
              "      <th>3</th>\n",
              "      <td>14</td>\n",
              "      <td>24</td>\n",
              "      <td>34</td>\n",
              "      <td>0</td>\n",
              "    </tr>\n",
              "    <tr>\n",
              "      <th>4</th>\n",
              "      <td>41</td>\n",
              "      <td>51</td>\n",
              "      <td>61</td>\n",
              "      <td>0</td>\n",
              "    </tr>\n",
              "  </tbody>\n",
              "</table>\n",
              "</div>\n",
              "      <button class=\"colab-df-convert\" onclick=\"convertToInteractive('df-ad8fcba7-6b86-4f82-a9ee-db830b50f65d')\"\n",
              "              title=\"Convert this dataframe to an interactive table.\"\n",
              "              style=\"display:none;\">\n",
              "        \n",
              "  <svg xmlns=\"http://www.w3.org/2000/svg\" height=\"24px\"viewBox=\"0 0 24 24\"\n",
              "       width=\"24px\">\n",
              "    <path d=\"M0 0h24v24H0V0z\" fill=\"none\"/>\n",
              "    <path d=\"M18.56 5.44l.94 2.06.94-2.06 2.06-.94-2.06-.94-.94-2.06-.94 2.06-2.06.94zm-11 1L8.5 8.5l.94-2.06 2.06-.94-2.06-.94L8.5 2.5l-.94 2.06-2.06.94zm10 10l.94 2.06.94-2.06 2.06-.94-2.06-.94-.94-2.06-.94 2.06-2.06.94z\"/><path d=\"M17.41 7.96l-1.37-1.37c-.4-.4-.92-.59-1.43-.59-.52 0-1.04.2-1.43.59L10.3 9.45l-7.72 7.72c-.78.78-.78 2.05 0 2.83L4 21.41c.39.39.9.59 1.41.59.51 0 1.02-.2 1.41-.59l7.78-7.78 2.81-2.81c.8-.78.8-2.07 0-2.86zM5.41 20L4 18.59l7.72-7.72 1.47 1.35L5.41 20z\"/>\n",
              "  </svg>\n",
              "      </button>\n",
              "      \n",
              "  <style>\n",
              "    .colab-df-container {\n",
              "      display:flex;\n",
              "      flex-wrap:wrap;\n",
              "      gap: 12px;\n",
              "    }\n",
              "\n",
              "    .colab-df-convert {\n",
              "      background-color: #E8F0FE;\n",
              "      border: none;\n",
              "      border-radius: 50%;\n",
              "      cursor: pointer;\n",
              "      display: none;\n",
              "      fill: #1967D2;\n",
              "      height: 32px;\n",
              "      padding: 0 0 0 0;\n",
              "      width: 32px;\n",
              "    }\n",
              "\n",
              "    .colab-df-convert:hover {\n",
              "      background-color: #E2EBFA;\n",
              "      box-shadow: 0px 1px 2px rgba(60, 64, 67, 0.3), 0px 1px 3px 1px rgba(60, 64, 67, 0.15);\n",
              "      fill: #174EA6;\n",
              "    }\n",
              "\n",
              "    [theme=dark] .colab-df-convert {\n",
              "      background-color: #3B4455;\n",
              "      fill: #D2E3FC;\n",
              "    }\n",
              "\n",
              "    [theme=dark] .colab-df-convert:hover {\n",
              "      background-color: #434B5C;\n",
              "      box-shadow: 0px 1px 3px 1px rgba(0, 0, 0, 0.15);\n",
              "      filter: drop-shadow(0px 1px 2px rgba(0, 0, 0, 0.3));\n",
              "      fill: #FFFFFF;\n",
              "    }\n",
              "  </style>\n",
              "\n",
              "      <script>\n",
              "        const buttonEl =\n",
              "          document.querySelector('#df-ad8fcba7-6b86-4f82-a9ee-db830b50f65d button.colab-df-convert');\n",
              "        buttonEl.style.display =\n",
              "          google.colab.kernel.accessAllowed ? 'block' : 'none';\n",
              "\n",
              "        async function convertToInteractive(key) {\n",
              "          const element = document.querySelector('#df-ad8fcba7-6b86-4f82-a9ee-db830b50f65d');\n",
              "          const dataTable =\n",
              "            await google.colab.kernel.invokeFunction('convertToInteractive',\n",
              "                                                     [key], {});\n",
              "          if (!dataTable) return;\n",
              "\n",
              "          const docLinkHtml = 'Like what you see? Visit the ' +\n",
              "            '<a target=\"_blank\" href=https://colab.research.google.com/notebooks/data_table.ipynb>data table notebook</a>'\n",
              "            + ' to learn more about interactive tables.';\n",
              "          element.innerHTML = '';\n",
              "          dataTable['output_type'] = 'display_data';\n",
              "          await google.colab.output.renderOutput(dataTable, element);\n",
              "          const docLink = document.createElement('div');\n",
              "          docLink.innerHTML = docLinkHtml;\n",
              "          element.appendChild(docLink);\n",
              "        }\n",
              "      </script>\n",
              "    </div>\n",
              "  </div>\n",
              "  "
            ]
          },
          "metadata": {},
          "execution_count": 58
        }
      ]
    },
    {
      "cell_type": "code",
      "source": [
        "# U\n",
        "import pandas as pd\n",
        "sample_dict = {\n",
        "    'col1': [11,12,13,14],\n",
        "    'col2': [21,22,23,24],\n",
        "    'col3': [31,32,33,34],\n",
        "}\n",
        "df = pd.DataFrame(sample_dict)\n",
        "\n",
        "df.loc[1, 'col1'] = 99 # 행,렬접근으로 변경\n",
        "df['col1'] = [91, 92, 93, 94] # 특정 열 전체 변경\n",
        "df.loc[1] = [99, 99, 99] # 특정 행 전체 변경\n",
        "\n",
        "df"
      ],
      "metadata": {
        "id": "o8uA5t0sWyrJ"
      },
      "execution_count": null,
      "outputs": []
    },
    {
      "cell_type": "code",
      "source": [
        "# D\n",
        "import pandas as pd\n",
        "sample_dict = {\n",
        "    'col1': [11,12,13,14],\n",
        "    'col2': [21,22,23,24],\n",
        "    'col3': [31,32,33,34],\n",
        "}\n",
        "df = pd.DataFrame(sample_dict)\n",
        "\n",
        "# del df['col1']\n",
        "\n",
        "df.drop(columns=['col2', 'col3'], axis=0, inplace=True)\n",
        "\n",
        "df = df.drop([df.index[1]]) # index 기준으로 삭제\n",
        "\n",
        "target_index = df[df.col1 == 13].index # 특정 데이터 조회결과에 따라 삭제\n",
        "df = df.drop(target_index)\n",
        "\n",
        "df"
      ],
      "metadata": {
        "colab": {
          "base_uri": "https://localhost:8080/",
          "height": 112
        },
        "id": "IpR3u08U0eQZ",
        "outputId": "6b63772c-4fd5-47ad-8d1f-611703eca962"
      },
      "execution_count": 62,
      "outputs": [
        {
          "output_type": "execute_result",
          "data": {
            "text/plain": [
              "   col1\n",
              "0    11\n",
              "3    14"
            ],
            "text/html": [
              "\n",
              "  <div id=\"df-1a69bbcd-5822-4d14-9ae1-4f525873906e\">\n",
              "    <div class=\"colab-df-container\">\n",
              "      <div>\n",
              "<style scoped>\n",
              "    .dataframe tbody tr th:only-of-type {\n",
              "        vertical-align: middle;\n",
              "    }\n",
              "\n",
              "    .dataframe tbody tr th {\n",
              "        vertical-align: top;\n",
              "    }\n",
              "\n",
              "    .dataframe thead th {\n",
              "        text-align: right;\n",
              "    }\n",
              "</style>\n",
              "<table border=\"1\" class=\"dataframe\">\n",
              "  <thead>\n",
              "    <tr style=\"text-align: right;\">\n",
              "      <th></th>\n",
              "      <th>col1</th>\n",
              "    </tr>\n",
              "  </thead>\n",
              "  <tbody>\n",
              "    <tr>\n",
              "      <th>0</th>\n",
              "      <td>11</td>\n",
              "    </tr>\n",
              "    <tr>\n",
              "      <th>3</th>\n",
              "      <td>14</td>\n",
              "    </tr>\n",
              "  </tbody>\n",
              "</table>\n",
              "</div>\n",
              "      <button class=\"colab-df-convert\" onclick=\"convertToInteractive('df-1a69bbcd-5822-4d14-9ae1-4f525873906e')\"\n",
              "              title=\"Convert this dataframe to an interactive table.\"\n",
              "              style=\"display:none;\">\n",
              "        \n",
              "  <svg xmlns=\"http://www.w3.org/2000/svg\" height=\"24px\"viewBox=\"0 0 24 24\"\n",
              "       width=\"24px\">\n",
              "    <path d=\"M0 0h24v24H0V0z\" fill=\"none\"/>\n",
              "    <path d=\"M18.56 5.44l.94 2.06.94-2.06 2.06-.94-2.06-.94-.94-2.06-.94 2.06-2.06.94zm-11 1L8.5 8.5l.94-2.06 2.06-.94-2.06-.94L8.5 2.5l-.94 2.06-2.06.94zm10 10l.94 2.06.94-2.06 2.06-.94-2.06-.94-.94-2.06-.94 2.06-2.06.94z\"/><path d=\"M17.41 7.96l-1.37-1.37c-.4-.4-.92-.59-1.43-.59-.52 0-1.04.2-1.43.59L10.3 9.45l-7.72 7.72c-.78.78-.78 2.05 0 2.83L4 21.41c.39.39.9.59 1.41.59.51 0 1.02-.2 1.41-.59l7.78-7.78 2.81-2.81c.8-.78.8-2.07 0-2.86zM5.41 20L4 18.59l7.72-7.72 1.47 1.35L5.41 20z\"/>\n",
              "  </svg>\n",
              "      </button>\n",
              "      \n",
              "  <style>\n",
              "    .colab-df-container {\n",
              "      display:flex;\n",
              "      flex-wrap:wrap;\n",
              "      gap: 12px;\n",
              "    }\n",
              "\n",
              "    .colab-df-convert {\n",
              "      background-color: #E8F0FE;\n",
              "      border: none;\n",
              "      border-radius: 50%;\n",
              "      cursor: pointer;\n",
              "      display: none;\n",
              "      fill: #1967D2;\n",
              "      height: 32px;\n",
              "      padding: 0 0 0 0;\n",
              "      width: 32px;\n",
              "    }\n",
              "\n",
              "    .colab-df-convert:hover {\n",
              "      background-color: #E2EBFA;\n",
              "      box-shadow: 0px 1px 2px rgba(60, 64, 67, 0.3), 0px 1px 3px 1px rgba(60, 64, 67, 0.15);\n",
              "      fill: #174EA6;\n",
              "    }\n",
              "\n",
              "    [theme=dark] .colab-df-convert {\n",
              "      background-color: #3B4455;\n",
              "      fill: #D2E3FC;\n",
              "    }\n",
              "\n",
              "    [theme=dark] .colab-df-convert:hover {\n",
              "      background-color: #434B5C;\n",
              "      box-shadow: 0px 1px 3px 1px rgba(0, 0, 0, 0.15);\n",
              "      filter: drop-shadow(0px 1px 2px rgba(0, 0, 0, 0.3));\n",
              "      fill: #FFFFFF;\n",
              "    }\n",
              "  </style>\n",
              "\n",
              "      <script>\n",
              "        const buttonEl =\n",
              "          document.querySelector('#df-1a69bbcd-5822-4d14-9ae1-4f525873906e button.colab-df-convert');\n",
              "        buttonEl.style.display =\n",
              "          google.colab.kernel.accessAllowed ? 'block' : 'none';\n",
              "\n",
              "        async function convertToInteractive(key) {\n",
              "          const element = document.querySelector('#df-1a69bbcd-5822-4d14-9ae1-4f525873906e');\n",
              "          const dataTable =\n",
              "            await google.colab.kernel.invokeFunction('convertToInteractive',\n",
              "                                                     [key], {});\n",
              "          if (!dataTable) return;\n",
              "\n",
              "          const docLinkHtml = 'Like what you see? Visit the ' +\n",
              "            '<a target=\"_blank\" href=https://colab.research.google.com/notebooks/data_table.ipynb>data table notebook</a>'\n",
              "            + ' to learn more about interactive tables.';\n",
              "          element.innerHTML = '';\n",
              "          dataTable['output_type'] = 'display_data';\n",
              "          await google.colab.output.renderOutput(dataTable, element);\n",
              "          const docLink = document.createElement('div');\n",
              "          docLink.innerHTML = docLinkHtml;\n",
              "          element.appendChild(docLink);\n",
              "        }\n",
              "      </script>\n",
              "    </div>\n",
              "  </div>\n",
              "  "
            ]
          },
          "metadata": {},
          "execution_count": 62
        }
      ]
    },
    {
      "cell_type": "code",
      "source": [
        "# D\n",
        "import pandas as pd\n",
        "sample_dict = {\n",
        "    'col1': [11,12,13,np.NaN],\n",
        "    'col2': [21,None,23,24],\n",
        "    'col3': [31,32,np.nan,34],\n",
        "}\n",
        "df = pd.DataFrame(sample_dict)\n",
        "\n",
        "# df.isnull()\n",
        "# df.notnull()\n",
        "\n",
        "# df = df.fillna(value=99.99)\n",
        "\n",
        "# df = df.dropna(how='any')\n",
        "# df = df.dropna(how='all')\n",
        "\n",
        "# df"
      ],
      "metadata": {
        "id": "tCVToxHU0kK6"
      },
      "execution_count": null,
      "outputs": []
    },
    {
      "cell_type": "code",
      "source": [
        "# D\n",
        "import pandas as pd\n",
        "sample_dict = {\n",
        "    'col1': [11,22,22,24],\n",
        "    'col2': [21,22,22,24],\n",
        "    'col3': [31,22,22,34],\n",
        "}\n",
        "df = pd.DataFrame(sample_dict)\n",
        "\n",
        "df.duplicated()\n",
        "# df.duplicated(keep='first') # first, last, False\n",
        "\n",
        "# df = df.drop_duplicates(keep='first') # first, last, False\n",
        "\n",
        "# df"
      ],
      "metadata": {
        "colab": {
          "base_uri": "https://localhost:8080/"
        },
        "id": "d6xxCDwY0n-6",
        "outputId": "599c966b-c973-4ae8-ee53-389c4b47969f"
      },
      "execution_count": null,
      "outputs": [
        {
          "output_type": "execute_result",
          "data": {
            "text/plain": [
              "0    False\n",
              "1    False\n",
              "2     True\n",
              "3    False\n",
              "dtype: bool"
            ]
          },
          "metadata": {},
          "execution_count": 42
        }
      ]
    },
    {
      "cell_type": "markdown",
      "source": [
        "# 문제해결 활용"
      ],
      "metadata": {
        "id": "4QYJj_Yr03ov"
      }
    },
    {
      "cell_type": "markdown",
      "source": [
        "## 데이터 이해(domain knowledge)"
      ],
      "metadata": {
        "id": "_XH6wYc4uN2d"
      }
    },
    {
      "cell_type": "markdown",
      "source": [
        "- 타이타닉 데이터셋을 이용한 데이터 전처리\n",
        "- 전처리 아이디어\n",
        "- 전처리 아이디어를 실행하기 위한 pandas 패키지 활용\n",
        "\n",
        "\n",
        "&nbsp;&nbsp;  ⚓ https://www.kaggle.com/competitions/titanic"
      ],
      "metadata": {
        "id": "_xU7XPDt2TGt"
      }
    },
    {
      "cell_type": "markdown",
      "source": [
        "## 문제"
      ],
      "metadata": {
        "id": "TghTEcvFudlV"
      }
    },
    {
      "cell_type": "markdown",
      "source": [
        "- 불필요한 데이터 삭제\n",
        "- 범주형 데이터 수치형 변환\n",
        "- 수치형 데이터 평준화(정규화)\n",
        "- 결측치 처리\n",
        "- 이상치 처리\n",
        "- 자료형 통일\n",
        "- 중복데이터 처리"
      ],
      "metadata": {
        "id": "YVvy961duhKl"
      }
    },
    {
      "cell_type": "markdown",
      "source": [
        "![image.png](data:image/png;base64,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)"
      ],
      "metadata": {
        "id": "97BV8U68wh79"
      }
    },
    {
      "cell_type": "code",
      "source": [
        "import pandas as pd\n",
        "titanic = pd.read_csv('titanic.csv')\n",
        "titanic"
      ],
      "metadata": {
        "colab": {
          "base_uri": "https://localhost:8080/",
          "height": 424
        },
        "id": "i8MqNkDg0aHd",
        "outputId": "a5006b37-96c3-4f4b-96f4-39e12c716538"
      },
      "execution_count": null,
      "outputs": [
        {
          "output_type": "execute_result",
          "data": {
            "text/plain": [
              "     PassengerId  Survived  Pclass  \\\n",
              "0              1         0       3   \n",
              "1              2         1       1   \n",
              "2              3         1       3   \n",
              "3              4         1       1   \n",
              "4              5         0       3   \n",
              "..           ...       ...     ...   \n",
              "886          887         0       2   \n",
              "887          888         1       1   \n",
              "888          889         0       3   \n",
              "889          890         1       1   \n",
              "890          891         0       3   \n",
              "\n",
              "                                                  Name     Sex   Age  SibSp  \\\n",
              "0                              Braund, Mr. Owen Harris    male  22.0      1   \n",
              "1    Cumings, Mrs. John Bradley (Florence Briggs Th...  female  38.0      1   \n",
              "2                               Heikkinen, Miss. Laina  female  26.0      0   \n",
              "3         Futrelle, Mrs. Jacques Heath (Lily May Peel)  female  35.0      1   \n",
              "4                             Allen, Mr. William Henry    male  35.0      0   \n",
              "..                                                 ...     ...   ...    ...   \n",
              "886                              Montvila, Rev. Juozas    male  27.0      0   \n",
              "887                       Graham, Miss. Margaret Edith  female  19.0      0   \n",
              "888           Johnston, Miss. Catherine Helen \"Carrie\"  female   NaN      1   \n",
              "889                              Behr, Mr. Karl Howell    male  26.0      0   \n",
              "890                                Dooley, Mr. Patrick    male  32.0      0   \n",
              "\n",
              "     Parch            Ticket     Fare Cabin Embarked  \n",
              "0        0         A/5 21171   7.2500   NaN        S  \n",
              "1        0          PC 17599  71.2833   C85        C  \n",
              "2        0  STON/O2. 3101282   7.9250   NaN        S  \n",
              "3        0            113803  53.1000  C123        S  \n",
              "4        0            373450   8.0500   NaN        S  \n",
              "..     ...               ...      ...   ...      ...  \n",
              "886      0            211536  13.0000   NaN        S  \n",
              "887      0            112053  30.0000   B42        S  \n",
              "888      2        W./C. 6607  23.4500   NaN        S  \n",
              "889      0            111369  30.0000  C148        C  \n",
              "890      0            370376   7.7500   NaN        Q  \n",
              "\n",
              "[891 rows x 12 columns]"
            ],
            "text/html": [
              "\n",
              "  <div id=\"df-4aba6b91-534d-44a9-b2dc-4ab5e4d63940\">\n",
              "    <div class=\"colab-df-container\">\n",
              "      <div>\n",
              "<style scoped>\n",
              "    .dataframe tbody tr th:only-of-type {\n",
              "        vertical-align: middle;\n",
              "    }\n",
              "\n",
              "    .dataframe tbody tr th {\n",
              "        vertical-align: top;\n",
              "    }\n",
              "\n",
              "    .dataframe thead th {\n",
              "        text-align: right;\n",
              "    }\n",
              "</style>\n",
              "<table border=\"1\" class=\"dataframe\">\n",
              "  <thead>\n",
              "    <tr style=\"text-align: right;\">\n",
              "      <th></th>\n",
              "      <th>PassengerId</th>\n",
              "      <th>Survived</th>\n",
              "      <th>Pclass</th>\n",
              "      <th>Name</th>\n",
              "      <th>Sex</th>\n",
              "      <th>Age</th>\n",
              "      <th>SibSp</th>\n",
              "      <th>Parch</th>\n",
              "      <th>Ticket</th>\n",
              "      <th>Fare</th>\n",
              "      <th>Cabin</th>\n",
              "      <th>Embarked</th>\n",
              "    </tr>\n",
              "  </thead>\n",
              "  <tbody>\n",
              "    <tr>\n",
              "      <th>0</th>\n",
              "      <td>1</td>\n",
              "      <td>0</td>\n",
              "      <td>3</td>\n",
              "      <td>Braund, Mr. Owen Harris</td>\n",
              "      <td>male</td>\n",
              "      <td>22.0</td>\n",
              "      <td>1</td>\n",
              "      <td>0</td>\n",
              "      <td>A/5 21171</td>\n",
              "      <td>7.2500</td>\n",
              "      <td>NaN</td>\n",
              "      <td>S</td>\n",
              "    </tr>\n",
              "    <tr>\n",
              "      <th>1</th>\n",
              "      <td>2</td>\n",
              "      <td>1</td>\n",
              "      <td>1</td>\n",
              "      <td>Cumings, Mrs. John Bradley (Florence Briggs Th...</td>\n",
              "      <td>female</td>\n",
              "      <td>38.0</td>\n",
              "      <td>1</td>\n",
              "      <td>0</td>\n",
              "      <td>PC 17599</td>\n",
              "      <td>71.2833</td>\n",
              "      <td>C85</td>\n",
              "      <td>C</td>\n",
              "    </tr>\n",
              "    <tr>\n",
              "      <th>2</th>\n",
              "      <td>3</td>\n",
              "      <td>1</td>\n",
              "      <td>3</td>\n",
              "      <td>Heikkinen, Miss. Laina</td>\n",
              "      <td>female</td>\n",
              "      <td>26.0</td>\n",
              "      <td>0</td>\n",
              "      <td>0</td>\n",
              "      <td>STON/O2. 3101282</td>\n",
              "      <td>7.9250</td>\n",
              "      <td>NaN</td>\n",
              "      <td>S</td>\n",
              "    </tr>\n",
              "    <tr>\n",
              "      <th>3</th>\n",
              "      <td>4</td>\n",
              "      <td>1</td>\n",
              "      <td>1</td>\n",
              "      <td>Futrelle, Mrs. Jacques Heath (Lily May Peel)</td>\n",
              "      <td>female</td>\n",
              "      <td>35.0</td>\n",
              "      <td>1</td>\n",
              "      <td>0</td>\n",
              "      <td>113803</td>\n",
              "      <td>53.1000</td>\n",
              "      <td>C123</td>\n",
              "      <td>S</td>\n",
              "    </tr>\n",
              "    <tr>\n",
              "      <th>4</th>\n",
              "      <td>5</td>\n",
              "      <td>0</td>\n",
              "      <td>3</td>\n",
              "      <td>Allen, Mr. William Henry</td>\n",
              "      <td>male</td>\n",
              "      <td>35.0</td>\n",
              "      <td>0</td>\n",
              "      <td>0</td>\n",
              "      <td>373450</td>\n",
              "      <td>8.0500</td>\n",
              "      <td>NaN</td>\n",
              "      <td>S</td>\n",
              "    </tr>\n",
              "    <tr>\n",
              "      <th>...</th>\n",
              "      <td>...</td>\n",
              "      <td>...</td>\n",
              "      <td>...</td>\n",
              "      <td>...</td>\n",
              "      <td>...</td>\n",
              "      <td>...</td>\n",
              "      <td>...</td>\n",
              "      <td>...</td>\n",
              "      <td>...</td>\n",
              "      <td>...</td>\n",
              "      <td>...</td>\n",
              "      <td>...</td>\n",
              "    </tr>\n",
              "    <tr>\n",
              "      <th>886</th>\n",
              "      <td>887</td>\n",
              "      <td>0</td>\n",
              "      <td>2</td>\n",
              "      <td>Montvila, Rev. Juozas</td>\n",
              "      <td>male</td>\n",
              "      <td>27.0</td>\n",
              "      <td>0</td>\n",
              "      <td>0</td>\n",
              "      <td>211536</td>\n",
              "      <td>13.0000</td>\n",
              "      <td>NaN</td>\n",
              "      <td>S</td>\n",
              "    </tr>\n",
              "    <tr>\n",
              "      <th>887</th>\n",
              "      <td>888</td>\n",
              "      <td>1</td>\n",
              "      <td>1</td>\n",
              "      <td>Graham, Miss. Margaret Edith</td>\n",
              "      <td>female</td>\n",
              "      <td>19.0</td>\n",
              "      <td>0</td>\n",
              "      <td>0</td>\n",
              "      <td>112053</td>\n",
              "      <td>30.0000</td>\n",
              "      <td>B42</td>\n",
              "      <td>S</td>\n",
              "    </tr>\n",
              "    <tr>\n",
              "      <th>888</th>\n",
              "      <td>889</td>\n",
              "      <td>0</td>\n",
              "      <td>3</td>\n",
              "      <td>Johnston, Miss. Catherine Helen \"Carrie\"</td>\n",
              "      <td>female</td>\n",
              "      <td>NaN</td>\n",
              "      <td>1</td>\n",
              "      <td>2</td>\n",
              "      <td>W./C. 6607</td>\n",
              "      <td>23.4500</td>\n",
              "      <td>NaN</td>\n",
              "      <td>S</td>\n",
              "    </tr>\n",
              "    <tr>\n",
              "      <th>889</th>\n",
              "      <td>890</td>\n",
              "      <td>1</td>\n",
              "      <td>1</td>\n",
              "      <td>Behr, Mr. Karl Howell</td>\n",
              "      <td>male</td>\n",
              "      <td>26.0</td>\n",
              "      <td>0</td>\n",
              "      <td>0</td>\n",
              "      <td>111369</td>\n",
              "      <td>30.0000</td>\n",
              "      <td>C148</td>\n",
              "      <td>C</td>\n",
              "    </tr>\n",
              "    <tr>\n",
              "      <th>890</th>\n",
              "      <td>891</td>\n",
              "      <td>0</td>\n",
              "      <td>3</td>\n",
              "      <td>Dooley, Mr. Patrick</td>\n",
              "      <td>male</td>\n",
              "      <td>32.0</td>\n",
              "      <td>0</td>\n",
              "      <td>0</td>\n",
              "      <td>370376</td>\n",
              "      <td>7.7500</td>\n",
              "      <td>NaN</td>\n",
              "      <td>Q</td>\n",
              "    </tr>\n",
              "  </tbody>\n",
              "</table>\n",
              "<p>891 rows × 12 columns</p>\n",
              "</div>\n",
              "      <button class=\"colab-df-convert\" onclick=\"convertToInteractive('df-4aba6b91-534d-44a9-b2dc-4ab5e4d63940')\"\n",
              "              title=\"Convert this dataframe to an interactive table.\"\n",
              "              style=\"display:none;\">\n",
              "        \n",
              "  <svg xmlns=\"http://www.w3.org/2000/svg\" height=\"24px\"viewBox=\"0 0 24 24\"\n",
              "       width=\"24px\">\n",
              "    <path d=\"M0 0h24v24H0V0z\" fill=\"none\"/>\n",
              "    <path d=\"M18.56 5.44l.94 2.06.94-2.06 2.06-.94-2.06-.94-.94-2.06-.94 2.06-2.06.94zm-11 1L8.5 8.5l.94-2.06 2.06-.94-2.06-.94L8.5 2.5l-.94 2.06-2.06.94zm10 10l.94 2.06.94-2.06 2.06-.94-2.06-.94-.94-2.06-.94 2.06-2.06.94z\"/><path d=\"M17.41 7.96l-1.37-1.37c-.4-.4-.92-.59-1.43-.59-.52 0-1.04.2-1.43.59L10.3 9.45l-7.72 7.72c-.78.78-.78 2.05 0 2.83L4 21.41c.39.39.9.59 1.41.59.51 0 1.02-.2 1.41-.59l7.78-7.78 2.81-2.81c.8-.78.8-2.07 0-2.86zM5.41 20L4 18.59l7.72-7.72 1.47 1.35L5.41 20z\"/>\n",
              "  </svg>\n",
              "      </button>\n",
              "      \n",
              "  <style>\n",
              "    .colab-df-container {\n",
              "      display:flex;\n",
              "      flex-wrap:wrap;\n",
              "      gap: 12px;\n",
              "    }\n",
              "\n",
              "    .colab-df-convert {\n",
              "      background-color: #E8F0FE;\n",
              "      border: none;\n",
              "      border-radius: 50%;\n",
              "      cursor: pointer;\n",
              "      display: none;\n",
              "      fill: #1967D2;\n",
              "      height: 32px;\n",
              "      padding: 0 0 0 0;\n",
              "      width: 32px;\n",
              "    }\n",
              "\n",
              "    .colab-df-convert:hover {\n",
              "      background-color: #E2EBFA;\n",
              "      box-shadow: 0px 1px 2px rgba(60, 64, 67, 0.3), 0px 1px 3px 1px rgba(60, 64, 67, 0.15);\n",
              "      fill: #174EA6;\n",
              "    }\n",
              "\n",
              "    [theme=dark] .colab-df-convert {\n",
              "      background-color: #3B4455;\n",
              "      fill: #D2E3FC;\n",
              "    }\n",
              "\n",
              "    [theme=dark] .colab-df-convert:hover {\n",
              "      background-color: #434B5C;\n",
              "      box-shadow: 0px 1px 3px 1px rgba(0, 0, 0, 0.15);\n",
              "      filter: drop-shadow(0px 1px 2px rgba(0, 0, 0, 0.3));\n",
              "      fill: #FFFFFF;\n",
              "    }\n",
              "  </style>\n",
              "\n",
              "      <script>\n",
              "        const buttonEl =\n",
              "          document.querySelector('#df-4aba6b91-534d-44a9-b2dc-4ab5e4d63940 button.colab-df-convert');\n",
              "        buttonEl.style.display =\n",
              "          google.colab.kernel.accessAllowed ? 'block' : 'none';\n",
              "\n",
              "        async function convertToInteractive(key) {\n",
              "          const element = document.querySelector('#df-4aba6b91-534d-44a9-b2dc-4ab5e4d63940');\n",
              "          const dataTable =\n",
              "            await google.colab.kernel.invokeFunction('convertToInteractive',\n",
              "                                                     [key], {});\n",
              "          if (!dataTable) return;\n",
              "\n",
              "          const docLinkHtml = 'Like what you see? Visit the ' +\n",
              "            '<a target=\"_blank\" href=https://colab.research.google.com/notebooks/data_table.ipynb>data table notebook</a>'\n",
              "            + ' to learn more about interactive tables.';\n",
              "          element.innerHTML = '';\n",
              "          dataTable['output_type'] = 'display_data';\n",
              "          await google.colab.output.renderOutput(dataTable, element);\n",
              "          const docLink = document.createElement('div');\n",
              "          docLink.innerHTML = docLinkHtml;\n",
              "          element.appendChild(docLink);\n",
              "        }\n",
              "      </script>\n",
              "    </div>\n",
              "  </div>\n",
              "  "
            ]
          },
          "metadata": {},
          "execution_count": 44
        }
      ]
    },
    {
      "cell_type": "code",
      "source": [
        "titanic = titanic.drop(columns=['PassengerId'], axis=0)\n",
        "titanic"
      ],
      "metadata": {
        "colab": {
          "base_uri": "https://localhost:8080/",
          "height": 424
        },
        "id": "4-stWwJu1y2q",
        "outputId": "c5b141a8-f092-4ceb-81d1-4a9c11635415"
      },
      "execution_count": null,
      "outputs": [
        {
          "output_type": "execute_result",
          "data": {
            "text/plain": [
              "     Survived  Pclass                                               Name  \\\n",
              "0           0       3                            Braund, Mr. Owen Harris   \n",
              "1           1       1  Cumings, Mrs. John Bradley (Florence Briggs Th...   \n",
              "2           1       3                             Heikkinen, Miss. Laina   \n",
              "3           1       1       Futrelle, Mrs. Jacques Heath (Lily May Peel)   \n",
              "4           0       3                           Allen, Mr. William Henry   \n",
              "..        ...     ...                                                ...   \n",
              "886         0       2                              Montvila, Rev. Juozas   \n",
              "887         1       1                       Graham, Miss. Margaret Edith   \n",
              "888         0       3           Johnston, Miss. Catherine Helen \"Carrie\"   \n",
              "889         1       1                              Behr, Mr. Karl Howell   \n",
              "890         0       3                                Dooley, Mr. Patrick   \n",
              "\n",
              "        Sex   Age  SibSp  Parch            Ticket     Fare Cabin Embarked  \n",
              "0      male  22.0      1      0         A/5 21171   7.2500   NaN        S  \n",
              "1    female  38.0      1      0          PC 17599  71.2833   C85        C  \n",
              "2    female  26.0      0      0  STON/O2. 3101282   7.9250   NaN        S  \n",
              "3    female  35.0      1      0            113803  53.1000  C123        S  \n",
              "4      male  35.0      0      0            373450   8.0500   NaN        S  \n",
              "..      ...   ...    ...    ...               ...      ...   ...      ...  \n",
              "886    male  27.0      0      0            211536  13.0000   NaN        S  \n",
              "887  female  19.0      0      0            112053  30.0000   B42        S  \n",
              "888  female   NaN      1      2        W./C. 6607  23.4500   NaN        S  \n",
              "889    male  26.0      0      0            111369  30.0000  C148        C  \n",
              "890    male  32.0      0      0            370376   7.7500   NaN        Q  \n",
              "\n",
              "[891 rows x 11 columns]"
            ],
            "text/html": [
              "\n",
              "  <div id=\"df-407c4331-993b-4215-92ae-9155cdfdb6f8\">\n",
              "    <div class=\"colab-df-container\">\n",
              "      <div>\n",
              "<style scoped>\n",
              "    .dataframe tbody tr th:only-of-type {\n",
              "        vertical-align: middle;\n",
              "    }\n",
              "\n",
              "    .dataframe tbody tr th {\n",
              "        vertical-align: top;\n",
              "    }\n",
              "\n",
              "    .dataframe thead th {\n",
              "        text-align: right;\n",
              "    }\n",
              "</style>\n",
              "<table border=\"1\" class=\"dataframe\">\n",
              "  <thead>\n",
              "    <tr style=\"text-align: right;\">\n",
              "      <th></th>\n",
              "      <th>Survived</th>\n",
              "      <th>Pclass</th>\n",
              "      <th>Name</th>\n",
              "      <th>Sex</th>\n",
              "      <th>Age</th>\n",
              "      <th>SibSp</th>\n",
              "      <th>Parch</th>\n",
              "      <th>Ticket</th>\n",
              "      <th>Fare</th>\n",
              "      <th>Cabin</th>\n",
              "      <th>Embarked</th>\n",
              "    </tr>\n",
              "  </thead>\n",
              "  <tbody>\n",
              "    <tr>\n",
              "      <th>0</th>\n",
              "      <td>0</td>\n",
              "      <td>3</td>\n",
              "      <td>Braund, Mr. Owen Harris</td>\n",
              "      <td>male</td>\n",
              "      <td>22.0</td>\n",
              "      <td>1</td>\n",
              "      <td>0</td>\n",
              "      <td>A/5 21171</td>\n",
              "      <td>7.2500</td>\n",
              "      <td>NaN</td>\n",
              "      <td>S</td>\n",
              "    </tr>\n",
              "    <tr>\n",
              "      <th>1</th>\n",
              "      <td>1</td>\n",
              "      <td>1</td>\n",
              "      <td>Cumings, Mrs. John Bradley (Florence Briggs Th...</td>\n",
              "      <td>female</td>\n",
              "      <td>38.0</td>\n",
              "      <td>1</td>\n",
              "      <td>0</td>\n",
              "      <td>PC 17599</td>\n",
              "      <td>71.2833</td>\n",
              "      <td>C85</td>\n",
              "      <td>C</td>\n",
              "    </tr>\n",
              "    <tr>\n",
              "      <th>2</th>\n",
              "      <td>1</td>\n",
              "      <td>3</td>\n",
              "      <td>Heikkinen, Miss. Laina</td>\n",
              "      <td>female</td>\n",
              "      <td>26.0</td>\n",
              "      <td>0</td>\n",
              "      <td>0</td>\n",
              "      <td>STON/O2. 3101282</td>\n",
              "      <td>7.9250</td>\n",
              "      <td>NaN</td>\n",
              "      <td>S</td>\n",
              "    </tr>\n",
              "    <tr>\n",
              "      <th>3</th>\n",
              "      <td>1</td>\n",
              "      <td>1</td>\n",
              "      <td>Futrelle, Mrs. Jacques Heath (Lily May Peel)</td>\n",
              "      <td>female</td>\n",
              "      <td>35.0</td>\n",
              "      <td>1</td>\n",
              "      <td>0</td>\n",
              "      <td>113803</td>\n",
              "      <td>53.1000</td>\n",
              "      <td>C123</td>\n",
              "      <td>S</td>\n",
              "    </tr>\n",
              "    <tr>\n",
              "      <th>4</th>\n",
              "      <td>0</td>\n",
              "      <td>3</td>\n",
              "      <td>Allen, Mr. William Henry</td>\n",
              "      <td>male</td>\n",
              "      <td>35.0</td>\n",
              "      <td>0</td>\n",
              "      <td>0</td>\n",
              "      <td>373450</td>\n",
              "      <td>8.0500</td>\n",
              "      <td>NaN</td>\n",
              "      <td>S</td>\n",
              "    </tr>\n",
              "    <tr>\n",
              "      <th>...</th>\n",
              "      <td>...</td>\n",
              "      <td>...</td>\n",
              "      <td>...</td>\n",
              "      <td>...</td>\n",
              "      <td>...</td>\n",
              "      <td>...</td>\n",
              "      <td>...</td>\n",
              "      <td>...</td>\n",
              "      <td>...</td>\n",
              "      <td>...</td>\n",
              "      <td>...</td>\n",
              "    </tr>\n",
              "    <tr>\n",
              "      <th>886</th>\n",
              "      <td>0</td>\n",
              "      <td>2</td>\n",
              "      <td>Montvila, Rev. Juozas</td>\n",
              "      <td>male</td>\n",
              "      <td>27.0</td>\n",
              "      <td>0</td>\n",
              "      <td>0</td>\n",
              "      <td>211536</td>\n",
              "      <td>13.0000</td>\n",
              "      <td>NaN</td>\n",
              "      <td>S</td>\n",
              "    </tr>\n",
              "    <tr>\n",
              "      <th>887</th>\n",
              "      <td>1</td>\n",
              "      <td>1</td>\n",
              "      <td>Graham, Miss. Margaret Edith</td>\n",
              "      <td>female</td>\n",
              "      <td>19.0</td>\n",
              "      <td>0</td>\n",
              "      <td>0</td>\n",
              "      <td>112053</td>\n",
              "      <td>30.0000</td>\n",
              "      <td>B42</td>\n",
              "      <td>S</td>\n",
              "    </tr>\n",
              "    <tr>\n",
              "      <th>888</th>\n",
              "      <td>0</td>\n",
              "      <td>3</td>\n",
              "      <td>Johnston, Miss. Catherine Helen \"Carrie\"</td>\n",
              "      <td>female</td>\n",
              "      <td>NaN</td>\n",
              "      <td>1</td>\n",
              "      <td>2</td>\n",
              "      <td>W./C. 6607</td>\n",
              "      <td>23.4500</td>\n",
              "      <td>NaN</td>\n",
              "      <td>S</td>\n",
              "    </tr>\n",
              "    <tr>\n",
              "      <th>889</th>\n",
              "      <td>1</td>\n",
              "      <td>1</td>\n",
              "      <td>Behr, Mr. Karl Howell</td>\n",
              "      <td>male</td>\n",
              "      <td>26.0</td>\n",
              "      <td>0</td>\n",
              "      <td>0</td>\n",
              "      <td>111369</td>\n",
              "      <td>30.0000</td>\n",
              "      <td>C148</td>\n",
              "      <td>C</td>\n",
              "    </tr>\n",
              "    <tr>\n",
              "      <th>890</th>\n",
              "      <td>0</td>\n",
              "      <td>3</td>\n",
              "      <td>Dooley, Mr. Patrick</td>\n",
              "      <td>male</td>\n",
              "      <td>32.0</td>\n",
              "      <td>0</td>\n",
              "      <td>0</td>\n",
              "      <td>370376</td>\n",
              "      <td>7.7500</td>\n",
              "      <td>NaN</td>\n",
              "      <td>Q</td>\n",
              "    </tr>\n",
              "  </tbody>\n",
              "</table>\n",
              "<p>891 rows × 11 columns</p>\n",
              "</div>\n",
              "      <button class=\"colab-df-convert\" onclick=\"convertToInteractive('df-407c4331-993b-4215-92ae-9155cdfdb6f8')\"\n",
              "              title=\"Convert this dataframe to an interactive table.\"\n",
              "              style=\"display:none;\">\n",
              "        \n",
              "  <svg xmlns=\"http://www.w3.org/2000/svg\" height=\"24px\"viewBox=\"0 0 24 24\"\n",
              "       width=\"24px\">\n",
              "    <path d=\"M0 0h24v24H0V0z\" fill=\"none\"/>\n",
              "    <path d=\"M18.56 5.44l.94 2.06.94-2.06 2.06-.94-2.06-.94-.94-2.06-.94 2.06-2.06.94zm-11 1L8.5 8.5l.94-2.06 2.06-.94-2.06-.94L8.5 2.5l-.94 2.06-2.06.94zm10 10l.94 2.06.94-2.06 2.06-.94-2.06-.94-.94-2.06-.94 2.06-2.06.94z\"/><path d=\"M17.41 7.96l-1.37-1.37c-.4-.4-.92-.59-1.43-.59-.52 0-1.04.2-1.43.59L10.3 9.45l-7.72 7.72c-.78.78-.78 2.05 0 2.83L4 21.41c.39.39.9.59 1.41.59.51 0 1.02-.2 1.41-.59l7.78-7.78 2.81-2.81c.8-.78.8-2.07 0-2.86zM5.41 20L4 18.59l7.72-7.72 1.47 1.35L5.41 20z\"/>\n",
              "  </svg>\n",
              "      </button>\n",
              "      \n",
              "  <style>\n",
              "    .colab-df-container {\n",
              "      display:flex;\n",
              "      flex-wrap:wrap;\n",
              "      gap: 12px;\n",
              "    }\n",
              "\n",
              "    .colab-df-convert {\n",
              "      background-color: #E8F0FE;\n",
              "      border: none;\n",
              "      border-radius: 50%;\n",
              "      cursor: pointer;\n",
              "      display: none;\n",
              "      fill: #1967D2;\n",
              "      height: 32px;\n",
              "      padding: 0 0 0 0;\n",
              "      width: 32px;\n",
              "    }\n",
              "\n",
              "    .colab-df-convert:hover {\n",
              "      background-color: #E2EBFA;\n",
              "      box-shadow: 0px 1px 2px rgba(60, 64, 67, 0.3), 0px 1px 3px 1px rgba(60, 64, 67, 0.15);\n",
              "      fill: #174EA6;\n",
              "    }\n",
              "\n",
              "    [theme=dark] .colab-df-convert {\n",
              "      background-color: #3B4455;\n",
              "      fill: #D2E3FC;\n",
              "    }\n",
              "\n",
              "    [theme=dark] .colab-df-convert:hover {\n",
              "      background-color: #434B5C;\n",
              "      box-shadow: 0px 1px 3px 1px rgba(0, 0, 0, 0.15);\n",
              "      filter: drop-shadow(0px 1px 2px rgba(0, 0, 0, 0.3));\n",
              "      fill: #FFFFFF;\n",
              "    }\n",
              "  </style>\n",
              "\n",
              "      <script>\n",
              "        const buttonEl =\n",
              "          document.querySelector('#df-407c4331-993b-4215-92ae-9155cdfdb6f8 button.colab-df-convert');\n",
              "        buttonEl.style.display =\n",
              "          google.colab.kernel.accessAllowed ? 'block' : 'none';\n",
              "\n",
              "        async function convertToInteractive(key) {\n",
              "          const element = document.querySelector('#df-407c4331-993b-4215-92ae-9155cdfdb6f8');\n",
              "          const dataTable =\n",
              "            await google.colab.kernel.invokeFunction('convertToInteractive',\n",
              "                                                     [key], {});\n",
              "          if (!dataTable) return;\n",
              "\n",
              "          const docLinkHtml = 'Like what you see? Visit the ' +\n",
              "            '<a target=\"_blank\" href=https://colab.research.google.com/notebooks/data_table.ipynb>data table notebook</a>'\n",
              "            + ' to learn more about interactive tables.';\n",
              "          element.innerHTML = '';\n",
              "          dataTable['output_type'] = 'display_data';\n",
              "          await google.colab.output.renderOutput(dataTable, element);\n",
              "          const docLink = document.createElement('div');\n",
              "          docLink.innerHTML = docLinkHtml;\n",
              "          element.appendChild(docLink);\n",
              "        }\n",
              "      </script>\n",
              "    </div>\n",
              "  </div>\n",
              "  "
            ]
          },
          "metadata": {},
          "execution_count": 45
        }
      ]
    },
    {
      "cell_type": "code",
      "source": [
        "titanic.info()"
      ],
      "metadata": {
        "colab": {
          "base_uri": "https://localhost:8080/"
        },
        "id": "5sHqs7aC13nO",
        "outputId": "8649a109-a1c0-42b7-bcaf-65c4a63a90fa"
      },
      "execution_count": null,
      "outputs": [
        {
          "output_type": "stream",
          "name": "stdout",
          "text": [
            "<class 'pandas.core.frame.DataFrame'>\n",
            "RangeIndex: 891 entries, 0 to 890\n",
            "Data columns (total 11 columns):\n",
            " #   Column    Non-Null Count  Dtype  \n",
            "---  ------    --------------  -----  \n",
            " 0   Survived  891 non-null    int64  \n",
            " 1   Pclass    891 non-null    int64  \n",
            " 2   Name      891 non-null    object \n",
            " 3   Sex       891 non-null    object \n",
            " 4   Age       714 non-null    float64\n",
            " 5   SibSp     891 non-null    int64  \n",
            " 6   Parch     891 non-null    int64  \n",
            " 7   Ticket    891 non-null    object \n",
            " 8   Fare      891 non-null    float64\n",
            " 9   Cabin     204 non-null    object \n",
            " 10  Embarked  889 non-null    object \n",
            "dtypes: float64(2), int64(4), object(5)\n",
            "memory usage: 76.7+ KB\n"
          ]
        }
      ]
    },
    {
      "cell_type": "code",
      "source": [
        "titanic = titanic.dropna()\n",
        "titanic"
      ],
      "metadata": {
        "colab": {
          "base_uri": "https://localhost:8080/",
          "height": 424
        },
        "id": "DdeYr8nS147b",
        "outputId": "c0e255ea-ac2c-4e8b-9a94-319e5a5167b8"
      },
      "execution_count": null,
      "outputs": [
        {
          "output_type": "execute_result",
          "data": {
            "text/plain": [
              "     Survived  Pclass                                               Name  \\\n",
              "1           1       1  Cumings, Mrs. John Bradley (Florence Briggs Th...   \n",
              "3           1       1       Futrelle, Mrs. Jacques Heath (Lily May Peel)   \n",
              "6           0       1                            McCarthy, Mr. Timothy J   \n",
              "10          1       3                    Sandstrom, Miss. Marguerite Rut   \n",
              "11          1       1                           Bonnell, Miss. Elizabeth   \n",
              "..        ...     ...                                                ...   \n",
              "871         1       1   Beckwith, Mrs. Richard Leonard (Sallie Monypeny)   \n",
              "872         0       1                           Carlsson, Mr. Frans Olof   \n",
              "879         1       1      Potter, Mrs. Thomas Jr (Lily Alexenia Wilson)   \n",
              "887         1       1                       Graham, Miss. Margaret Edith   \n",
              "889         1       1                              Behr, Mr. Karl Howell   \n",
              "\n",
              "        Sex   Age  SibSp  Parch    Ticket     Fare        Cabin Embarked  \n",
              "1    female  38.0      1      0  PC 17599  71.2833          C85        C  \n",
              "3    female  35.0      1      0    113803  53.1000         C123        S  \n",
              "6      male  54.0      0      0     17463  51.8625          E46        S  \n",
              "10   female   4.0      1      1   PP 9549  16.7000           G6        S  \n",
              "11   female  58.0      0      0    113783  26.5500         C103        S  \n",
              "..      ...   ...    ...    ...       ...      ...          ...      ...  \n",
              "871  female  47.0      1      1     11751  52.5542          D35        S  \n",
              "872    male  33.0      0      0       695   5.0000  B51 B53 B55        S  \n",
              "879  female  56.0      0      1     11767  83.1583          C50        C  \n",
              "887  female  19.0      0      0    112053  30.0000          B42        S  \n",
              "889    male  26.0      0      0    111369  30.0000         C148        C  \n",
              "\n",
              "[183 rows x 11 columns]"
            ],
            "text/html": [
              "\n",
              "  <div id=\"df-d08b6b58-4087-43a0-a764-2a75c2f946b0\">\n",
              "    <div class=\"colab-df-container\">\n",
              "      <div>\n",
              "<style scoped>\n",
              "    .dataframe tbody tr th:only-of-type {\n",
              "        vertical-align: middle;\n",
              "    }\n",
              "\n",
              "    .dataframe tbody tr th {\n",
              "        vertical-align: top;\n",
              "    }\n",
              "\n",
              "    .dataframe thead th {\n",
              "        text-align: right;\n",
              "    }\n",
              "</style>\n",
              "<table border=\"1\" class=\"dataframe\">\n",
              "  <thead>\n",
              "    <tr style=\"text-align: right;\">\n",
              "      <th></th>\n",
              "      <th>Survived</th>\n",
              "      <th>Pclass</th>\n",
              "      <th>Name</th>\n",
              "      <th>Sex</th>\n",
              "      <th>Age</th>\n",
              "      <th>SibSp</th>\n",
              "      <th>Parch</th>\n",
              "      <th>Ticket</th>\n",
              "      <th>Fare</th>\n",
              "      <th>Cabin</th>\n",
              "      <th>Embarked</th>\n",
              "    </tr>\n",
              "  </thead>\n",
              "  <tbody>\n",
              "    <tr>\n",
              "      <th>1</th>\n",
              "      <td>1</td>\n",
              "      <td>1</td>\n",
              "      <td>Cumings, Mrs. John Bradley (Florence Briggs Th...</td>\n",
              "      <td>female</td>\n",
              "      <td>38.0</td>\n",
              "      <td>1</td>\n",
              "      <td>0</td>\n",
              "      <td>PC 17599</td>\n",
              "      <td>71.2833</td>\n",
              "      <td>C85</td>\n",
              "      <td>C</td>\n",
              "    </tr>\n",
              "    <tr>\n",
              "      <th>3</th>\n",
              "      <td>1</td>\n",
              "      <td>1</td>\n",
              "      <td>Futrelle, Mrs. Jacques Heath (Lily May Peel)</td>\n",
              "      <td>female</td>\n",
              "      <td>35.0</td>\n",
              "      <td>1</td>\n",
              "      <td>0</td>\n",
              "      <td>113803</td>\n",
              "      <td>53.1000</td>\n",
              "      <td>C123</td>\n",
              "      <td>S</td>\n",
              "    </tr>\n",
              "    <tr>\n",
              "      <th>6</th>\n",
              "      <td>0</td>\n",
              "      <td>1</td>\n",
              "      <td>McCarthy, Mr. Timothy J</td>\n",
              "      <td>male</td>\n",
              "      <td>54.0</td>\n",
              "      <td>0</td>\n",
              "      <td>0</td>\n",
              "      <td>17463</td>\n",
              "      <td>51.8625</td>\n",
              "      <td>E46</td>\n",
              "      <td>S</td>\n",
              "    </tr>\n",
              "    <tr>\n",
              "      <th>10</th>\n",
              "      <td>1</td>\n",
              "      <td>3</td>\n",
              "      <td>Sandstrom, Miss. Marguerite Rut</td>\n",
              "      <td>female</td>\n",
              "      <td>4.0</td>\n",
              "      <td>1</td>\n",
              "      <td>1</td>\n",
              "      <td>PP 9549</td>\n",
              "      <td>16.7000</td>\n",
              "      <td>G6</td>\n",
              "      <td>S</td>\n",
              "    </tr>\n",
              "    <tr>\n",
              "      <th>11</th>\n",
              "      <td>1</td>\n",
              "      <td>1</td>\n",
              "      <td>Bonnell, Miss. Elizabeth</td>\n",
              "      <td>female</td>\n",
              "      <td>58.0</td>\n",
              "      <td>0</td>\n",
              "      <td>0</td>\n",
              "      <td>113783</td>\n",
              "      <td>26.5500</td>\n",
              "      <td>C103</td>\n",
              "      <td>S</td>\n",
              "    </tr>\n",
              "    <tr>\n",
              "      <th>...</th>\n",
              "      <td>...</td>\n",
              "      <td>...</td>\n",
              "      <td>...</td>\n",
              "      <td>...</td>\n",
              "      <td>...</td>\n",
              "      <td>...</td>\n",
              "      <td>...</td>\n",
              "      <td>...</td>\n",
              "      <td>...</td>\n",
              "      <td>...</td>\n",
              "      <td>...</td>\n",
              "    </tr>\n",
              "    <tr>\n",
              "      <th>871</th>\n",
              "      <td>1</td>\n",
              "      <td>1</td>\n",
              "      <td>Beckwith, Mrs. Richard Leonard (Sallie Monypeny)</td>\n",
              "      <td>female</td>\n",
              "      <td>47.0</td>\n",
              "      <td>1</td>\n",
              "      <td>1</td>\n",
              "      <td>11751</td>\n",
              "      <td>52.5542</td>\n",
              "      <td>D35</td>\n",
              "      <td>S</td>\n",
              "    </tr>\n",
              "    <tr>\n",
              "      <th>872</th>\n",
              "      <td>0</td>\n",
              "      <td>1</td>\n",
              "      <td>Carlsson, Mr. Frans Olof</td>\n",
              "      <td>male</td>\n",
              "      <td>33.0</td>\n",
              "      <td>0</td>\n",
              "      <td>0</td>\n",
              "      <td>695</td>\n",
              "      <td>5.0000</td>\n",
              "      <td>B51 B53 B55</td>\n",
              "      <td>S</td>\n",
              "    </tr>\n",
              "    <tr>\n",
              "      <th>879</th>\n",
              "      <td>1</td>\n",
              "      <td>1</td>\n",
              "      <td>Potter, Mrs. Thomas Jr (Lily Alexenia Wilson)</td>\n",
              "      <td>female</td>\n",
              "      <td>56.0</td>\n",
              "      <td>0</td>\n",
              "      <td>1</td>\n",
              "      <td>11767</td>\n",
              "      <td>83.1583</td>\n",
              "      <td>C50</td>\n",
              "      <td>C</td>\n",
              "    </tr>\n",
              "    <tr>\n",
              "      <th>887</th>\n",
              "      <td>1</td>\n",
              "      <td>1</td>\n",
              "      <td>Graham, Miss. Margaret Edith</td>\n",
              "      <td>female</td>\n",
              "      <td>19.0</td>\n",
              "      <td>0</td>\n",
              "      <td>0</td>\n",
              "      <td>112053</td>\n",
              "      <td>30.0000</td>\n",
              "      <td>B42</td>\n",
              "      <td>S</td>\n",
              "    </tr>\n",
              "    <tr>\n",
              "      <th>889</th>\n",
              "      <td>1</td>\n",
              "      <td>1</td>\n",
              "      <td>Behr, Mr. Karl Howell</td>\n",
              "      <td>male</td>\n",
              "      <td>26.0</td>\n",
              "      <td>0</td>\n",
              "      <td>0</td>\n",
              "      <td>111369</td>\n",
              "      <td>30.0000</td>\n",
              "      <td>C148</td>\n",
              "      <td>C</td>\n",
              "    </tr>\n",
              "  </tbody>\n",
              "</table>\n",
              "<p>183 rows × 11 columns</p>\n",
              "</div>\n",
              "      <button class=\"colab-df-convert\" onclick=\"convertToInteractive('df-d08b6b58-4087-43a0-a764-2a75c2f946b0')\"\n",
              "              title=\"Convert this dataframe to an interactive table.\"\n",
              "              style=\"display:none;\">\n",
              "        \n",
              "  <svg xmlns=\"http://www.w3.org/2000/svg\" height=\"24px\"viewBox=\"0 0 24 24\"\n",
              "       width=\"24px\">\n",
              "    <path d=\"M0 0h24v24H0V0z\" fill=\"none\"/>\n",
              "    <path d=\"M18.56 5.44l.94 2.06.94-2.06 2.06-.94-2.06-.94-.94-2.06-.94 2.06-2.06.94zm-11 1L8.5 8.5l.94-2.06 2.06-.94-2.06-.94L8.5 2.5l-.94 2.06-2.06.94zm10 10l.94 2.06.94-2.06 2.06-.94-2.06-.94-.94-2.06-.94 2.06-2.06.94z\"/><path d=\"M17.41 7.96l-1.37-1.37c-.4-.4-.92-.59-1.43-.59-.52 0-1.04.2-1.43.59L10.3 9.45l-7.72 7.72c-.78.78-.78 2.05 0 2.83L4 21.41c.39.39.9.59 1.41.59.51 0 1.02-.2 1.41-.59l7.78-7.78 2.81-2.81c.8-.78.8-2.07 0-2.86zM5.41 20L4 18.59l7.72-7.72 1.47 1.35L5.41 20z\"/>\n",
              "  </svg>\n",
              "      </button>\n",
              "      \n",
              "  <style>\n",
              "    .colab-df-container {\n",
              "      display:flex;\n",
              "      flex-wrap:wrap;\n",
              "      gap: 12px;\n",
              "    }\n",
              "\n",
              "    .colab-df-convert {\n",
              "      background-color: #E8F0FE;\n",
              "      border: none;\n",
              "      border-radius: 50%;\n",
              "      cursor: pointer;\n",
              "      display: none;\n",
              "      fill: #1967D2;\n",
              "      height: 32px;\n",
              "      padding: 0 0 0 0;\n",
              "      width: 32px;\n",
              "    }\n",
              "\n",
              "    .colab-df-convert:hover {\n",
              "      background-color: #E2EBFA;\n",
              "      box-shadow: 0px 1px 2px rgba(60, 64, 67, 0.3), 0px 1px 3px 1px rgba(60, 64, 67, 0.15);\n",
              "      fill: #174EA6;\n",
              "    }\n",
              "\n",
              "    [theme=dark] .colab-df-convert {\n",
              "      background-color: #3B4455;\n",
              "      fill: #D2E3FC;\n",
              "    }\n",
              "\n",
              "    [theme=dark] .colab-df-convert:hover {\n",
              "      background-color: #434B5C;\n",
              "      box-shadow: 0px 1px 3px 1px rgba(0, 0, 0, 0.15);\n",
              "      filter: drop-shadow(0px 1px 2px rgba(0, 0, 0, 0.3));\n",
              "      fill: #FFFFFF;\n",
              "    }\n",
              "  </style>\n",
              "\n",
              "      <script>\n",
              "        const buttonEl =\n",
              "          document.querySelector('#df-d08b6b58-4087-43a0-a764-2a75c2f946b0 button.colab-df-convert');\n",
              "        buttonEl.style.display =\n",
              "          google.colab.kernel.accessAllowed ? 'block' : 'none';\n",
              "\n",
              "        async function convertToInteractive(key) {\n",
              "          const element = document.querySelector('#df-d08b6b58-4087-43a0-a764-2a75c2f946b0');\n",
              "          const dataTable =\n",
              "            await google.colab.kernel.invokeFunction('convertToInteractive',\n",
              "                                                     [key], {});\n",
              "          if (!dataTable) return;\n",
              "\n",
              "          const docLinkHtml = 'Like what you see? Visit the ' +\n",
              "            '<a target=\"_blank\" href=https://colab.research.google.com/notebooks/data_table.ipynb>data table notebook</a>'\n",
              "            + ' to learn more about interactive tables.';\n",
              "          element.innerHTML = '';\n",
              "          dataTable['output_type'] = 'display_data';\n",
              "          await google.colab.output.renderOutput(dataTable, element);\n",
              "          const docLink = document.createElement('div');\n",
              "          docLink.innerHTML = docLinkHtml;\n",
              "          element.appendChild(docLink);\n",
              "        }\n",
              "      </script>\n",
              "    </div>\n",
              "  </div>\n",
              "  "
            ]
          },
          "metadata": {},
          "execution_count": 47
        }
      ]
    },
    {
      "cell_type": "code",
      "source": [
        "titanic[titanic.duplicated()]"
      ],
      "metadata": {
        "colab": {
          "base_uri": "https://localhost:8080/",
          "height": 49
        },
        "id": "uAD5N31c16-e",
        "outputId": "6d783b40-16d8-4865-91ce-d594ccbd8b28"
      },
      "execution_count": null,
      "outputs": [
        {
          "output_type": "execute_result",
          "data": {
            "text/plain": [
              "Empty DataFrame\n",
              "Columns: [Survived, Pclass, Name, Sex, Age, SibSp, Parch, Ticket, Fare, Cabin, Embarked]\n",
              "Index: []"
            ],
            "text/html": [
              "\n",
              "  <div id=\"df-2649d3cc-2e93-4359-98f2-8acf3649793a\">\n",
              "    <div class=\"colab-df-container\">\n",
              "      <div>\n",
              "<style scoped>\n",
              "    .dataframe tbody tr th:only-of-type {\n",
              "        vertical-align: middle;\n",
              "    }\n",
              "\n",
              "    .dataframe tbody tr th {\n",
              "        vertical-align: top;\n",
              "    }\n",
              "\n",
              "    .dataframe thead th {\n",
              "        text-align: right;\n",
              "    }\n",
              "</style>\n",
              "<table border=\"1\" class=\"dataframe\">\n",
              "  <thead>\n",
              "    <tr style=\"text-align: right;\">\n",
              "      <th></th>\n",
              "      <th>Survived</th>\n",
              "      <th>Pclass</th>\n",
              "      <th>Name</th>\n",
              "      <th>Sex</th>\n",
              "      <th>Age</th>\n",
              "      <th>SibSp</th>\n",
              "      <th>Parch</th>\n",
              "      <th>Ticket</th>\n",
              "      <th>Fare</th>\n",
              "      <th>Cabin</th>\n",
              "      <th>Embarked</th>\n",
              "    </tr>\n",
              "  </thead>\n",
              "  <tbody>\n",
              "  </tbody>\n",
              "</table>\n",
              "</div>\n",
              "      <button class=\"colab-df-convert\" onclick=\"convertToInteractive('df-2649d3cc-2e93-4359-98f2-8acf3649793a')\"\n",
              "              title=\"Convert this dataframe to an interactive table.\"\n",
              "              style=\"display:none;\">\n",
              "        \n",
              "  <svg xmlns=\"http://www.w3.org/2000/svg\" height=\"24px\"viewBox=\"0 0 24 24\"\n",
              "       width=\"24px\">\n",
              "    <path d=\"M0 0h24v24H0V0z\" fill=\"none\"/>\n",
              "    <path d=\"M18.56 5.44l.94 2.06.94-2.06 2.06-.94-2.06-.94-.94-2.06-.94 2.06-2.06.94zm-11 1L8.5 8.5l.94-2.06 2.06-.94-2.06-.94L8.5 2.5l-.94 2.06-2.06.94zm10 10l.94 2.06.94-2.06 2.06-.94-2.06-.94-.94-2.06-.94 2.06-2.06.94z\"/><path d=\"M17.41 7.96l-1.37-1.37c-.4-.4-.92-.59-1.43-.59-.52 0-1.04.2-1.43.59L10.3 9.45l-7.72 7.72c-.78.78-.78 2.05 0 2.83L4 21.41c.39.39.9.59 1.41.59.51 0 1.02-.2 1.41-.59l7.78-7.78 2.81-2.81c.8-.78.8-2.07 0-2.86zM5.41 20L4 18.59l7.72-7.72 1.47 1.35L5.41 20z\"/>\n",
              "  </svg>\n",
              "      </button>\n",
              "      \n",
              "  <style>\n",
              "    .colab-df-container {\n",
              "      display:flex;\n",
              "      flex-wrap:wrap;\n",
              "      gap: 12px;\n",
              "    }\n",
              "\n",
              "    .colab-df-convert {\n",
              "      background-color: #E8F0FE;\n",
              "      border: none;\n",
              "      border-radius: 50%;\n",
              "      cursor: pointer;\n",
              "      display: none;\n",
              "      fill: #1967D2;\n",
              "      height: 32px;\n",
              "      padding: 0 0 0 0;\n",
              "      width: 32px;\n",
              "    }\n",
              "\n",
              "    .colab-df-convert:hover {\n",
              "      background-color: #E2EBFA;\n",
              "      box-shadow: 0px 1px 2px rgba(60, 64, 67, 0.3), 0px 1px 3px 1px rgba(60, 64, 67, 0.15);\n",
              "      fill: #174EA6;\n",
              "    }\n",
              "\n",
              "    [theme=dark] .colab-df-convert {\n",
              "      background-color: #3B4455;\n",
              "      fill: #D2E3FC;\n",
              "    }\n",
              "\n",
              "    [theme=dark] .colab-df-convert:hover {\n",
              "      background-color: #434B5C;\n",
              "      box-shadow: 0px 1px 3px 1px rgba(0, 0, 0, 0.15);\n",
              "      filter: drop-shadow(0px 1px 2px rgba(0, 0, 0, 0.3));\n",
              "      fill: #FFFFFF;\n",
              "    }\n",
              "  </style>\n",
              "\n",
              "      <script>\n",
              "        const buttonEl =\n",
              "          document.querySelector('#df-2649d3cc-2e93-4359-98f2-8acf3649793a button.colab-df-convert');\n",
              "        buttonEl.style.display =\n",
              "          google.colab.kernel.accessAllowed ? 'block' : 'none';\n",
              "\n",
              "        async function convertToInteractive(key) {\n",
              "          const element = document.querySelector('#df-2649d3cc-2e93-4359-98f2-8acf3649793a');\n",
              "          const dataTable =\n",
              "            await google.colab.kernel.invokeFunction('convertToInteractive',\n",
              "                                                     [key], {});\n",
              "          if (!dataTable) return;\n",
              "\n",
              "          const docLinkHtml = 'Like what you see? Visit the ' +\n",
              "            '<a target=\"_blank\" href=https://colab.research.google.com/notebooks/data_table.ipynb>data table notebook</a>'\n",
              "            + ' to learn more about interactive tables.';\n",
              "          element.innerHTML = '';\n",
              "          dataTable['output_type'] = 'display_data';\n",
              "          await google.colab.output.renderOutput(dataTable, element);\n",
              "          const docLink = document.createElement('div');\n",
              "          docLink.innerHTML = docLinkHtml;\n",
              "          element.appendChild(docLink);\n",
              "        }\n",
              "      </script>\n",
              "    </div>\n",
              "  </div>\n",
              "  "
            ]
          },
          "metadata": {},
          "execution_count": 48
        }
      ]
    },
    {
      "cell_type": "code",
      "source": [
        "titanic.Embarked.value_counts()"
      ],
      "metadata": {
        "colab": {
          "base_uri": "https://localhost:8080/"
        },
        "id": "6P9ZYsEx19ZO",
        "outputId": "1ef8d753-f01e-4b1f-a9d1-eec88710e54f"
      },
      "execution_count": null,
      "outputs": [
        {
          "output_type": "execute_result",
          "data": {
            "text/plain": [
              "S    116\n",
              "C     65\n",
              "Q      2\n",
              "Name: Embarked, dtype: int64"
            ]
          },
          "metadata": {},
          "execution_count": 49
        }
      ]
    },
    {
      "cell_type": "code",
      "source": [
        "map_value = {'S': 0, 'C': 1, 'Q': 2}\n",
        "titanic['Embarked'] = titanic.Embarked.map(map_value)\n",
        "titanic"
      ],
      "metadata": {
        "colab": {
          "base_uri": "https://localhost:8080/",
          "height": 534
        },
        "id": "BUtN95VX2BTt",
        "outputId": "ed96c743-d4b3-41ef-e59d-f0d3f2e51d72"
      },
      "execution_count": null,
      "outputs": [
        {
          "output_type": "stream",
          "name": "stderr",
          "text": [
            "<ipython-input-50-c605a5e5adb1>:2: SettingWithCopyWarning: \n",
            "A value is trying to be set on a copy of a slice from a DataFrame.\n",
            "Try using .loc[row_indexer,col_indexer] = value instead\n",
            "\n",
            "See the caveats in the documentation: https://pandas.pydata.org/pandas-docs/stable/user_guide/indexing.html#returning-a-view-versus-a-copy\n",
            "  titanic['Embarked'] = titanic.Embarked.map(map_value)\n"
          ]
        },
        {
          "output_type": "execute_result",
          "data": {
            "text/plain": [
              "     Survived  Pclass                                               Name  \\\n",
              "1           1       1  Cumings, Mrs. John Bradley (Florence Briggs Th...   \n",
              "3           1       1       Futrelle, Mrs. Jacques Heath (Lily May Peel)   \n",
              "6           0       1                            McCarthy, Mr. Timothy J   \n",
              "10          1       3                    Sandstrom, Miss. Marguerite Rut   \n",
              "11          1       1                           Bonnell, Miss. Elizabeth   \n",
              "..        ...     ...                                                ...   \n",
              "871         1       1   Beckwith, Mrs. Richard Leonard (Sallie Monypeny)   \n",
              "872         0       1                           Carlsson, Mr. Frans Olof   \n",
              "879         1       1      Potter, Mrs. Thomas Jr (Lily Alexenia Wilson)   \n",
              "887         1       1                       Graham, Miss. Margaret Edith   \n",
              "889         1       1                              Behr, Mr. Karl Howell   \n",
              "\n",
              "        Sex   Age  SibSp  Parch    Ticket     Fare        Cabin  Embarked  \n",
              "1    female  38.0      1      0  PC 17599  71.2833          C85         1  \n",
              "3    female  35.0      1      0    113803  53.1000         C123         0  \n",
              "6      male  54.0      0      0     17463  51.8625          E46         0  \n",
              "10   female   4.0      1      1   PP 9549  16.7000           G6         0  \n",
              "11   female  58.0      0      0    113783  26.5500         C103         0  \n",
              "..      ...   ...    ...    ...       ...      ...          ...       ...  \n",
              "871  female  47.0      1      1     11751  52.5542          D35         0  \n",
              "872    male  33.0      0      0       695   5.0000  B51 B53 B55         0  \n",
              "879  female  56.0      0      1     11767  83.1583          C50         1  \n",
              "887  female  19.0      0      0    112053  30.0000          B42         0  \n",
              "889    male  26.0      0      0    111369  30.0000         C148         1  \n",
              "\n",
              "[183 rows x 11 columns]"
            ],
            "text/html": [
              "\n",
              "  <div id=\"df-aaaa7b5c-2bb8-4dd5-b186-e24a30af9171\">\n",
              "    <div class=\"colab-df-container\">\n",
              "      <div>\n",
              "<style scoped>\n",
              "    .dataframe tbody tr th:only-of-type {\n",
              "        vertical-align: middle;\n",
              "    }\n",
              "\n",
              "    .dataframe tbody tr th {\n",
              "        vertical-align: top;\n",
              "    }\n",
              "\n",
              "    .dataframe thead th {\n",
              "        text-align: right;\n",
              "    }\n",
              "</style>\n",
              "<table border=\"1\" class=\"dataframe\">\n",
              "  <thead>\n",
              "    <tr style=\"text-align: right;\">\n",
              "      <th></th>\n",
              "      <th>Survived</th>\n",
              "      <th>Pclass</th>\n",
              "      <th>Name</th>\n",
              "      <th>Sex</th>\n",
              "      <th>Age</th>\n",
              "      <th>SibSp</th>\n",
              "      <th>Parch</th>\n",
              "      <th>Ticket</th>\n",
              "      <th>Fare</th>\n",
              "      <th>Cabin</th>\n",
              "      <th>Embarked</th>\n",
              "    </tr>\n",
              "  </thead>\n",
              "  <tbody>\n",
              "    <tr>\n",
              "      <th>1</th>\n",
              "      <td>1</td>\n",
              "      <td>1</td>\n",
              "      <td>Cumings, Mrs. John Bradley (Florence Briggs Th...</td>\n",
              "      <td>female</td>\n",
              "      <td>38.0</td>\n",
              "      <td>1</td>\n",
              "      <td>0</td>\n",
              "      <td>PC 17599</td>\n",
              "      <td>71.2833</td>\n",
              "      <td>C85</td>\n",
              "      <td>1</td>\n",
              "    </tr>\n",
              "    <tr>\n",
              "      <th>3</th>\n",
              "      <td>1</td>\n",
              "      <td>1</td>\n",
              "      <td>Futrelle, Mrs. Jacques Heath (Lily May Peel)</td>\n",
              "      <td>female</td>\n",
              "      <td>35.0</td>\n",
              "      <td>1</td>\n",
              "      <td>0</td>\n",
              "      <td>113803</td>\n",
              "      <td>53.1000</td>\n",
              "      <td>C123</td>\n",
              "      <td>0</td>\n",
              "    </tr>\n",
              "    <tr>\n",
              "      <th>6</th>\n",
              "      <td>0</td>\n",
              "      <td>1</td>\n",
              "      <td>McCarthy, Mr. Timothy J</td>\n",
              "      <td>male</td>\n",
              "      <td>54.0</td>\n",
              "      <td>0</td>\n",
              "      <td>0</td>\n",
              "      <td>17463</td>\n",
              "      <td>51.8625</td>\n",
              "      <td>E46</td>\n",
              "      <td>0</td>\n",
              "    </tr>\n",
              "    <tr>\n",
              "      <th>10</th>\n",
              "      <td>1</td>\n",
              "      <td>3</td>\n",
              "      <td>Sandstrom, Miss. Marguerite Rut</td>\n",
              "      <td>female</td>\n",
              "      <td>4.0</td>\n",
              "      <td>1</td>\n",
              "      <td>1</td>\n",
              "      <td>PP 9549</td>\n",
              "      <td>16.7000</td>\n",
              "      <td>G6</td>\n",
              "      <td>0</td>\n",
              "    </tr>\n",
              "    <tr>\n",
              "      <th>11</th>\n",
              "      <td>1</td>\n",
              "      <td>1</td>\n",
              "      <td>Bonnell, Miss. Elizabeth</td>\n",
              "      <td>female</td>\n",
              "      <td>58.0</td>\n",
              "      <td>0</td>\n",
              "      <td>0</td>\n",
              "      <td>113783</td>\n",
              "      <td>26.5500</td>\n",
              "      <td>C103</td>\n",
              "      <td>0</td>\n",
              "    </tr>\n",
              "    <tr>\n",
              "      <th>...</th>\n",
              "      <td>...</td>\n",
              "      <td>...</td>\n",
              "      <td>...</td>\n",
              "      <td>...</td>\n",
              "      <td>...</td>\n",
              "      <td>...</td>\n",
              "      <td>...</td>\n",
              "      <td>...</td>\n",
              "      <td>...</td>\n",
              "      <td>...</td>\n",
              "      <td>...</td>\n",
              "    </tr>\n",
              "    <tr>\n",
              "      <th>871</th>\n",
              "      <td>1</td>\n",
              "      <td>1</td>\n",
              "      <td>Beckwith, Mrs. Richard Leonard (Sallie Monypeny)</td>\n",
              "      <td>female</td>\n",
              "      <td>47.0</td>\n",
              "      <td>1</td>\n",
              "      <td>1</td>\n",
              "      <td>11751</td>\n",
              "      <td>52.5542</td>\n",
              "      <td>D35</td>\n",
              "      <td>0</td>\n",
              "    </tr>\n",
              "    <tr>\n",
              "      <th>872</th>\n",
              "      <td>0</td>\n",
              "      <td>1</td>\n",
              "      <td>Carlsson, Mr. Frans Olof</td>\n",
              "      <td>male</td>\n",
              "      <td>33.0</td>\n",
              "      <td>0</td>\n",
              "      <td>0</td>\n",
              "      <td>695</td>\n",
              "      <td>5.0000</td>\n",
              "      <td>B51 B53 B55</td>\n",
              "      <td>0</td>\n",
              "    </tr>\n",
              "    <tr>\n",
              "      <th>879</th>\n",
              "      <td>1</td>\n",
              "      <td>1</td>\n",
              "      <td>Potter, Mrs. Thomas Jr (Lily Alexenia Wilson)</td>\n",
              "      <td>female</td>\n",
              "      <td>56.0</td>\n",
              "      <td>0</td>\n",
              "      <td>1</td>\n",
              "      <td>11767</td>\n",
              "      <td>83.1583</td>\n",
              "      <td>C50</td>\n",
              "      <td>1</td>\n",
              "    </tr>\n",
              "    <tr>\n",
              "      <th>887</th>\n",
              "      <td>1</td>\n",
              "      <td>1</td>\n",
              "      <td>Graham, Miss. Margaret Edith</td>\n",
              "      <td>female</td>\n",
              "      <td>19.0</td>\n",
              "      <td>0</td>\n",
              "      <td>0</td>\n",
              "      <td>112053</td>\n",
              "      <td>30.0000</td>\n",
              "      <td>B42</td>\n",
              "      <td>0</td>\n",
              "    </tr>\n",
              "    <tr>\n",
              "      <th>889</th>\n",
              "      <td>1</td>\n",
              "      <td>1</td>\n",
              "      <td>Behr, Mr. Karl Howell</td>\n",
              "      <td>male</td>\n",
              "      <td>26.0</td>\n",
              "      <td>0</td>\n",
              "      <td>0</td>\n",
              "      <td>111369</td>\n",
              "      <td>30.0000</td>\n",
              "      <td>C148</td>\n",
              "      <td>1</td>\n",
              "    </tr>\n",
              "  </tbody>\n",
              "</table>\n",
              "<p>183 rows × 11 columns</p>\n",
              "</div>\n",
              "      <button class=\"colab-df-convert\" onclick=\"convertToInteractive('df-aaaa7b5c-2bb8-4dd5-b186-e24a30af9171')\"\n",
              "              title=\"Convert this dataframe to an interactive table.\"\n",
              "              style=\"display:none;\">\n",
              "        \n",
              "  <svg xmlns=\"http://www.w3.org/2000/svg\" height=\"24px\"viewBox=\"0 0 24 24\"\n",
              "       width=\"24px\">\n",
              "    <path d=\"M0 0h24v24H0V0z\" fill=\"none\"/>\n",
              "    <path d=\"M18.56 5.44l.94 2.06.94-2.06 2.06-.94-2.06-.94-.94-2.06-.94 2.06-2.06.94zm-11 1L8.5 8.5l.94-2.06 2.06-.94-2.06-.94L8.5 2.5l-.94 2.06-2.06.94zm10 10l.94 2.06.94-2.06 2.06-.94-2.06-.94-.94-2.06-.94 2.06-2.06.94z\"/><path d=\"M17.41 7.96l-1.37-1.37c-.4-.4-.92-.59-1.43-.59-.52 0-1.04.2-1.43.59L10.3 9.45l-7.72 7.72c-.78.78-.78 2.05 0 2.83L4 21.41c.39.39.9.59 1.41.59.51 0 1.02-.2 1.41-.59l7.78-7.78 2.81-2.81c.8-.78.8-2.07 0-2.86zM5.41 20L4 18.59l7.72-7.72 1.47 1.35L5.41 20z\"/>\n",
              "  </svg>\n",
              "      </button>\n",
              "      \n",
              "  <style>\n",
              "    .colab-df-container {\n",
              "      display:flex;\n",
              "      flex-wrap:wrap;\n",
              "      gap: 12px;\n",
              "    }\n",
              "\n",
              "    .colab-df-convert {\n",
              "      background-color: #E8F0FE;\n",
              "      border: none;\n",
              "      border-radius: 50%;\n",
              "      cursor: pointer;\n",
              "      display: none;\n",
              "      fill: #1967D2;\n",
              "      height: 32px;\n",
              "      padding: 0 0 0 0;\n",
              "      width: 32px;\n",
              "    }\n",
              "\n",
              "    .colab-df-convert:hover {\n",
              "      background-color: #E2EBFA;\n",
              "      box-shadow: 0px 1px 2px rgba(60, 64, 67, 0.3), 0px 1px 3px 1px rgba(60, 64, 67, 0.15);\n",
              "      fill: #174EA6;\n",
              "    }\n",
              "\n",
              "    [theme=dark] .colab-df-convert {\n",
              "      background-color: #3B4455;\n",
              "      fill: #D2E3FC;\n",
              "    }\n",
              "\n",
              "    [theme=dark] .colab-df-convert:hover {\n",
              "      background-color: #434B5C;\n",
              "      box-shadow: 0px 1px 3px 1px rgba(0, 0, 0, 0.15);\n",
              "      filter: drop-shadow(0px 1px 2px rgba(0, 0, 0, 0.3));\n",
              "      fill: #FFFFFF;\n",
              "    }\n",
              "  </style>\n",
              "\n",
              "      <script>\n",
              "        const buttonEl =\n",
              "          document.querySelector('#df-aaaa7b5c-2bb8-4dd5-b186-e24a30af9171 button.colab-df-convert');\n",
              "        buttonEl.style.display =\n",
              "          google.colab.kernel.accessAllowed ? 'block' : 'none';\n",
              "\n",
              "        async function convertToInteractive(key) {\n",
              "          const element = document.querySelector('#df-aaaa7b5c-2bb8-4dd5-b186-e24a30af9171');\n",
              "          const dataTable =\n",
              "            await google.colab.kernel.invokeFunction('convertToInteractive',\n",
              "                                                     [key], {});\n",
              "          if (!dataTable) return;\n",
              "\n",
              "          const docLinkHtml = 'Like what you see? Visit the ' +\n",
              "            '<a target=\"_blank\" href=https://colab.research.google.com/notebooks/data_table.ipynb>data table notebook</a>'\n",
              "            + ' to learn more about interactive tables.';\n",
              "          element.innerHTML = '';\n",
              "          dataTable['output_type'] = 'display_data';\n",
              "          await google.colab.output.renderOutput(dataTable, element);\n",
              "          const docLink = document.createElement('div');\n",
              "          docLink.innerHTML = docLinkHtml;\n",
              "          element.appendChild(docLink);\n",
              "        }\n",
              "      </script>\n",
              "    </div>\n",
              "  </div>\n",
              "  "
            ]
          },
          "metadata": {},
          "execution_count": 50
        }
      ]
    },
    {
      "cell_type": "code",
      "source": [],
      "metadata": {
        "id": "BNgNeJds2Dqn"
      },
      "execution_count": null,
      "outputs": []
    }
  ]
}