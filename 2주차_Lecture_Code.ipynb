{
  "nbformat": 4,
  "nbformat_minor": 0,
  "metadata": {
    "colab": {
      "provenance": [],
      "toc_visible": true,
      "include_colab_link": true
    },
    "kernelspec": {
      "name": "python3",
      "display_name": "Python 3"
    },
    "language_info": {
      "name": "python"
    }
  },
  "cells": [
    {
      "cell_type": "markdown",
      "metadata": {
        "id": "view-in-github",
        "colab_type": "text"
      },
      "source": [
        "<a href=\"https://colab.research.google.com/github/trex99/DAVI/blob/main/2%EC%A3%BC%EC%B0%A8_Lecture_Code.ipynb\" target=\"_parent\"><img src=\"https://colab.research.google.com/assets/colab-badge.svg\" alt=\"Open In Colab\"/></a>"
      ]
    },
    {
      "cell_type": "markdown",
      "source": [
        "# 명령어와 데이터"
      ],
      "metadata": {
        "id": "OdWV4ruUbSwd"
      }
    },
    {
      "cell_type": "markdown",
      "source": [
        "## ▶ 명령어"
      ],
      "metadata": {
        "id": "g2EE6vOnbY4X"
      }
    },
    {
      "cell_type": "markdown",
      "source": [
        "-  컴퓨터의 특정 작업 또는 데이터를 이용하여 문제를 해결하기 위한 작업"
      ],
      "metadata": {
        "id": "N9hDm2-Q3yLG"
      }
    },
    {
      "cell_type": "markdown",
      "source": [
        "## ▶ 데이터"
      ],
      "metadata": {
        "id": "L2OCCIpCbmvB"
      }
    },
    {
      "cell_type": "markdown",
      "source": [
        "- 명령어가 실행될 때 사용하기 위한 자료"
      ],
      "metadata": {
        "id": "Vos1PMA930b0"
      }
    },
    {
      "cell_type": "markdown",
      "source": [
        "# 자료형과 제어문"
      ],
      "metadata": {
        "id": "-EVmzYp1MDML"
      }
    },
    {
      "cell_type": "markdown",
      "source": [
        "## 자료형"
      ],
      "metadata": {
        "id": "-VeSUET5MwNa"
      }
    },
    {
      "cell_type": "markdown",
      "source": [
        "자료형 - 숫자\n",
        "\n",
        "\n",
        "\n",
        "\n",
        "\n"
      ],
      "metadata": {
        "id": "F5PqE4KVMHLV"
      }
    },
    {
      "cell_type": "markdown",
      "source": [
        "자료형 - 문자열"
      ],
      "metadata": {
        "id": "MHRX7fidMcag"
      }
    },
    {
      "cell_type": "markdown",
      "source": [
        "자료형 - 논리형"
      ],
      "metadata": {
        "id": "9oDywwswMcTP"
      }
    },
    {
      "cell_type": "markdown",
      "source": [
        "자료형 - 시퀀스 (문자열)"
      ],
      "metadata": {
        "id": "Kss5_oQ8Mb4y"
      }
    },
    {
      "cell_type": "markdown",
      "source": [
        "자료형 - 시퀀스 (리스트)"
      ],
      "metadata": {
        "id": "xYj_z1SoMlVE"
      }
    },
    {
      "cell_type": "markdown",
      "source": [
        "자료형 - 시퀀스 (튜플)"
      ],
      "metadata": {
        "id": "GHQm7dr1Mnrd"
      }
    },
    {
      "cell_type": "markdown",
      "source": [
        "자료형 - 시퀀스 (딕셔너리)"
      ],
      "metadata": {
        "id": "PfjOyxVKMno1"
      }
    },
    {
      "cell_type": "markdown",
      "source": [
        "자료형 - 시퀀스 (세트)"
      ],
      "metadata": {
        "id": "A0_nOF0CMnmN"
      }
    },
    {
      "cell_type": "markdown",
      "source": [
        "## 제어문"
      ],
      "metadata": {
        "id": "oaey_X4IMnjV"
      }
    },
    {
      "cell_type": "markdown",
      "source": [
        "반복문 - for"
      ],
      "metadata": {
        "id": "xSCMdrHEMnbm"
      }
    },
    {
      "cell_type": "markdown",
      "source": [
        "반복문 - while"
      ],
      "metadata": {
        "id": "K2qOrC0TM_vr"
      }
    },
    {
      "cell_type": "markdown",
      "source": [
        "조건문 - if (if ~ elif ~ else)"
      ],
      "metadata": {
        "id": "23bJsLSYNFae"
      }
    }
  ]
}