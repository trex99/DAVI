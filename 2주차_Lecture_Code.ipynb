{
  "nbformat": 4,
  "nbformat_minor": 0,
  "metadata": {
    "colab": {
      "provenance": [],
      "toc_visible": true,
      "authorship_tag": "ABX9TyOvCk1LQ3TOHwJJ+6ftz+9E",
      "include_colab_link": true
    },
    "kernelspec": {
      "name": "python3",
      "display_name": "Python 3"
    },
    "language_info": {
      "name": "python"
    }
  },
  "cells": [
    {
      "cell_type": "markdown",
      "metadata": {
        "id": "view-in-github",
        "colab_type": "text"
      },
      "source": [
        "<a href=\"https://colab.research.google.com/github/trex99/DAVI/blob/main/2%EC%A3%BC%EC%B0%A8_Lecture_Code.ipynb\" target=\"_parent\"><img src=\"https://colab.research.google.com/assets/colab-badge.svg\" alt=\"Open In Colab\"/></a>"
      ]
    },
    {
      "cell_type": "markdown",
      "source": [
        "# 명령어와 데이터"
      ],
      "metadata": {
        "id": "OdWV4ruUbSwd"
      }
    },
    {
      "cell_type": "markdown",
      "source": [
        "## ▶ 명령어\n",
        "- 컴퓨터의 특정 작업 또는 데이터를 이용하여 문제를 해결하기 위한 작업"
      ],
      "metadata": {
        "id": "g2EE6vOnbY4X"
      }
    },
    {
      "cell_type": "markdown",
      "source": [
        "## ▶ 데이터\n",
        "- 명령어가 실행될 때 사용하기 위한 자료"
      ],
      "metadata": {
        "id": "L2OCCIpCbmvB"
      }
    },
    {
      "cell_type": "markdown",
      "source": [
        "# 자료형과 제어문"
      ],
      "metadata": {
        "id": "-EVmzYp1MDML"
      }
    },
    {
      "cell_type": "markdown",
      "source": [
        "### 변수와 상수"
      ],
      "metadata": {
        "id": "6m8r62GwA3UR"
      }
    },
    {
      "cell_type": "markdown",
      "source": [
        "- 변수 : 자료(데이터)를 저장하는 기억장소의 위치\n",
        "- 상수 : 기억장소에 저장되는 자료(데이터)"
      ],
      "metadata": {
        "id": "i8g84mvkCGRY"
      }
    },
    {
      "cell_type": "code",
      "source": [
        "a1 = 100  # my_variable : 변수, 100 : 상수\n",
        "print(a1)"
      ],
      "metadata": {
        "colab": {
          "base_uri": "https://localhost:8080/"
        },
        "id": "XYE-u1kFA9Wn",
        "outputId": "dd29cd00-766b-4871-d9bb-6ce423372efd"
      },
      "execution_count": 1,
      "outputs": [
        {
          "output_type": "stream",
          "name": "stdout",
          "text": [
            "100\n"
          ]
        }
      ]
    },
    {
      "cell_type": "code",
      "source": [
        "# 기억장소(메모리)에서의 a1의 위치 값\n",
        "print(id(a1))"
      ],
      "metadata": {
        "colab": {
          "base_uri": "https://localhost:8080/"
        },
        "id": "giZzeo_EBZgS",
        "outputId": "1c4ce2fc-3927-43ca-f7ed-7ef15e4062f1"
      },
      "execution_count": 2,
      "outputs": [
        {
          "output_type": "stream",
          "name": "stdout",
          "text": [
            "11534080\n"
          ]
        }
      ]
    },
    {
      "cell_type": "code",
      "source": [
        "# b1에 100을 저장한 후 데이터와 주소를 출력 (a1과 동일한 값)\n",
        "b1 = 100\n",
        "print(b1, id(b1))"
      ],
      "metadata": {
        "colab": {
          "base_uri": "https://localhost:8080/"
        },
        "id": "rnXhLPcUEMUX",
        "outputId": "967f85e7-6132-4b57-8e1d-29d0f2914411"
      },
      "execution_count": 7,
      "outputs": [
        {
          "output_type": "stream",
          "name": "stdout",
          "text": [
            "100 11534080\n"
          ]
        }
      ]
    },
    {
      "cell_type": "code",
      "source": [
        "# b1의 데이터를 변경하고 데이터와 주소를 출력\n",
        "b1 = 200\n",
        "print(b1, id(b1))"
      ],
      "metadata": {
        "colab": {
          "base_uri": "https://localhost:8080/"
        },
        "id": "yGU_gOIjESgJ",
        "outputId": "4ac31c1a-2d5e-43f4-b4a8-68096ece7e36"
      },
      "execution_count": 10,
      "outputs": [
        {
          "output_type": "stream",
          "name": "stdout",
          "text": [
            "200 11537280\n"
          ]
        }
      ]
    },
    {
      "cell_type": "code",
      "source": [
        "# a1에 200을 저장한 후 데이터와 주소를 출력 (b1과 동일한 값)\n",
        "a1 = 200\n",
        "print(a1, id(a1))"
      ],
      "metadata": {
        "colab": {
          "base_uri": "https://localhost:8080/"
        },
        "id": "kPY8IiN5EUhF",
        "outputId": "05cfd33c-ad27-4800-905f-5dfcf9414925"
      },
      "execution_count": 11,
      "outputs": [
        {
          "output_type": "stream",
          "name": "stdout",
          "text": [
            "200 11537280\n"
          ]
        }
      ]
    },
    {
      "cell_type": "markdown",
      "source": [
        "## 자료형"
      ],
      "metadata": {
        "id": "-VeSUET5MwNa"
      }
    },
    {
      "cell_type": "markdown",
      "source": [
        "### 숫자형\n",
        "\n",
        "\n",
        "\n",
        "\n",
        "\n"
      ],
      "metadata": {
        "id": "F5PqE4KVMHLV"
      }
    },
    {
      "cell_type": "markdown",
      "source": [
        "- 0~9 및 소수점(.), 언더바(_)로 구성된 데이터"
      ],
      "metadata": {
        "id": "9AKCC7ktIXfJ"
      }
    },
    {
      "cell_type": "code",
      "source": [
        "n1 = 100\n",
        "n2 = 20.2\n",
        "n3 = 100_000_000\n",
        "print(n1, n2, n3)"
      ],
      "metadata": {
        "colab": {
          "base_uri": "https://localhost:8080/"
        },
        "id": "Y1bISG9B_6iZ",
        "outputId": "c61870c0-f9ea-442c-905a-a06005efc553"
      },
      "execution_count": 16,
      "outputs": [
        {
          "output_type": "stream",
          "name": "stdout",
          "text": [
            "100 20.2 100000000\n"
          ]
        }
      ]
    },
    {
      "cell_type": "markdown",
      "source": [
        "### 문자형"
      ],
      "metadata": {
        "id": "MHRX7fidMcag"
      }
    },
    {
      "cell_type": "code",
      "source": [
        "# 따옴표에 들어가는 모든 데이터\n",
        "s1 = '100'\n",
        "s2 = '20.2'\n",
        "s3 = '100_000_000'\n",
        "print(s1, s2, s3)"
      ],
      "metadata": {
        "colab": {
          "base_uri": "https://localhost:8080/"
        },
        "id": "bPu82qlY_7Y3",
        "outputId": "bbeabcbf-b6c3-4f9b-f691-f9afc4d4a8fb"
      },
      "execution_count": 17,
      "outputs": [
        {
          "output_type": "stream",
          "name": "stdout",
          "text": [
            "100 20.2 100_000_000\n"
          ]
        }
      ]
    },
    {
      "cell_type": "code",
      "source": [
        "n1 + n2"
      ],
      "metadata": {
        "colab": {
          "base_uri": "https://localhost:8080/"
        },
        "id": "g7wE7SnyGXAx",
        "outputId": "9995f6df-e54d-4998-f11a-e0ef43232224"
      },
      "execution_count": 18,
      "outputs": [
        {
          "output_type": "execute_result",
          "data": {
            "text/plain": [
              "120.2"
            ]
          },
          "metadata": {},
          "execution_count": 18
        }
      ]
    },
    {
      "cell_type": "code",
      "source": [
        "s1 + s2"
      ],
      "metadata": {
        "colab": {
          "base_uri": "https://localhost:8080/",
          "height": 35
        },
        "id": "iisA7gyzGfJN",
        "outputId": "47af3a37-4821-47cf-dccf-75d233c76a0e"
      },
      "execution_count": 19,
      "outputs": [
        {
          "output_type": "execute_result",
          "data": {
            "text/plain": [
              "'10020.2'"
            ],
            "application/vnd.google.colaboratory.intrinsic+json": {
              "type": "string"
            }
          },
          "metadata": {},
          "execution_count": 19
        }
      ]
    },
    {
      "cell_type": "markdown",
      "source": [
        "### 논리형"
      ],
      "metadata": {
        "id": "9oDywwswMcTP"
      }
    },
    {
      "cell_type": "code",
      "source": [
        "# 참, 거짓을 의미하는 데이터\n",
        "b1 = True\n",
        "b2 = False\n",
        "\n",
        "print(b1, b2)"
      ],
      "metadata": {
        "colab": {
          "base_uri": "https://localhost:8080/"
        },
        "id": "cHWu5sSAGicB",
        "outputId": "e60c1f3f-9e3d-421b-e004-b4d8dece39d4"
      },
      "execution_count": 20,
      "outputs": [
        {
          "output_type": "stream",
          "name": "stdout",
          "text": [
            "True False\n"
          ]
        }
      ]
    },
    {
      "cell_type": "code",
      "source": [
        "# True 값이 숫자와 연산을 하게 된다면 ?\n",
        "b1 = True\n",
        "n1 = 3\n",
        "\n",
        "print(b1 + n1)"
      ],
      "metadata": {
        "colab": {
          "base_uri": "https://localhost:8080/"
        },
        "id": "EsGdnZFaG1NK",
        "outputId": "b37341e6-1880-4a7a-b858-e8d3f532fad9"
      },
      "execution_count": 25,
      "outputs": [
        {
          "output_type": "stream",
          "name": "stdout",
          "text": [
            "4\n"
          ]
        }
      ]
    },
    {
      "cell_type": "code",
      "source": [
        "# False 값이 숫자와 연산을 하게 된다면 ?\n",
        "b1 = False\n",
        "n1 = 3\n",
        "\n",
        "print(b1 + n1)"
      ],
      "metadata": {
        "colab": {
          "base_uri": "https://localhost:8080/"
        },
        "id": "ljsB9kc7HAr9",
        "outputId": "a0348aba-de5d-439d-e044-6a97f8d53396"
      },
      "execution_count": 26,
      "outputs": [
        {
          "output_type": "stream",
          "name": "stdout",
          "text": [
            "3\n"
          ]
        }
      ]
    },
    {
      "cell_type": "code",
      "source": [
        "# False 값이 문자와 연산을 하게 된다면 ?\n",
        "b1 = False\n",
        "s1 = '3'\n",
        "\n",
        "print(b1 + s1)"
      ],
      "metadata": {
        "id": "7aFg4fRTHIQV"
      },
      "execution_count": null,
      "outputs": []
    },
    {
      "cell_type": "markdown",
      "source": [
        "### 시퀀스 (문자열)"
      ],
      "metadata": {
        "id": "Kss5_oQ8Mb4y"
      }
    },
    {
      "cell_type": "code",
      "source": [
        "a = 'hello world'\n",
        "a.upper()"
      ],
      "metadata": {
        "colab": {
          "base_uri": "https://localhost:8080/",
          "height": 35
        },
        "id": "TgIC5YTpHp9i",
        "outputId": "abd44ed2-f772-4be1-9eef-086835cd4fe9"
      },
      "execution_count": 28,
      "outputs": [
        {
          "output_type": "execute_result",
          "data": {
            "text/plain": [
              "'HELLO WORLD'"
            ],
            "application/vnd.google.colaboratory.intrinsic+json": {
              "type": "string"
            }
          },
          "metadata": {},
          "execution_count": 28
        }
      ]
    },
    {
      "cell_type": "code",
      "source": [
        "a = 'hello world'\n",
        "a.replace('o', '0')\n"
      ],
      "metadata": {
        "colab": {
          "base_uri": "https://localhost:8080/",
          "height": 35
        },
        "id": "MycmVD6bHqtu",
        "outputId": "3b4ca9e5-4600-4ff7-ee6d-9befe43f06e1"
      },
      "execution_count": 31,
      "outputs": [
        {
          "output_type": "execute_result",
          "data": {
            "text/plain": [
              "'hell0 w0rld'"
            ],
            "application/vnd.google.colaboratory.intrinsic+json": {
              "type": "string"
            }
          },
          "metadata": {},
          "execution_count": 31
        }
      ]
    },
    {
      "cell_type": "code",
      "source": [
        "program_version = '20.3'\n",
        "seed = 42\n",
        "\n",
        "fname = f'submit_{program_version}_{seed}'\n",
        "print(fname)"
      ],
      "metadata": {
        "colab": {
          "base_uri": "https://localhost:8080/"
        },
        "id": "AnWxt1b7HsL9",
        "outputId": "e3a7cbbc-f6ff-4661-f7b7-bf90077b6482"
      },
      "execution_count": 30,
      "outputs": [
        {
          "output_type": "stream",
          "name": "stdout",
          "text": [
            "submit_20.3_42\n"
          ]
        }
      ]
    },
    {
      "cell_type": "code",
      "source": [
        "a = 'www.naver.com'\n",
        "a.split('.')"
      ],
      "metadata": {
        "colab": {
          "base_uri": "https://localhost:8080/"
        },
        "id": "To7uBy5AIFxR",
        "outputId": "1ad82bcf-16c0-4049-9356-443e61bd1d3e"
      },
      "execution_count": 32,
      "outputs": [
        {
          "output_type": "execute_result",
          "data": {
            "text/plain": [
              "['www', 'naver', 'com']"
            ]
          },
          "metadata": {},
          "execution_count": 32
        }
      ]
    },
    {
      "cell_type": "markdown",
      "source": [
        "### 시퀀스 (리스트)"
      ],
      "metadata": {
        "id": "xYj_z1SoMlVE"
      }
    },
    {
      "cell_type": "code",
      "source": [
        "a = [1, 2, 3, 4, 5]\n",
        "a.append(9)\n",
        "\n",
        "print(a)"
      ],
      "metadata": {
        "colab": {
          "base_uri": "https://localhost:8080/"
        },
        "id": "BBj36DPWIRFw",
        "outputId": "8ac5c216-3e07-4aa9-864f-843e78a449b0"
      },
      "execution_count": 34,
      "outputs": [
        {
          "output_type": "stream",
          "name": "stdout",
          "text": [
            "[1, 2, 3, 4, 5, 9]\n"
          ]
        }
      ]
    },
    {
      "cell_type": "code",
      "source": [
        "a = [1, 2, 3]\n",
        "b = ['a', 'b', 'c']\n",
        "\n",
        "a.extend(b)\n",
        "print(a)"
      ],
      "metadata": {
        "colab": {
          "base_uri": "https://localhost:8080/"
        },
        "id": "6NbbcLeVIeul",
        "outputId": "6b6b5a86-3d91-43b0-d4ed-1de298bdae74"
      },
      "execution_count": 44,
      "outputs": [
        {
          "output_type": "stream",
          "name": "stdout",
          "text": [
            "[1, 2, 3, 'a', 'b', 'c']\n"
          ]
        }
      ]
    },
    {
      "cell_type": "code",
      "source": [
        "a = [1, 2, 3]\n",
        "b = ['a', 'b', 'c']\n",
        "\n",
        "a += b\n",
        "print(a)"
      ],
      "metadata": {
        "colab": {
          "base_uri": "https://localhost:8080/"
        },
        "id": "M_0X_0VLIoWM",
        "outputId": "9ade1252-fa20-41eb-bee8-b63bd9ebec88"
      },
      "execution_count": 45,
      "outputs": [
        {
          "output_type": "stream",
          "name": "stdout",
          "text": [
            "[1, 2, 3, 'a', 'b', 'c']\n"
          ]
        }
      ]
    },
    {
      "cell_type": "code",
      "source": [
        "a = [1, 2, 3, 4, 5]\n",
        "a.insert(1, 'a')\n",
        "\n",
        "print(a)"
      ],
      "metadata": {
        "colab": {
          "base_uri": "https://localhost:8080/"
        },
        "id": "DS1vR_1XIkTQ",
        "outputId": "a5258cf0-945f-432c-9571-3391f30518ca"
      },
      "execution_count": 46,
      "outputs": [
        {
          "output_type": "stream",
          "name": "stdout",
          "text": [
            "[1, 'a', 2, 3, 4, 5]\n"
          ]
        }
      ]
    },
    {
      "cell_type": "code",
      "source": [
        "a = [1, 2, 3, 4, 5]\n",
        "a.remove(3)\n",
        "print(a)"
      ],
      "metadata": {
        "colab": {
          "base_uri": "https://localhost:8080/"
        },
        "id": "XC0KVHsLI49p",
        "outputId": "f3529e82-1fb0-456e-a446-6950759a5984"
      },
      "execution_count": 47,
      "outputs": [
        {
          "output_type": "stream",
          "name": "stdout",
          "text": [
            "[1, 2, 4, 5]\n"
          ]
        }
      ]
    },
    {
      "cell_type": "code",
      "source": [
        "original = [1, 2, 3, 4, 5]\n",
        "pop_value = original.pop(2)\n",
        "\n",
        "print(original)\n",
        "print(pop_value)"
      ],
      "metadata": {
        "colab": {
          "base_uri": "https://localhost:8080/"
        },
        "id": "VlTuB0YyJIaQ",
        "outputId": "6f0fa14b-4121-4dd9-df9f-44b1bfe40fb7"
      },
      "execution_count": 49,
      "outputs": [
        {
          "output_type": "stream",
          "name": "stdout",
          "text": [
            "[1, 2, 4, 5]\n",
            "3\n"
          ]
        }
      ]
    },
    {
      "cell_type": "code",
      "source": [
        "a = [1, 3, 6, 9, 12]\n",
        "a.index(3)"
      ],
      "metadata": {
        "colab": {
          "base_uri": "https://localhost:8080/"
        },
        "id": "hQpZFbFUJn7a",
        "outputId": "011a98cb-c677-4ea7-f624-894144268eb5"
      },
      "execution_count": 50,
      "outputs": [
        {
          "output_type": "execute_result",
          "data": {
            "text/plain": [
              "1"
            ]
          },
          "metadata": {},
          "execution_count": 50
        }
      ]
    },
    {
      "cell_type": "code",
      "source": [
        "a = [1, 2, 3, 4, 5, 10]\n",
        "b = 10\n",
        "\n",
        "b in a"
      ],
      "metadata": {
        "colab": {
          "base_uri": "https://localhost:8080/"
        },
        "id": "kAV7932UJulw",
        "outputId": "e0953faa-fbe2-4cce-f4fe-f094829fefc5"
      },
      "execution_count": 58,
      "outputs": [
        {
          "output_type": "execute_result",
          "data": {
            "text/plain": [
              "True"
            ]
          },
          "metadata": {},
          "execution_count": 58
        }
      ]
    },
    {
      "cell_type": "code",
      "source": [
        "a = [75, 55, 100, 95, 65]\n",
        "a.sort()\n",
        "\n",
        "a"
      ],
      "metadata": {
        "colab": {
          "base_uri": "https://localhost:8080/"
        },
        "id": "JrNR8pigJ4GN",
        "outputId": "81eb6ed5-587b-4d4e-db2d-5a143a7bfb4f"
      },
      "execution_count": 62,
      "outputs": [
        {
          "output_type": "execute_result",
          "data": {
            "text/plain": [
              "[55, 65, 75, 95, 100]"
            ]
          },
          "metadata": {},
          "execution_count": 62
        }
      ]
    },
    {
      "cell_type": "code",
      "source": [
        "a = [75, 55, 100, 95, 65]\n",
        "b = sorted(a)\n",
        "print(b)"
      ],
      "metadata": {
        "colab": {
          "base_uri": "https://localhost:8080/"
        },
        "id": "X8ShkwKuKMjE",
        "outputId": "59302cf9-70c0-4b60-b4ab-592964ea3328"
      },
      "execution_count": 63,
      "outputs": [
        {
          "output_type": "stream",
          "name": "stdout",
          "text": [
            "[55, 65, 75, 95, 100]\n"
          ]
        }
      ]
    },
    {
      "cell_type": "markdown",
      "source": [
        "### 시퀀스 (튜플)"
      ],
      "metadata": {
        "id": "GHQm7dr1Mnrd"
      }
    },
    {
      "cell_type": "code",
      "source": [
        "a, b, c, d = 100, 200, 300, 400\n",
        "print(a, b, c, d)"
      ],
      "metadata": {
        "colab": {
          "base_uri": "https://localhost:8080/"
        },
        "id": "KgMAA6QMKWth",
        "outputId": "cc9e2990-cb2c-4ed1-924a-960b6e2aa528"
      },
      "execution_count": 66,
      "outputs": [
        {
          "output_type": "stream",
          "name": "stdout",
          "text": [
            "100 200 300 400\n"
          ]
        }
      ]
    },
    {
      "cell_type": "code",
      "source": [
        "# 인덱싱과 슬라이싱"
      ],
      "metadata": {
        "id": "Dyrk1kbYKpng"
      },
      "execution_count": null,
      "outputs": []
    },
    {
      "cell_type": "markdown",
      "source": [
        "### 시퀀스 (range())"
      ],
      "metadata": {
        "id": "3FLWLNSwOFbl"
      }
    },
    {
      "cell_type": "code",
      "source": [
        "for x in range(5):\n",
        "  print(x)"
      ],
      "metadata": {
        "colab": {
          "base_uri": "https://localhost:8080/"
        },
        "id": "FqxuL1nzK0eo",
        "outputId": "cbf5acf6-52df-4142-925d-7e948f604215"
      },
      "execution_count": 74,
      "outputs": [
        {
          "output_type": "stream",
          "name": "stdout",
          "text": [
            "0\n",
            "1\n",
            "2\n",
            "3\n",
            "4\n"
          ]
        }
      ]
    },
    {
      "cell_type": "code",
      "source": [
        "for x in range(1, 5):\n",
        "  print(x)"
      ],
      "metadata": {
        "colab": {
          "base_uri": "https://localhost:8080/"
        },
        "id": "vXZpD0ZCLGNx",
        "outputId": "638ccc54-d813-4bb7-d3e0-d08df0a464a5"
      },
      "execution_count": 71,
      "outputs": [
        {
          "output_type": "stream",
          "name": "stdout",
          "text": [
            "1\n",
            "2\n",
            "3\n",
            "4\n"
          ]
        }
      ]
    },
    {
      "cell_type": "code",
      "source": [
        "for x in range(1, 5, 2):\n",
        "  print(x)"
      ],
      "metadata": {
        "colab": {
          "base_uri": "https://localhost:8080/"
        },
        "id": "piUfijgDLJwk",
        "outputId": "bdb194b3-87f1-450d-d545-86a28bc93664"
      },
      "execution_count": 73,
      "outputs": [
        {
          "output_type": "stream",
          "name": "stdout",
          "text": [
            "1\n",
            "3\n"
          ]
        }
      ]
    },
    {
      "cell_type": "markdown",
      "source": [
        "### 딕셔너리"
      ],
      "metadata": {
        "id": "PfjOyxVKMno1"
      }
    },
    {
      "cell_type": "markdown",
      "source": [
        "### 세트형"
      ],
      "metadata": {
        "id": "A0_nOF0CMnmN"
      }
    },
    {
      "cell_type": "markdown",
      "source": [
        "## 제어문"
      ],
      "metadata": {
        "id": "oaey_X4IMnjV"
      }
    },
    {
      "cell_type": "markdown",
      "source": [
        "### 반복문 - for"
      ],
      "metadata": {
        "id": "xSCMdrHEMnbm"
      }
    },
    {
      "cell_type": "markdown",
      "source": [
        "### 반복문 - while"
      ],
      "metadata": {
        "id": "K2qOrC0TM_vr"
      }
    },
    {
      "cell_type": "markdown",
      "source": [
        "### 조건문 - if (if ~ elif ~ else)"
      ],
      "metadata": {
        "id": "23bJsLSYNFae"
      }
    }
  ]
}